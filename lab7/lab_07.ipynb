{
 "cells": [
  {
   "cell_type": "markdown",
   "metadata": {},
   "source": [
    "# Assignment lab 07\n",
    "- 10.05.21\n",
    "\n",
    "## Master Class: Machine Learning (5MI2018)\n",
    "- Faculty of Economic Science\n",
    "- University of Neuchatel (Switzerland)\n",
    "- Lab 7, see ML21_Exercise_7.pdf for more information\n",
    "\n",
    "## Authors: \n",
    "- Romain Claret @RomainClaret\n",
    "- Sylvain Robert-Nicoud @Nic0uds"
   ]
  },
  {
   "cell_type": "markdown",
   "metadata": {},
   "source": [
    "| Variable   name                                    | Variable definition                                                                                                                                                                                                              |\n",
    "|----------------------------------------------------|----------------------------------------------------------------------------------------------------------------------------------------------------------------------------------------------------------------------------------|\n",
    "| Identifier variables                               |                                                                                                                                                                                                                                  |\n",
    "| countrycode                                        | 3-letter ISO country code                                                                                                                                                                                                        |\n",
    "| country                                            | Country name                                                                                                                                                                                                                     |\n",
    "| currency_unit                                      | Currency unit                                                                                                                                                                                                                    |\n",
    "| year                                               | Year                                                                                                                                                                                                                             |\n",
    "|                                                    |                                                                                                                                                                                                                                  |\n",
    "| Real   GDP, employment and population levels       |                                                                                                                                                                                                                                  |\n",
    "| rgdpe                                              | Expenditure-side real GDP at   chained PPPs (in mil. 2017US$)                                                                                                                                                                    |\n",
    "| rgdpo                                              | Output-side real GDP at chained   PPPs (in mil. 2017US$)                                                                                                                                                                         |\n",
    "| pop                                                | Population (in millions)                                                                                                                                                                                                         |\n",
    "| emp                                                | Number of persons engaged (in   millions)                                                                                                                                                                                        |\n",
    "| avh                                                | Average annual hours worked by   persons engaged                                                                                                                                                                                 |\n",
    "| hc                                                 | Human capital index, based on   years of schooling and returns to education; see Human capital in PWT9.                                                                                                                          |\n",
    "|                                                    |                                                                                                                                                                                                                                  |\n",
    "| Current   price GDP, capital and TFP               |                                                                                                                                                                                                                                  |\n",
    "| ccon                                               | Real consumption of households   and government, at current PPPs (in mil. 2017US$)                                                                                                                                               |\n",
    "| cda                                                | Real domestic absorption, (real   consumption plus investment), at current PPPs (in mil. 2017US$)                                                                                                                                |\n",
    "| cgdpe                                              | Expenditure-side real GDP at   current PPPs (in mil. 2017US$)                                                                                                                                                                    |\n",
    "| cgdpo                                              | Output-side real GDP at current   PPPs (in mil. 2017US$)                                                                                                                                                                         |\n",
    "| cn                                                 | Capital stock at current PPPs   (in mil. 2017US$)                                                                                                                                                                                |\n",
    "| ck                                                 | Capital services levels at   current PPPs (USA=1)                                                                                                                                                                                |\n",
    "| ctfp                                               | TFP level at current PPPs (USA=1)                                                                                                                                                                                                |\n",
    "| cwtfp                                              | Welfare-relevant TFP levels at   current PPPs (USA=1)                                                                                                                                                                            |\n",
    "|                                                    |                                                                                                                                                                                                                                  |\n",
    "| National   accounts-based variables                |                                                                                                                                                                                                                                  |\n",
    "| rgdpna                                             | Real GDP at constant 2017   national prices (in mil. 2017US$)                                                                                                                                                                    |\n",
    "| rconna                                             | Real consumption at constant   2017 national prices (in mil. 2017US$)                                                                                                                                                            |\n",
    "| rdana                                              | Real domestic absorption at   constant 2017 national prices (in mil. 2017US$)                                                                                                                                                    |\n",
    "| rnna                                               | Capital stock at constant 2017   national prices (in mil. 2017US$)                                                                                                                                                               |\n",
    "| rkna                                               | Capital services at constant   2017 national prices (2017=1)                                                                                                                                                                     |\n",
    "| rtfpna                                             | TFP at constant national prices   (2017=1)                                                                                                                                                                                       |\n",
    "| rwtfpna                                            | Welfare-relevant TFP at constant   national prices (2017=1)                                                                                                                                                                      |\n",
    "| labsh                                              | Share of labour compensation in   GDP at current national prices                                                                                                                                                                 |\n",
    "| irr                                                | Real internal rate of return                                                                                                                                                                                                     |\n",
    "| delta                                              | Average depreciation rate of the   capital stock                                                                                                                                                                                 |\n",
    "|                                                    |                                                                                                                                                                                                                                  |\n",
    "| Exchange   rates and GDP price levels              |                                                                                                                                                                                                                                  |\n",
    "| xr                                                 | Exchange rate, national   currency/USD (market+estimated)                                                                                                                                                                        |\n",
    "| pl_con                                             | Price level of CCON (PPP/XR),   price level of USA GDPo in 2017=1                                                                                                                                                                |\n",
    "| pl_da                                              | Price level of CDA (PPP/XR),   price level of USA GDPo in 2017=1                                                                                                                                                                 |\n",
    "| pl_gdpo                                            | Price level of CGDPo (PPP/XR),   price level of USA GDPo in 2017=1                                                                                                                                                               |\n",
    "|                                                    |                                                                                                                                                                                                                                  |\n",
    "| Data information variables                         |                                                                                                                                                                                                                                  |\n",
    "| i_cig                                              | 0/1/2/3/4: relative price data   for consumption, investment and government is extrapolated (0), benchmark   (1), interpolated (2), ICP PPP timeseries: benchmark or interpolated (3)   or  ICP PPP timeseries: extrapolated (4) |\n",
    "| i_xm                                               | 0/1/2: relative price data for   exports and imports is extrapolated (0), benchmark (1) or interpolated (2)                                                                                                                      |\n",
    "| i_xr                                               | 0/1: the exchange rate is   market-based (0) or estimated (1)                                                                                                                                                                    |\n",
    "| i_outlier                                          | 0/1: the observation on pl_gdpe   or pl_gdpo is not an outlier (0) or an outlier (1)                                                                                                                                             |\n",
    "| i_irr                                              | 0/1/2/3: the observation for irr   is not an outlier (0), may be biased due to a low capital share (1), hit the   lower bound of 1 percent (2), or is an outlier (3)                                                             |\n",
    "| cor_exp                                            | Correlation between expenditure   shares of the country and the US (benchmark observations only)                                                                                                                                 |\n",
    "| statcap                                            | Statistical capacity indicator   (source: World Bank, developing countries only)                                                                                                                                                 |\n",
    "|                                                    |                                                                                                                                                                                                                                  |\n",
    "| Shares in CGDPo                                    |                                                                                                                                                                                                                                  |\n",
    "| csh_c                                              | Share of household consumption   at current PPPs                                                                                                                                                                                 |\n",
    "| csh_i                                              | Share of gross capital formation   at current PPPs                                                                                                                                                                               |\n",
    "| csh_g                                              | Share of government consumption   at current PPPs                                                                                                                                                                                |\n",
    "| csh_x                                              | Share of merchandise exports at   current PPPs                                                                                                                                                                                   |\n",
    "| csh_m                                              | Share of merchandise imports at   current PPPs                                                                                                                                                                                   |\n",
    "| csh_r                                              | Share of residual trade and GDP   statistical discrepancy at current PPPs                                                                                                                                                        |\n",
    "|                                                    |                                                                                                                                                                                                                                  |\n",
    "| Price   levels, expenditure categories and capital |                                                                                                                                                                                                                                  |\n",
    "| pl_c                                               | Price level of household   consumption,  price level of USA GDPo   in 2017=1                                                                                                                                                     |\n",
    "| pl_i                                               | Price level of capital   formation,  price level of USA GDPo in   2017=1                                                                                                                                                         |\n",
    "| pl_g                                               | Price level of government   consumption,  price level of USA GDPo   in 2017=1                                                                                                                                                    |\n",
    "| pl_x                                               | Price level of exports, price   level of USA GDPo in 2017=1                                                                                                                                                                      |\n",
    "| pl_m                                               | Price level of imports, price   level of USA GDPo in 2017=1                                                                                                                                                                      |\n",
    "| pl_n                                               | Price level of the capital   stock, price level of USA in 2017=1                                                                                                                                                                 |\n",
    "| pl_k                                               | Price level of the capital   services, price level of USA=1                                                                                                                                                                      |"
   ]
  },
  {
   "cell_type": "code",
   "execution_count": 2,
   "metadata": {},
   "outputs": [],
   "source": [
    "import pandas as pd\n",
    "\n",
    "df = pd.read_stata('pwt100.dta')"
   ]
  },
  {
   "cell_type": "code",
   "execution_count": null,
   "metadata": {},
   "outputs": [],
   "source": []
  },
  {
   "cell_type": "code",
   "execution_count": 3,
   "metadata": {},
   "outputs": [
    {
     "name": "stdout",
     "output_type": "stream",
     "text": [
      "<class 'pandas.core.frame.DataFrame'>\n",
      "Int64Index: 12810 entries, 0 to 12809\n",
      "Data columns (total 52 columns):\n",
      " #   Column         Non-Null Count  Dtype   \n",
      "---  ------         --------------  -----   \n",
      " 0   countrycode    12810 non-null  object  \n",
      " 1   country        12810 non-null  object  \n",
      " 2   currency_unit  12810 non-null  object  \n",
      " 3   year           12810 non-null  int16   \n",
      " 4   rgdpe          10399 non-null  float32 \n",
      " 5   rgdpo          10399 non-null  float32 \n",
      " 6   pop            10399 non-null  float64 \n",
      " 7   emp            9529 non-null   float32 \n",
      " 8   avh            3492 non-null   float64 \n",
      " 9   hc             8637 non-null   float32 \n",
      " 10  ccon           10399 non-null  float32 \n",
      " 11  cda            10399 non-null  float32 \n",
      " 12  cgdpe          10399 non-null  float32 \n",
      " 13  cgdpo          10395 non-null  float32 \n",
      " 14  cn             10314 non-null  float32 \n",
      " 15  ck             7095 non-null   float32 \n",
      " 16  ctfp           6412 non-null   float32 \n",
      " 17  cwtfp          6412 non-null   float32 \n",
      " 18  rgdpna         10399 non-null  float32 \n",
      " 19  rconna         10399 non-null  float32 \n",
      " 20  rdana          10399 non-null  float32 \n",
      " 21  rnna           10314 non-null  float32 \n",
      " 22  rkna           7095 non-null   float32 \n",
      " 23  rtfpna         6412 non-null   float32 \n",
      " 24  rwtfpna        6412 non-null   float32 \n",
      " 25  labsh          7970 non-null   float32 \n",
      " 26  irr            7540 non-null   float32 \n",
      " 27  delta          10314 non-null  float32 \n",
      " 28  xr             10399 non-null  float64 \n",
      " 29  pl_con         10399 non-null  float32 \n",
      " 30  pl_da          10399 non-null  float32 \n",
      " 31  pl_gdpo        10399 non-null  float32 \n",
      " 32  i_cig          10399 non-null  category\n",
      " 33  i_xm           10399 non-null  category\n",
      " 34  i_xr           10399 non-null  category\n",
      " 35  i_outlier      10399 non-null  category\n",
      " 36  i_irr          7540 non-null   category\n",
      " 37  cor_exp        1653 non-null   float64 \n",
      " 38  statcap        2117 non-null   float64 \n",
      " 39  csh_c          10399 non-null  float32 \n",
      " 40  csh_i          10399 non-null  float32 \n",
      " 41  csh_g          10399 non-null  float32 \n",
      " 42  csh_x          10399 non-null  float32 \n",
      " 43  csh_m          10399 non-null  float32 \n",
      " 44  csh_r          10399 non-null  float32 \n",
      " 45  pl_c           10399 non-null  float32 \n",
      " 46  pl_i           10399 non-null  float32 \n",
      " 47  pl_g           10399 non-null  float32 \n",
      " 48  pl_x           10399 non-null  float32 \n",
      " 49  pl_m           10399 non-null  float32 \n",
      " 50  pl_n           10314 non-null  float32 \n",
      " 51  pl_k           7095 non-null   float32 \n",
      "dtypes: category(5), float32(38), float64(5), int16(1), object(3)\n",
      "memory usage: 2.8+ MB\n"
     ]
    }
   ],
   "source": [
    "df.info()"
   ]
  },
  {
   "cell_type": "code",
   "execution_count": 4,
   "metadata": {},
   "outputs": [
    {
     "data": {
      "text/html": [
       "<div>\n",
       "<style scoped>\n",
       "    .dataframe tbody tr th:only-of-type {\n",
       "        vertical-align: middle;\n",
       "    }\n",
       "\n",
       "    .dataframe tbody tr th {\n",
       "        vertical-align: top;\n",
       "    }\n",
       "\n",
       "    .dataframe thead th {\n",
       "        text-align: right;\n",
       "    }\n",
       "</style>\n",
       "<table border=\"1\" class=\"dataframe\">\n",
       "  <thead>\n",
       "    <tr style=\"text-align: right;\">\n",
       "      <th></th>\n",
       "      <th>countrycode</th>\n",
       "      <th>country</th>\n",
       "      <th>currency_unit</th>\n",
       "      <th>year</th>\n",
       "      <th>rgdpe</th>\n",
       "      <th>rgdpo</th>\n",
       "      <th>pop</th>\n",
       "      <th>emp</th>\n",
       "      <th>avh</th>\n",
       "      <th>hc</th>\n",
       "      <th>...</th>\n",
       "      <th>csh_x</th>\n",
       "      <th>csh_m</th>\n",
       "      <th>csh_r</th>\n",
       "      <th>pl_c</th>\n",
       "      <th>pl_i</th>\n",
       "      <th>pl_g</th>\n",
       "      <th>pl_x</th>\n",
       "      <th>pl_m</th>\n",
       "      <th>pl_n</th>\n",
       "      <th>pl_k</th>\n",
       "    </tr>\n",
       "  </thead>\n",
       "  <tbody>\n",
       "    <tr>\n",
       "      <th>0</th>\n",
       "      <td>ABW</td>\n",
       "      <td>Aruba</td>\n",
       "      <td>Aruban Guilder</td>\n",
       "      <td>1950</td>\n",
       "      <td>NaN</td>\n",
       "      <td>NaN</td>\n",
       "      <td>NaN</td>\n",
       "      <td>NaN</td>\n",
       "      <td>NaN</td>\n",
       "      <td>NaN</td>\n",
       "      <td>...</td>\n",
       "      <td>NaN</td>\n",
       "      <td>NaN</td>\n",
       "      <td>NaN</td>\n",
       "      <td>NaN</td>\n",
       "      <td>NaN</td>\n",
       "      <td>NaN</td>\n",
       "      <td>NaN</td>\n",
       "      <td>NaN</td>\n",
       "      <td>NaN</td>\n",
       "      <td>NaN</td>\n",
       "    </tr>\n",
       "    <tr>\n",
       "      <th>1</th>\n",
       "      <td>ABW</td>\n",
       "      <td>Aruba</td>\n",
       "      <td>Aruban Guilder</td>\n",
       "      <td>1951</td>\n",
       "      <td>NaN</td>\n",
       "      <td>NaN</td>\n",
       "      <td>NaN</td>\n",
       "      <td>NaN</td>\n",
       "      <td>NaN</td>\n",
       "      <td>NaN</td>\n",
       "      <td>...</td>\n",
       "      <td>NaN</td>\n",
       "      <td>NaN</td>\n",
       "      <td>NaN</td>\n",
       "      <td>NaN</td>\n",
       "      <td>NaN</td>\n",
       "      <td>NaN</td>\n",
       "      <td>NaN</td>\n",
       "      <td>NaN</td>\n",
       "      <td>NaN</td>\n",
       "      <td>NaN</td>\n",
       "    </tr>\n",
       "    <tr>\n",
       "      <th>2</th>\n",
       "      <td>ABW</td>\n",
       "      <td>Aruba</td>\n",
       "      <td>Aruban Guilder</td>\n",
       "      <td>1952</td>\n",
       "      <td>NaN</td>\n",
       "      <td>NaN</td>\n",
       "      <td>NaN</td>\n",
       "      <td>NaN</td>\n",
       "      <td>NaN</td>\n",
       "      <td>NaN</td>\n",
       "      <td>...</td>\n",
       "      <td>NaN</td>\n",
       "      <td>NaN</td>\n",
       "      <td>NaN</td>\n",
       "      <td>NaN</td>\n",
       "      <td>NaN</td>\n",
       "      <td>NaN</td>\n",
       "      <td>NaN</td>\n",
       "      <td>NaN</td>\n",
       "      <td>NaN</td>\n",
       "      <td>NaN</td>\n",
       "    </tr>\n",
       "    <tr>\n",
       "      <th>3</th>\n",
       "      <td>ABW</td>\n",
       "      <td>Aruba</td>\n",
       "      <td>Aruban Guilder</td>\n",
       "      <td>1953</td>\n",
       "      <td>NaN</td>\n",
       "      <td>NaN</td>\n",
       "      <td>NaN</td>\n",
       "      <td>NaN</td>\n",
       "      <td>NaN</td>\n",
       "      <td>NaN</td>\n",
       "      <td>...</td>\n",
       "      <td>NaN</td>\n",
       "      <td>NaN</td>\n",
       "      <td>NaN</td>\n",
       "      <td>NaN</td>\n",
       "      <td>NaN</td>\n",
       "      <td>NaN</td>\n",
       "      <td>NaN</td>\n",
       "      <td>NaN</td>\n",
       "      <td>NaN</td>\n",
       "      <td>NaN</td>\n",
       "    </tr>\n",
       "    <tr>\n",
       "      <th>4</th>\n",
       "      <td>ABW</td>\n",
       "      <td>Aruba</td>\n",
       "      <td>Aruban Guilder</td>\n",
       "      <td>1954</td>\n",
       "      <td>NaN</td>\n",
       "      <td>NaN</td>\n",
       "      <td>NaN</td>\n",
       "      <td>NaN</td>\n",
       "      <td>NaN</td>\n",
       "      <td>NaN</td>\n",
       "      <td>...</td>\n",
       "      <td>NaN</td>\n",
       "      <td>NaN</td>\n",
       "      <td>NaN</td>\n",
       "      <td>NaN</td>\n",
       "      <td>NaN</td>\n",
       "      <td>NaN</td>\n",
       "      <td>NaN</td>\n",
       "      <td>NaN</td>\n",
       "      <td>NaN</td>\n",
       "      <td>NaN</td>\n",
       "    </tr>\n",
       "  </tbody>\n",
       "</table>\n",
       "<p>5 rows × 52 columns</p>\n",
       "</div>"
      ],
      "text/plain": [
       "  countrycode country   currency_unit  year  rgdpe  rgdpo  pop  emp  avh  hc  \\\n",
       "0         ABW   Aruba  Aruban Guilder  1950    NaN    NaN  NaN  NaN  NaN NaN   \n",
       "1         ABW   Aruba  Aruban Guilder  1951    NaN    NaN  NaN  NaN  NaN NaN   \n",
       "2         ABW   Aruba  Aruban Guilder  1952    NaN    NaN  NaN  NaN  NaN NaN   \n",
       "3         ABW   Aruba  Aruban Guilder  1953    NaN    NaN  NaN  NaN  NaN NaN   \n",
       "4         ABW   Aruba  Aruban Guilder  1954    NaN    NaN  NaN  NaN  NaN NaN   \n",
       "\n",
       "   ...  csh_x  csh_m  csh_r  pl_c  pl_i  pl_g  pl_x  pl_m  pl_n  pl_k  \n",
       "0  ...    NaN    NaN    NaN   NaN   NaN   NaN   NaN   NaN   NaN   NaN  \n",
       "1  ...    NaN    NaN    NaN   NaN   NaN   NaN   NaN   NaN   NaN   NaN  \n",
       "2  ...    NaN    NaN    NaN   NaN   NaN   NaN   NaN   NaN   NaN   NaN  \n",
       "3  ...    NaN    NaN    NaN   NaN   NaN   NaN   NaN   NaN   NaN   NaN  \n",
       "4  ...    NaN    NaN    NaN   NaN   NaN   NaN   NaN   NaN   NaN   NaN  \n",
       "\n",
       "[5 rows x 52 columns]"
      ]
     },
     "execution_count": 4,
     "metadata": {},
     "output_type": "execute_result"
    }
   ],
   "source": [
    "df.head()"
   ]
  },
  {
   "cell_type": "code",
   "execution_count": 5,
   "metadata": {},
   "outputs": [],
   "source": [
    "# 1. Import the data and filter the two datasets for the chosen two years.\n",
    "#df_1990 = df[(df[\"year\"]==1990)]\n",
    "#df_1970 = df[(df[\"year\"]==1970)]\n",
    "\n",
    "#df"
   ]
  },
  {
   "cell_type": "code",
   "execution_count": 6,
   "metadata": {},
   "outputs": [],
   "source": [
    "#import pandas_profiling\n",
    "#df_1990.profile_report()\n",
    "#df_1990.profile_report().to_file(\"pwt_profile_report.html\")"
   ]
  },
  {
   "cell_type": "code",
   "execution_count": 7,
   "metadata": {},
   "outputs": [],
   "source": [
    "features = [\n",
    "    #\"country\",\n",
    "    \"hc\",\n",
    "    \"ctfp\",\n",
    "    \"cwtfp\",\n",
    "    \"delta\",\n",
    "    \"pl_con\",\n",
    "    \"pl_da\",\n",
    "    \"pl_gdpo\",\n",
    "    \"csh_g\",\n",
    "    \"pl_c\",\n",
    "    \"pl_i\",\n",
    "    \"pl_g\",\n",
    "    #\"pl_k\",\n",
    "]"
   ]
  },
  {
   "cell_type": "code",
   "execution_count": 8,
   "metadata": {},
   "outputs": [],
   "source": [
    "features_logarithmic = [\n",
    "    \"rgdpe\",\n",
    "    \"pop\",\n",
    "    \"ccon\",\n",
    "    \"rgdpna\",\n",
    "    \"rconna\",\n",
    "    \"xr\",\n",
    "]"
   ]
  },
  {
   "cell_type": "code",
   "execution_count": 19,
   "metadata": {},
   "outputs": [],
   "source": [
    "trageted_feature = [\n",
    "    \"rgdpna\", # log required\n",
    "    #\"rgdpna\", # log not required\n",
    "]"
   ]
  },
  {
   "cell_type": "code",
   "execution_count": 20,
   "metadata": {},
   "outputs": [
    {
     "data": {
      "text/html": [
       "<div>\n",
       "<style scoped>\n",
       "    .dataframe tbody tr th:only-of-type {\n",
       "        vertical-align: middle;\n",
       "    }\n",
       "\n",
       "    .dataframe tbody tr th {\n",
       "        vertical-align: top;\n",
       "    }\n",
       "\n",
       "    .dataframe thead th {\n",
       "        text-align: right;\n",
       "    }\n",
       "</style>\n",
       "<table border=\"1\" class=\"dataframe\">\n",
       "  <thead>\n",
       "    <tr style=\"text-align: right;\">\n",
       "      <th></th>\n",
       "      <th>year</th>\n",
       "      <th>rgdpe</th>\n",
       "      <th>rgdpo</th>\n",
       "      <th>pop</th>\n",
       "      <th>emp</th>\n",
       "      <th>avh</th>\n",
       "      <th>hc</th>\n",
       "      <th>ccon</th>\n",
       "      <th>cda</th>\n",
       "      <th>cgdpe</th>\n",
       "      <th>...</th>\n",
       "      <th>csh_x</th>\n",
       "      <th>csh_m</th>\n",
       "      <th>csh_r</th>\n",
       "      <th>pl_c</th>\n",
       "      <th>pl_i</th>\n",
       "      <th>pl_g</th>\n",
       "      <th>pl_x</th>\n",
       "      <th>pl_m</th>\n",
       "      <th>pl_n</th>\n",
       "      <th>pl_k</th>\n",
       "    </tr>\n",
       "  </thead>\n",
       "  <tbody>\n",
       "    <tr>\n",
       "      <th>count</th>\n",
       "      <td>12810.000000</td>\n",
       "      <td>1.039900e+04</td>\n",
       "      <td>1.039900e+04</td>\n",
       "      <td>10399.000000</td>\n",
       "      <td>9529.000000</td>\n",
       "      <td>3492.000000</td>\n",
       "      <td>8637.000000</td>\n",
       "      <td>1.039900e+04</td>\n",
       "      <td>1.039900e+04</td>\n",
       "      <td>1.039900e+04</td>\n",
       "      <td>...</td>\n",
       "      <td>10399.000000</td>\n",
       "      <td>10399.000000</td>\n",
       "      <td>10399.000000</td>\n",
       "      <td>10399.000000</td>\n",
       "      <td>10399.000000</td>\n",
       "      <td>10399.000000</td>\n",
       "      <td>10399.000000</td>\n",
       "      <td>10399.000000</td>\n",
       "      <td>10314.000000</td>\n",
       "      <td>7095.000000</td>\n",
       "    </tr>\n",
       "    <tr>\n",
       "      <th>mean</th>\n",
       "      <td>1984.500000</td>\n",
       "      <td>3.048523e+05</td>\n",
       "      <td>3.070802e+05</td>\n",
       "      <td>30.962982</td>\n",
       "      <td>14.171166</td>\n",
       "      <td>1986.923200</td>\n",
       "      <td>2.087200</td>\n",
       "      <td>2.249465e+05</td>\n",
       "      <td>3.049463e+05</td>\n",
       "      <td>3.061396e+05</td>\n",
       "      <td>...</td>\n",
       "      <td>0.229317</td>\n",
       "      <td>-0.300829</td>\n",
       "      <td>0.017791</td>\n",
       "      <td>0.370850</td>\n",
       "      <td>0.423964</td>\n",
       "      <td>0.345635</td>\n",
       "      <td>0.409820</td>\n",
       "      <td>0.403422</td>\n",
       "      <td>0.359019</td>\n",
       "      <td>1.333927</td>\n",
       "    </tr>\n",
       "    <tr>\n",
       "      <th>std</th>\n",
       "      <td>20.205986</td>\n",
       "      <td>1.214332e+06</td>\n",
       "      <td>1.218457e+06</td>\n",
       "      <td>116.189454</td>\n",
       "      <td>58.056976</td>\n",
       "      <td>284.003338</td>\n",
       "      <td>0.727413</td>\n",
       "      <td>8.882342e+05</td>\n",
       "      <td>1.236096e+06</td>\n",
       "      <td>1.226056e+06</td>\n",
       "      <td>...</td>\n",
       "      <td>0.266793</td>\n",
       "      <td>0.640212</td>\n",
       "      <td>0.216200</td>\n",
       "      <td>0.424091</td>\n",
       "      <td>0.635708</td>\n",
       "      <td>0.408015</td>\n",
       "      <td>0.196283</td>\n",
       "      <td>0.202566</td>\n",
       "      <td>0.435651</td>\n",
       "      <td>1.941819</td>\n",
       "    </tr>\n",
       "    <tr>\n",
       "      <th>min</th>\n",
       "      <td>1950.000000</td>\n",
       "      <td>2.036377e+01</td>\n",
       "      <td>2.765232e+01</td>\n",
       "      <td>0.004425</td>\n",
       "      <td>0.001200</td>\n",
       "      <td>1380.607643</td>\n",
       "      <td>1.007038</td>\n",
       "      <td>1.604856e+01</td>\n",
       "      <td>2.176663e+01</td>\n",
       "      <td>2.026185e+01</td>\n",
       "      <td>...</td>\n",
       "      <td>-1.937363</td>\n",
       "      <td>-23.237627</td>\n",
       "      <td>-12.568965</td>\n",
       "      <td>0.015589</td>\n",
       "      <td>0.006002</td>\n",
       "      <td>0.009270</td>\n",
       "      <td>0.007354</td>\n",
       "      <td>0.020806</td>\n",
       "      <td>0.012977</td>\n",
       "      <td>0.064378</td>\n",
       "    </tr>\n",
       "    <tr>\n",
       "      <th>25%</th>\n",
       "      <td>1967.000000</td>\n",
       "      <td>6.801782e+03</td>\n",
       "      <td>7.191773e+03</td>\n",
       "      <td>1.579663</td>\n",
       "      <td>0.775101</td>\n",
       "      <td>1788.478805</td>\n",
       "      <td>1.450483</td>\n",
       "      <td>5.892980e+03</td>\n",
       "      <td>7.194495e+03</td>\n",
       "      <td>6.689781e+03</td>\n",
       "      <td>...</td>\n",
       "      <td>0.067027</td>\n",
       "      <td>-0.379584</td>\n",
       "      <td>-0.025204</td>\n",
       "      <td>0.171226</td>\n",
       "      <td>0.191958</td>\n",
       "      <td>0.116110</td>\n",
       "      <td>0.237652</td>\n",
       "      <td>0.240777</td>\n",
       "      <td>0.164152</td>\n",
       "      <td>0.650608</td>\n",
       "    </tr>\n",
       "    <tr>\n",
       "      <th>50%</th>\n",
       "      <td>1984.500000</td>\n",
       "      <td>3.031913e+04</td>\n",
       "      <td>3.084435e+04</td>\n",
       "      <td>6.150688</td>\n",
       "      <td>2.856044</td>\n",
       "      <td>1972.355973</td>\n",
       "      <td>1.987572</td>\n",
       "      <td>2.465417e+04</td>\n",
       "      <td>3.134864e+04</td>\n",
       "      <td>3.031841e+04</td>\n",
       "      <td>...</td>\n",
       "      <td>0.140116</td>\n",
       "      <td>-0.200254</td>\n",
       "      <td>0.000326</td>\n",
       "      <td>0.306258</td>\n",
       "      <td>0.377943</td>\n",
       "      <td>0.244554</td>\n",
       "      <td>0.443856</td>\n",
       "      <td>0.452949</td>\n",
       "      <td>0.295862</td>\n",
       "      <td>0.954343</td>\n",
       "    </tr>\n",
       "    <tr>\n",
       "      <th>75%</th>\n",
       "      <td>2002.000000</td>\n",
       "      <td>1.559740e+05</td>\n",
       "      <td>1.587386e+05</td>\n",
       "      <td>19.934229</td>\n",
       "      <td>8.266107</td>\n",
       "      <td>2168.035042</td>\n",
       "      <td>2.674011</td>\n",
       "      <td>1.133967e+05</td>\n",
       "      <td>1.532297e+05</td>\n",
       "      <td>1.559242e+05</td>\n",
       "      <td>...</td>\n",
       "      <td>0.300332</td>\n",
       "      <td>-0.102694</td>\n",
       "      <td>0.044529</td>\n",
       "      <td>0.484549</td>\n",
       "      <td>0.557087</td>\n",
       "      <td>0.452951</td>\n",
       "      <td>0.557034</td>\n",
       "      <td>0.541063</td>\n",
       "      <td>0.447566</td>\n",
       "      <td>1.415062</td>\n",
       "    </tr>\n",
       "    <tr>\n",
       "      <th>max</th>\n",
       "      <td>2019.000000</td>\n",
       "      <td>2.086051e+07</td>\n",
       "      <td>2.059584e+07</td>\n",
       "      <td>1433.783686</td>\n",
       "      <td>799.306641</td>\n",
       "      <td>3039.794005</td>\n",
       "      <td>4.351568</td>\n",
       "      <td>1.682624e+07</td>\n",
       "      <td>2.138355e+07</td>\n",
       "      <td>2.079136e+07</td>\n",
       "      <td>...</td>\n",
       "      <td>3.523480</td>\n",
       "      <td>32.874020</td>\n",
       "      <td>7.598285</td>\n",
       "      <td>23.122841</td>\n",
       "      <td>34.444988</td>\n",
       "      <td>18.420809</td>\n",
       "      <td>2.056070</td>\n",
       "      <td>4.990355</td>\n",
       "      <td>20.649197</td>\n",
       "      <td>31.931993</td>\n",
       "    </tr>\n",
       "  </tbody>\n",
       "</table>\n",
       "<p>8 rows × 44 columns</p>\n",
       "</div>"
      ],
      "text/plain": [
       "               year         rgdpe         rgdpo           pop          emp  \\\n",
       "count  12810.000000  1.039900e+04  1.039900e+04  10399.000000  9529.000000   \n",
       "mean    1984.500000  3.048523e+05  3.070802e+05     30.962982    14.171166   \n",
       "std       20.205986  1.214332e+06  1.218457e+06    116.189454    58.056976   \n",
       "min     1950.000000  2.036377e+01  2.765232e+01      0.004425     0.001200   \n",
       "25%     1967.000000  6.801782e+03  7.191773e+03      1.579663     0.775101   \n",
       "50%     1984.500000  3.031913e+04  3.084435e+04      6.150688     2.856044   \n",
       "75%     2002.000000  1.559740e+05  1.587386e+05     19.934229     8.266107   \n",
       "max     2019.000000  2.086051e+07  2.059584e+07   1433.783686   799.306641   \n",
       "\n",
       "               avh           hc          ccon           cda         cgdpe  \\\n",
       "count  3492.000000  8637.000000  1.039900e+04  1.039900e+04  1.039900e+04   \n",
       "mean   1986.923200     2.087200  2.249465e+05  3.049463e+05  3.061396e+05   \n",
       "std     284.003338     0.727413  8.882342e+05  1.236096e+06  1.226056e+06   \n",
       "min    1380.607643     1.007038  1.604856e+01  2.176663e+01  2.026185e+01   \n",
       "25%    1788.478805     1.450483  5.892980e+03  7.194495e+03  6.689781e+03   \n",
       "50%    1972.355973     1.987572  2.465417e+04  3.134864e+04  3.031841e+04   \n",
       "75%    2168.035042     2.674011  1.133967e+05  1.532297e+05  1.559242e+05   \n",
       "max    3039.794005     4.351568  1.682624e+07  2.138355e+07  2.079136e+07   \n",
       "\n",
       "       ...         csh_x         csh_m         csh_r          pl_c  \\\n",
       "count  ...  10399.000000  10399.000000  10399.000000  10399.000000   \n",
       "mean   ...      0.229317     -0.300829      0.017791      0.370850   \n",
       "std    ...      0.266793      0.640212      0.216200      0.424091   \n",
       "min    ...     -1.937363    -23.237627    -12.568965      0.015589   \n",
       "25%    ...      0.067027     -0.379584     -0.025204      0.171226   \n",
       "50%    ...      0.140116     -0.200254      0.000326      0.306258   \n",
       "75%    ...      0.300332     -0.102694      0.044529      0.484549   \n",
       "max    ...      3.523480     32.874020      7.598285     23.122841   \n",
       "\n",
       "               pl_i          pl_g          pl_x          pl_m          pl_n  \\\n",
       "count  10399.000000  10399.000000  10399.000000  10399.000000  10314.000000   \n",
       "mean       0.423964      0.345635      0.409820      0.403422      0.359019   \n",
       "std        0.635708      0.408015      0.196283      0.202566      0.435651   \n",
       "min        0.006002      0.009270      0.007354      0.020806      0.012977   \n",
       "25%        0.191958      0.116110      0.237652      0.240777      0.164152   \n",
       "50%        0.377943      0.244554      0.443856      0.452949      0.295862   \n",
       "75%        0.557087      0.452951      0.557034      0.541063      0.447566   \n",
       "max       34.444988     18.420809      2.056070      4.990355     20.649197   \n",
       "\n",
       "              pl_k  \n",
       "count  7095.000000  \n",
       "mean      1.333927  \n",
       "std       1.941819  \n",
       "min       0.064378  \n",
       "25%       0.650608  \n",
       "50%       0.954343  \n",
       "75%       1.415062  \n",
       "max      31.931993  \n",
       "\n",
       "[8 rows x 44 columns]"
      ]
     },
     "execution_count": 20,
     "metadata": {},
     "output_type": "execute_result"
    }
   ],
   "source": [
    "df.describe()"
   ]
  },
  {
   "cell_type": "code",
   "execution_count": 21,
   "metadata": {},
   "outputs": [
    {
     "data": {
      "text/plain": [
       "12810"
      ]
     },
     "execution_count": 21,
     "metadata": {},
     "output_type": "execute_result"
    }
   ],
   "source": [
    "import numpy as np\n",
    "from sklearn.preprocessing import FunctionTransformer\n",
    "log_transformer = FunctionTransformer(np.log1p)\n",
    "df_log_features = df[features_logarithmic+trageted_feature]\n",
    "df_log = log_transformer.transform(df_log_features)\n",
    "\n",
    "len(df_log)"
   ]
  },
  {
   "cell_type": "code",
   "execution_count": 22,
   "metadata": {},
   "outputs": [
    {
     "data": {
      "text/plain": [
       "12810"
      ]
     },
     "execution_count": 22,
     "metadata": {},
     "output_type": "execute_result"
    }
   ],
   "source": [
    "df_concat = pd.concat([df[features], df_log], axis=1, join=\"inner\")\n",
    "len(df_log)"
   ]
  },
  {
   "cell_type": "code",
   "execution_count": 23,
   "metadata": {},
   "outputs": [
    {
     "data": {
      "text/plain": [
       "6412"
      ]
     },
     "execution_count": 23,
     "metadata": {},
     "output_type": "execute_result"
    }
   ],
   "source": [
    "df_cleaned = df_concat.dropna()\n",
    "len(df_cleaned)"
   ]
  },
  {
   "cell_type": "code",
   "execution_count": 55,
   "metadata": {},
   "outputs": [
    {
     "data": {
      "text/plain": [
       "6412"
      ]
     },
     "execution_count": 55,
     "metadata": {},
     "output_type": "execute_result"
    }
   ],
   "source": [
    "from sklearn.preprocessing import Normalizer\n",
    "df_normalized = pd.DataFrame(Normalizer().fit_transform(df_cleaned[features+features_logarithmic+trageted_feature]))\n",
    "len(df_normalized)"
   ]
  },
  {
   "cell_type": "code",
   "execution_count": 86,
   "metadata": {},
   "outputs": [],
   "source": [
    "from sklearn.neural_network import MLPRegressor\n",
    "from sklearn.model_selection import train_test_split\n",
    "from sklearn.preprocessing import StandardScaler\n",
    "\n",
    "X = pd.DataFrame(df_normalized,columns=df_normalized.columns[:-1])\n",
    "y = pd.DataFrame(df_normalized,columns=[df_normalized.columns[-1]])\n",
    "\n",
    "X_train, X_test, y_train, y_test = train_test_split(X, y,random_state=1, test_size=0.2)\n",
    "\n",
    "sc_X = StandardScaler()\n",
    "X_trainscaled=sc_X.fit_transform(X_train)\n",
    "X_testscaled=sc_X.transform(X_test)"
   ]
  },
  {
   "cell_type": "code",
   "execution_count": 98,
   "metadata": {},
   "outputs": [
    {
     "data": {
      "text/plain": [
       "array([[-0.18171014, -0.85588352, -0.88663896, ...,  0.1689676 ,\n",
       "        -0.02322338, -0.18447572],\n",
       "       [-0.46363377, -0.80149077, -0.79898378, ...,  0.82751132,\n",
       "        -0.96285517,  0.70177037],\n",
       "       [ 0.6213142 ,  0.48109582,  0.28611787, ..., -0.02904315,\n",
       "        -0.77138969,  0.38206198],\n",
       "       ...,\n",
       "       [-1.3226293 , -0.78989554, -0.53362006, ...,  0.16318248,\n",
       "         0.038612  , -0.738351  ],\n",
       "       [ 0.6608038 ,  0.01793949,  0.05968583, ...,  0.67205318,\n",
       "        -0.64012252,  0.66939694],\n",
       "       [-0.51395   , -0.62588328, -0.99818965, ..., -0.15569536,\n",
       "        -0.44016011,  1.25428371]])"
      ]
     },
     "execution_count": 98,
     "metadata": {},
     "output_type": "execute_result"
    }
   ],
   "source": [
    "X_trainscaled"
   ]
  },
  {
   "cell_type": "code",
   "execution_count": 120,
   "metadata": {},
   "outputs": [
    {
     "name": "stderr",
     "output_type": "stream",
     "text": [
      "/usr/local/lib/python3.6/dist-packages/sklearn/utils/validation.py:63: DataConversionWarning: A column-vector y was passed when a 1d array was expected. Please change the shape of y to (n_samples, ), for example using ravel().\n",
      "  return f(*args, **kwargs)\n"
     ]
    }
   ],
   "source": [
    "reg = MLPRegressor(hidden_layer_sizes=(18,3,18),activation=\"relu\", alpha=0.01, random_state=1, max_iter=2000).fit(X_trainscaled, y_train)"
   ]
  },
  {
   "cell_type": "code",
   "execution_count": 121,
   "metadata": {},
   "outputs": [
    {
     "name": "stdout",
     "output_type": "stream",
     "text": [
      "The Score with  -0.01546118022957943\n"
     ]
    }
   ],
   "source": [
    "from sklearn.metrics import r2_score\n",
    "\n",
    "y_pred = reg.predict(X_testscaled)\n",
    "print(\"The Score with \", (r2_score(y_pred, y_test)))"
   ]
  },
  {
   "cell_type": "code",
   "execution_count": 111,
   "metadata": {},
   "outputs": [
    {
     "data": {
      "text/plain": [
       "['model.joblib']"
      ]
     },
     "execution_count": 111,
     "metadata": {},
     "output_type": "execute_result"
    }
   ],
   "source": [
    "from joblib import dump, load\n",
    "dump(reg, 'model.joblib')"
   ]
  },
  {
   "cell_type": "code",
   "execution_count": null,
   "metadata": {},
   "outputs": [],
   "source": []
  },
  {
   "cell_type": "code",
   "execution_count": null,
   "metadata": {},
   "outputs": [],
   "source": []
  },
  {
   "cell_type": "code",
   "execution_count": 70,
   "metadata": {},
   "outputs": [
    {
     "data": {
      "image/png": "[encoded data removed]",
      "text/plain": [
       "<Figure size 432x288 with 1 Axes>"
      ]
     },
     "metadata": {
      "needs_background": "light"
     },
     "output_type": "display_data"
    },
    {
     "name": "stdout",
     "output_type": "stream",
     "text": [
      "25\n",
      "25\n",
      "35\n",
      "18\n"
     ]
    },
    {
     "data": {
      "image/png": "[encoded data removed]",
      "text/plain": [
       "<Figure size 720x720 with 1 Axes>"
      ]
     },
     "metadata": {
      "needs_background": "light"
     },
     "output_type": "display_data"
    }
   ],
   "source": [
    "%run main_romain_claret_and_sylvain_robert-nicoud_lab6.py"
   ]
  },
  {
   "cell_type": "code",
   "execution_count": null,
   "metadata": {},
   "outputs": [],
   "source": []
  }
 ],
 "metadata": {
  "kernelspec": {
   "display_name": "Python 3",
   "language": "python",
   "name": "python3"
  },
  "language_info": {
   "codemirror_mode": {
    "name": "ipython",
    "version": 3
   },
   "file_extension": ".py",
   "mimetype": "text/x-python",
   "name": "python",
   "nbconvert_exporter": "python",
   "pygments_lexer": "ipython3",
   "version": "3.6.9"
  }
 },
 "nbformat": 4,
 "nbformat_minor": 4
}
