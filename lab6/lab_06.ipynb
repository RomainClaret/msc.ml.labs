{
 "cells": [
  {
   "cell_type": "markdown",
   "metadata": {},
   "source": [
    "# Assignment lab 06\n",
    "- 26.04.21\n",
    "\n",
    "## Master Class: Machine Learning (5MI2018)\n",
    "- Faculty of Economic Science\n",
    "- University of Neuchatel (Switzerland)\n",
    "- Lab 6, see ML21_Exercise_6.pdf for more information\n",
    "\n",
    "## Authors: \n",
    "- Romain Claret @RomainClaret\n",
    "- Sylvain Robert-Nicoud @Nic0uds"
   ]
  },
  {
   "cell_type": "markdown",
   "metadata": {},
   "source": [
    "| Variable   name                                    | Variable definition                                                                                                                                                                                                              |\n",
    "|----------------------------------------------------|----------------------------------------------------------------------------------------------------------------------------------------------------------------------------------------------------------------------------------|\n",
    "| Identifier variables                               |                                                                                                                                                                                                                                  |\n",
    "| countrycode                                        | 3-letter ISO country code                                                                                                                                                                                                        |\n",
    "| country                                            | Country name                                                                                                                                                                                                                     |\n",
    "| currency_unit                                      | Currency unit                                                                                                                                                                                                                    |\n",
    "| year                                               | Year                                                                                                                                                                                                                             |\n",
    "|                                                    |                                                                                                                                                                                                                                  |\n",
    "| Real   GDP, employment and population levels       |                                                                                                                                                                                                                                  |\n",
    "| rgdpe                                              | Expenditure-side real GDP at   chained PPPs (in mil. 2017US$)                                                                                                                                                                    |\n",
    "| rgdpo                                              | Output-side real GDP at chained   PPPs (in mil. 2017US$)                                                                                                                                                                         |\n",
    "| pop                                                | Population (in millions)                                                                                                                                                                                                         |\n",
    "| emp                                                | Number of persons engaged (in   millions)                                                                                                                                                                                        |\n",
    "| avh                                                | Average annual hours worked by   persons engaged                                                                                                                                                                                 |\n",
    "| hc                                                 | Human capital index, based on   years of schooling and returns to education; see Human capital in PWT9.                                                                                                                          |\n",
    "|                                                    |                                                                                                                                                                                                                                  |\n",
    "| Current   price GDP, capital and TFP               |                                                                                                                                                                                                                                  |\n",
    "| ccon                                               | Real consumption of households   and government, at current PPPs (in mil. 2017US$)                                                                                                                                               |\n",
    "| cda                                                | Real domestic absorption, (real   consumption plus investment), at current PPPs (in mil. 2017US$)                                                                                                                                |\n",
    "| cgdpe                                              | Expenditure-side real GDP at   current PPPs (in mil. 2017US$)                                                                                                                                                                    |\n",
    "| cgdpo                                              | Output-side real GDP at current   PPPs (in mil. 2017US$)                                                                                                                                                                         |\n",
    "| cn                                                 | Capital stock at current PPPs   (in mil. 2017US$)                                                                                                                                                                                |\n",
    "| ck                                                 | Capital services levels at   current PPPs (USA=1)                                                                                                                                                                                |\n",
    "| ctfp                                               | TFP level at current PPPs (USA=1)                                                                                                                                                                                                |\n",
    "| cwtfp                                              | Welfare-relevant TFP levels at   current PPPs (USA=1)                                                                                                                                                                            |\n",
    "|                                                    |                                                                                                                                                                                                                                  |\n",
    "| National   accounts-based variables                |                                                                                                                                                                                                                                  |\n",
    "| rgdpna                                             | Real GDP at constant 2017   national prices (in mil. 2017US$)                                                                                                                                                                    |\n",
    "| rconna                                             | Real consumption at constant   2017 national prices (in mil. 2017US$)                                                                                                                                                            |\n",
    "| rdana                                              | Real domestic absorption at   constant 2017 national prices (in mil. 2017US$)                                                                                                                                                    |\n",
    "| rnna                                               | Capital stock at constant 2017   national prices (in mil. 2017US$)                                                                                                                                                               |\n",
    "| rkna                                               | Capital services at constant   2017 national prices (2017=1)                                                                                                                                                                     |\n",
    "| rtfpna                                             | TFP at constant national prices   (2017=1)                                                                                                                                                                                       |\n",
    "| rwtfpna                                            | Welfare-relevant TFP at constant   national prices (2017=1)                                                                                                                                                                      |\n",
    "| labsh                                              | Share of labour compensation in   GDP at current national prices                                                                                                                                                                 |\n",
    "| irr                                                | Real internal rate of return                                                                                                                                                                                                     |\n",
    "| delta                                              | Average depreciation rate of the   capital stock                                                                                                                                                                                 |\n",
    "|                                                    |                                                                                                                                                                                                                                  |\n",
    "| Exchange   rates and GDP price levels              |                                                                                                                                                                                                                                  |\n",
    "| xr                                                 | Exchange rate, national   currency/USD (market+estimated)                                                                                                                                                                        |\n",
    "| pl_con                                             | Price level of CCON (PPP/XR),   price level of USA GDPo in 2017=1                                                                                                                                                                |\n",
    "| pl_da                                              | Price level of CDA (PPP/XR),   price level of USA GDPo in 2017=1                                                                                                                                                                 |\n",
    "| pl_gdpo                                            | Price level of CGDPo (PPP/XR),   price level of USA GDPo in 2017=1                                                                                                                                                               |\n",
    "|                                                    |                                                                                                                                                                                                                                  |\n",
    "| Data information variables                         |                                                                                                                                                                                                                                  |\n",
    "| i_cig                                              | 0/1/2/3/4: relative price data   for consumption, investment and government is extrapolated (0), benchmark   (1), interpolated (2), ICP PPP timeseries: benchmark or interpolated (3)   or  ICP PPP timeseries: extrapolated (4) |\n",
    "| i_xm                                               | 0/1/2: relative price data for   exports and imports is extrapolated (0), benchmark (1) or interpolated (2)                                                                                                                      |\n",
    "| i_xr                                               | 0/1: the exchange rate is   market-based (0) or estimated (1)                                                                                                                                                                    |\n",
    "| i_outlier                                          | 0/1: the observation on pl_gdpe   or pl_gdpo is not an outlier (0) or an outlier (1)                                                                                                                                             |\n",
    "| i_irr                                              | 0/1/2/3: the observation for irr   is not an outlier (0), may be biased due to a low capital share (1), hit the   lower bound of 1 percent (2), or is an outlier (3)                                                             |\n",
    "| cor_exp                                            | Correlation between expenditure   shares of the country and the US (benchmark observations only)                                                                                                                                 |\n",
    "| statcap                                            | Statistical capacity indicator   (source: World Bank, developing countries only)                                                                                                                                                 |\n",
    "|                                                    |                                                                                                                                                                                                                                  |\n",
    "| Shares in CGDPo                                    |                                                                                                                                                                                                                                  |\n",
    "| csh_c                                              | Share of household consumption   at current PPPs                                                                                                                                                                                 |\n",
    "| csh_i                                              | Share of gross capital formation   at current PPPs                                                                                                                                                                               |\n",
    "| csh_g                                              | Share of government consumption   at current PPPs                                                                                                                                                                                |\n",
    "| csh_x                                              | Share of merchandise exports at   current PPPs                                                                                                                                                                                   |\n",
    "| csh_m                                              | Share of merchandise imports at   current PPPs                                                                                                                                                                                   |\n",
    "| csh_r                                              | Share of residual trade and GDP   statistical discrepancy at current PPPs                                                                                                                                                        |\n",
    "|                                                    |                                                                                                                                                                                                                                  |\n",
    "| Price   levels, expenditure categories and capital |                                                                                                                                                                                                                                  |\n",
    "| pl_c                                               | Price level of household   consumption,  price level of USA GDPo   in 2017=1                                                                                                                                                     |\n",
    "| pl_i                                               | Price level of capital   formation,  price level of USA GDPo in   2017=1                                                                                                                                                         |\n",
    "| pl_g                                               | Price level of government   consumption,  price level of USA GDPo   in 2017=1                                                                                                                                                    |\n",
    "| pl_x                                               | Price level of exports, price   level of USA GDPo in 2017=1                                                                                                                                                                      |\n",
    "| pl_m                                               | Price level of imports, price   level of USA GDPo in 2017=1                                                                                                                                                                      |\n",
    "| pl_n                                               | Price level of the capital   stock, price level of USA in 2017=1                                                                                                                                                                 |\n",
    "| pl_k                                               | Price level of the capital   services, price level of USA=1                                                                                                                                                                      |"
   ]
  },
  {
   "cell_type": "code",
   "execution_count": 1,
   "metadata": {},
   "outputs": [],
   "source": [
    "import pandas as pd\n",
    "\n",
    "df = pd.read_stata('pwt100.dta')"
   ]
  },
  {
   "cell_type": "code",
   "execution_count": null,
   "metadata": {},
   "outputs": [],
   "source": []
  },
  {
   "cell_type": "code",
   "execution_count": 2,
   "metadata": {},
   "outputs": [
    {
     "name": "stdout",
     "output_type": "stream",
     "text": [
      "<class 'pandas.core.frame.DataFrame'>\n",
      "Int64Index: 12810 entries, 0 to 12809\n",
      "Data columns (total 52 columns):\n",
      " #   Column         Non-Null Count  Dtype   \n",
      "---  ------         --------------  -----   \n",
      " 0   countrycode    12810 non-null  object  \n",
      " 1   country        12810 non-null  object  \n",
      " 2   currency_unit  12810 non-null  object  \n",
      " 3   year           12810 non-null  int16   \n",
      " 4   rgdpe          10399 non-null  float32 \n",
      " 5   rgdpo          10399 non-null  float32 \n",
      " 6   pop            10399 non-null  float64 \n",
      " 7   emp            9529 non-null   float32 \n",
      " 8   avh            3492 non-null   float64 \n",
      " 9   hc             8637 non-null   float32 \n",
      " 10  ccon           10399 non-null  float32 \n",
      " 11  cda            10399 non-null  float32 \n",
      " 12  cgdpe          10399 non-null  float32 \n",
      " 13  cgdpo          10395 non-null  float32 \n",
      " 14  cn             10314 non-null  float32 \n",
      " 15  ck             7095 non-null   float32 \n",
      " 16  ctfp           6412 non-null   float32 \n",
      " 17  cwtfp          6412 non-null   float32 \n",
      " 18  rgdpna         10399 non-null  float32 \n",
      " 19  rconna         10399 non-null  float32 \n",
      " 20  rdana          10399 non-null  float32 \n",
      " 21  rnna           10314 non-null  float32 \n",
      " 22  rkna           7095 non-null   float32 \n",
      " 23  rtfpna         6412 non-null   float32 \n",
      " 24  rwtfpna        6412 non-null   float32 \n",
      " 25  labsh          7970 non-null   float32 \n",
      " 26  irr            7540 non-null   float32 \n",
      " 27  delta          10314 non-null  float32 \n",
      " 28  xr             10399 non-null  float64 \n",
      " 29  pl_con         10399 non-null  float32 \n",
      " 30  pl_da          10399 non-null  float32 \n",
      " 31  pl_gdpo        10399 non-null  float32 \n",
      " 32  i_cig          10399 non-null  category\n",
      " 33  i_xm           10399 non-null  category\n",
      " 34  i_xr           10399 non-null  category\n",
      " 35  i_outlier      10399 non-null  category\n",
      " 36  i_irr          7540 non-null   category\n",
      " 37  cor_exp        1653 non-null   float64 \n",
      " 38  statcap        2117 non-null   float64 \n",
      " 39  csh_c          10399 non-null  float32 \n",
      " 40  csh_i          10399 non-null  float32 \n",
      " 41  csh_g          10399 non-null  float32 \n",
      " 42  csh_x          10399 non-null  float32 \n",
      " 43  csh_m          10399 non-null  float32 \n",
      " 44  csh_r          10399 non-null  float32 \n",
      " 45  pl_c           10399 non-null  float32 \n",
      " 46  pl_i           10399 non-null  float32 \n",
      " 47  pl_g           10399 non-null  float32 \n",
      " 48  pl_x           10399 non-null  float32 \n",
      " 49  pl_m           10399 non-null  float32 \n",
      " 50  pl_n           10314 non-null  float32 \n",
      " 51  pl_k           7095 non-null   float32 \n",
      "dtypes: category(5), float32(38), float64(5), int16(1), object(3)\n",
      "memory usage: 2.8+ MB\n"
     ]
    }
   ],
   "source": [
    "df.info()"
   ]
  },
  {
   "cell_type": "code",
   "execution_count": 3,
   "metadata": {},
   "outputs": [
    {
     "data": {
      "text/html": [
       "<div>\n",
       "<style scoped>\n",
       "    .dataframe tbody tr th:only-of-type {\n",
       "        vertical-align: middle;\n",
       "    }\n",
       "\n",
       "    .dataframe tbody tr th {\n",
       "        vertical-align: top;\n",
       "    }\n",
       "\n",
       "    .dataframe thead th {\n",
       "        text-align: right;\n",
       "    }\n",
       "</style>\n",
       "<table border=\"1\" class=\"dataframe\">\n",
       "  <thead>\n",
       "    <tr style=\"text-align: right;\">\n",
       "      <th></th>\n",
       "      <th>countrycode</th>\n",
       "      <th>country</th>\n",
       "      <th>currency_unit</th>\n",
       "      <th>year</th>\n",
       "      <th>rgdpe</th>\n",
       "      <th>rgdpo</th>\n",
       "      <th>pop</th>\n",
       "      <th>emp</th>\n",
       "      <th>avh</th>\n",
       "      <th>hc</th>\n",
       "      <th>...</th>\n",
       "      <th>csh_x</th>\n",
       "      <th>csh_m</th>\n",
       "      <th>csh_r</th>\n",
       "      <th>pl_c</th>\n",
       "      <th>pl_i</th>\n",
       "      <th>pl_g</th>\n",
       "      <th>pl_x</th>\n",
       "      <th>pl_m</th>\n",
       "      <th>pl_n</th>\n",
       "      <th>pl_k</th>\n",
       "    </tr>\n",
       "  </thead>\n",
       "  <tbody>\n",
       "    <tr>\n",
       "      <th>0</th>\n",
       "      <td>ABW</td>\n",
       "      <td>Aruba</td>\n",
       "      <td>Aruban Guilder</td>\n",
       "      <td>1950</td>\n",
       "      <td>NaN</td>\n",
       "      <td>NaN</td>\n",
       "      <td>NaN</td>\n",
       "      <td>NaN</td>\n",
       "      <td>NaN</td>\n",
       "      <td>NaN</td>\n",
       "      <td>...</td>\n",
       "      <td>NaN</td>\n",
       "      <td>NaN</td>\n",
       "      <td>NaN</td>\n",
       "      <td>NaN</td>\n",
       "      <td>NaN</td>\n",
       "      <td>NaN</td>\n",
       "      <td>NaN</td>\n",
       "      <td>NaN</td>\n",
       "      <td>NaN</td>\n",
       "      <td>NaN</td>\n",
       "    </tr>\n",
       "    <tr>\n",
       "      <th>1</th>\n",
       "      <td>ABW</td>\n",
       "      <td>Aruba</td>\n",
       "      <td>Aruban Guilder</td>\n",
       "      <td>1951</td>\n",
       "      <td>NaN</td>\n",
       "      <td>NaN</td>\n",
       "      <td>NaN</td>\n",
       "      <td>NaN</td>\n",
       "      <td>NaN</td>\n",
       "      <td>NaN</td>\n",
       "      <td>...</td>\n",
       "      <td>NaN</td>\n",
       "      <td>NaN</td>\n",
       "      <td>NaN</td>\n",
       "      <td>NaN</td>\n",
       "      <td>NaN</td>\n",
       "      <td>NaN</td>\n",
       "      <td>NaN</td>\n",
       "      <td>NaN</td>\n",
       "      <td>NaN</td>\n",
       "      <td>NaN</td>\n",
       "    </tr>\n",
       "    <tr>\n",
       "      <th>2</th>\n",
       "      <td>ABW</td>\n",
       "      <td>Aruba</td>\n",
       "      <td>Aruban Guilder</td>\n",
       "      <td>1952</td>\n",
       "      <td>NaN</td>\n",
       "      <td>NaN</td>\n",
       "      <td>NaN</td>\n",
       "      <td>NaN</td>\n",
       "      <td>NaN</td>\n",
       "      <td>NaN</td>\n",
       "      <td>...</td>\n",
       "      <td>NaN</td>\n",
       "      <td>NaN</td>\n",
       "      <td>NaN</td>\n",
       "      <td>NaN</td>\n",
       "      <td>NaN</td>\n",
       "      <td>NaN</td>\n",
       "      <td>NaN</td>\n",
       "      <td>NaN</td>\n",
       "      <td>NaN</td>\n",
       "      <td>NaN</td>\n",
       "    </tr>\n",
       "    <tr>\n",
       "      <th>3</th>\n",
       "      <td>ABW</td>\n",
       "      <td>Aruba</td>\n",
       "      <td>Aruban Guilder</td>\n",
       "      <td>1953</td>\n",
       "      <td>NaN</td>\n",
       "      <td>NaN</td>\n",
       "      <td>NaN</td>\n",
       "      <td>NaN</td>\n",
       "      <td>NaN</td>\n",
       "      <td>NaN</td>\n",
       "      <td>...</td>\n",
       "      <td>NaN</td>\n",
       "      <td>NaN</td>\n",
       "      <td>NaN</td>\n",
       "      <td>NaN</td>\n",
       "      <td>NaN</td>\n",
       "      <td>NaN</td>\n",
       "      <td>NaN</td>\n",
       "      <td>NaN</td>\n",
       "      <td>NaN</td>\n",
       "      <td>NaN</td>\n",
       "    </tr>\n",
       "    <tr>\n",
       "      <th>4</th>\n",
       "      <td>ABW</td>\n",
       "      <td>Aruba</td>\n",
       "      <td>Aruban Guilder</td>\n",
       "      <td>1954</td>\n",
       "      <td>NaN</td>\n",
       "      <td>NaN</td>\n",
       "      <td>NaN</td>\n",
       "      <td>NaN</td>\n",
       "      <td>NaN</td>\n",
       "      <td>NaN</td>\n",
       "      <td>...</td>\n",
       "      <td>NaN</td>\n",
       "      <td>NaN</td>\n",
       "      <td>NaN</td>\n",
       "      <td>NaN</td>\n",
       "      <td>NaN</td>\n",
       "      <td>NaN</td>\n",
       "      <td>NaN</td>\n",
       "      <td>NaN</td>\n",
       "      <td>NaN</td>\n",
       "      <td>NaN</td>\n",
       "    </tr>\n",
       "  </tbody>\n",
       "</table>\n",
       "<p>5 rows × 52 columns</p>\n",
       "</div>"
      ],
      "text/plain": [
       "  countrycode country   currency_unit  year  rgdpe  rgdpo  pop  emp  avh  hc  \\\n",
       "0         ABW   Aruba  Aruban Guilder  1950    NaN    NaN  NaN  NaN  NaN NaN   \n",
       "1         ABW   Aruba  Aruban Guilder  1951    NaN    NaN  NaN  NaN  NaN NaN   \n",
       "2         ABW   Aruba  Aruban Guilder  1952    NaN    NaN  NaN  NaN  NaN NaN   \n",
       "3         ABW   Aruba  Aruban Guilder  1953    NaN    NaN  NaN  NaN  NaN NaN   \n",
       "4         ABW   Aruba  Aruban Guilder  1954    NaN    NaN  NaN  NaN  NaN NaN   \n",
       "\n",
       "   ...  csh_x  csh_m  csh_r  pl_c  pl_i  pl_g  pl_x  pl_m  pl_n  pl_k  \n",
       "0  ...    NaN    NaN    NaN   NaN   NaN   NaN   NaN   NaN   NaN   NaN  \n",
       "1  ...    NaN    NaN    NaN   NaN   NaN   NaN   NaN   NaN   NaN   NaN  \n",
       "2  ...    NaN    NaN    NaN   NaN   NaN   NaN   NaN   NaN   NaN   NaN  \n",
       "3  ...    NaN    NaN    NaN   NaN   NaN   NaN   NaN   NaN   NaN   NaN  \n",
       "4  ...    NaN    NaN    NaN   NaN   NaN   NaN   NaN   NaN   NaN   NaN  \n",
       "\n",
       "[5 rows x 52 columns]"
      ]
     },
     "execution_count": 3,
     "metadata": {},
     "output_type": "execute_result"
    }
   ],
   "source": [
    "df.head()"
   ]
  },
  {
   "cell_type": "code",
   "execution_count": 4,
   "metadata": {},
   "outputs": [],
   "source": [
    "# 1. Import the data and filter the two datasets for the chosen two years.\n",
    "df_1990 = df[(df[\"year\"]==1990)]\n",
    "df_1970 = df[(df[\"year\"]==1970)]"
   ]
  },
  {
   "cell_type": "code",
   "execution_count": 5,
   "metadata": {},
   "outputs": [
    {
     "data": {
      "application/vnd.jupyter.widget-view+json": {
       "model_id": "12546c283fb647dda29325718c69244f",
       "version_major": 2,
       "version_minor": 0
      },
      "text/plain": [
       "Summarize dataset:   0%|          | 0/66 [00:00<?, ?it/s]"
      ]
     },
     "metadata": {},
     "output_type": "display_data"
    },
    {
     "data": {
      "application/vnd.jupyter.widget-view+json": {
       "model_id": "b955f8b2bc6040b5b5481878f5372313",
       "version_major": 2,
       "version_minor": 0
      },
      "text/plain": [
       "Generate report structure:   0%|          | 0/1 [00:00<?, ?it/s]"
      ]
     },
     "metadata": {},
     "output_type": "display_data"
    },
    {
     "data": {
      "application/vnd.jupyter.widget-view+json": {
       "model_id": "d272442448b54651b46eb6585039b7a8",
       "version_major": 2,
       "version_minor": 0
      },
      "text/plain": [
       "Render HTML:   0%|          | 0/1 [00:00<?, ?it/s]"
      ]
     },
     "metadata": {},
     "output_type": "display_data"
    },
    {
     "data": {
      "application/vnd.jupyter.widget-view+json": {
       "model_id": "304b671fbdfe40cebe5b2479a272d79f",
       "version_major": 2,
       "version_minor": 0
      },
      "text/plain": [
       "Export report to file:   0%|          | 0/1 [00:00<?, ?it/s]"
      ]
     },
     "metadata": {},
     "output_type": "display_data"
    }
   ],
   "source": [
    "import pandas_profiling\n",
    "#df_1990.profile_report()\n",
    "df_1990.profile_report().to_file(\"pwt_profile_report.html\")"
   ]
  },
  {
   "cell_type": "code",
   "execution_count": 6,
   "metadata": {},
   "outputs": [
    {
     "name": "stdout",
     "output_type": "stream",
     "text": [
      "test\n"
     ]
    }
   ],
   "source": [
    "print(\"test\")"
   ]
  },
  {
   "cell_type": "code",
   "execution_count": null,
   "metadata": {},
   "outputs": [],
   "source": [
    "features = [\n",
    "    \"hc\",\n",
    "    \"ctfp\",\n",
    "    \"cwtfp\",\n",
    "    \"delta\",\n",
    "    \"pl_con\",\n",
    "    \"pl_da\",\n",
    "    \"pl_gdpo\",\n",
    "    \"csh_g\",\n",
    "    \"pl_c\",\n",
    "    \"pl_i\",\n",
    "    \"pl_g\",\n",
    "    #\"pl_k\",\n",
    "]"
   ]
  },
  {
   "cell_type": "code",
   "execution_count": null,
   "metadata": {},
   "outputs": [],
   "source": [
    "features_logarithmic = [\n",
    "    \"pop\",\n",
    "]"
   ]
  },
  {
   "cell_type": "code",
   "execution_count": null,
   "metadata": {},
   "outputs": [],
   "source": [
    "import numpy as np\n",
    "from sklearn.preprocessing import FunctionTransformer\n",
    "log_transformer = FunctionTransformer(np.log1p)\n",
    "df_1990_log = df_1990[features_logarithmic]\n",
    "log_transformer.transform(df_1990_log)"
   ]
  },
  {
   "cell_type": "code",
   "execution_count": null,
   "metadata": {},
   "outputs": [],
   "source": [
    "#(len(df_1990[features])-len(df_1990[features].dropna()))/len(df_1990[features])*100"
   ]
  },
  {
   "cell_type": "code",
   "execution_count": null,
   "metadata": {},
   "outputs": [],
   "source": [
    "df_1990_cleaned = df_1990[features].dropna()\n",
    "df_1990_cleaned"
   ]
  },
  {
   "cell_type": "code",
   "execution_count": null,
   "metadata": {},
   "outputs": [],
   "source": [
    "(len(df_1970[features])-len(df_1970[features].dropna()))/len(df_1970[features])*100"
   ]
  },
  {
   "cell_type": "code",
   "execution_count": null,
   "metadata": {},
   "outputs": [],
   "source": [
    "df_1970_cleaned = df_1970[features].dropna()\n",
    "df_1970_cleaned"
   ]
  },
  {
   "cell_type": "code",
   "execution_count": null,
   "metadata": {},
   "outputs": [],
   "source": [
    "from sklearn.preprocessing import Normalizer\n",
    "df_1990_normalized = Normalizer().fit_transform(df_1990_cleaned)\n",
    "df_1970_normalized = Normalizer().fit_transform(df_1970_cleaned)"
   ]
  },
  {
   "cell_type": "code",
   "execution_count": null,
   "metadata": {},
   "outputs": [],
   "source": [
    "from sklearn.decomposition import PCA\n",
    "pca = PCA(2)\n",
    "df_1970_pca = pca.fit_transform(df_1990_normalized)\n",
    "df_1990_pca = pca.fit_transform(df_1970_normalized)"
   ]
  },
  {
   "cell_type": "code",
   "execution_count": null,
   "metadata": {},
   "outputs": [],
   "source": [
    "from sklearn.cluster import KMeans\n",
    "kmeans_1970 = KMeans(n_clusters=4, random_state=42).fit(df_1970_pca)"
   ]
  },
  {
   "cell_type": "code",
   "execution_count": null,
   "metadata": {},
   "outputs": [],
   "source": [
    "from sklearn.cluster import KMeans\n",
    "kmeans_1990 = KMeans(n_clusters=4, random_state=42).fit(df_1990_pca)"
   ]
  },
  {
   "cell_type": "code",
   "execution_count": null,
   "metadata": {},
   "outputs": [],
   "source": [
    "from sklearn.mixture import GaussianMixture\n",
    "gnn_1970 = GaussianMixture(n_components=4, covariance_type='full').fit(df_1970_pca)"
   ]
  },
  {
   "cell_type": "code",
   "execution_count": null,
   "metadata": {},
   "outputs": [],
   "source": [
    "import matplotlib.pyplot as plt\n",
    "plt.scatter(df_1990_pca[:,0] , df_1990_pca[:,1])\n",
    "plt.show()"
   ]
  },
  {
   "cell_type": "code",
   "execution_count": null,
   "metadata": {},
   "outputs": [],
   "source": [
    "import matplotlib.pyplot as plt\n",
    "plt.scatter(df_1970_pca[:,0] , df_1970_pca[:,1])\n",
    "plt.show()"
   ]
  },
  {
   "cell_type": "code",
   "execution_count": null,
   "metadata": {},
   "outputs": [],
   "source": [
    "#from sklearn.ensemble import IsolationForest\n",
    "#estimator = IsolationForest(n_estimators=2, warm_start=True)\n",
    "#estimator.fit(df_1990_pca)  # fit 10 trees  \n",
    "#estimator.predict(df_1990_pca)\n",
    "#clf.set_params(n_estimators=20)  # add 10 more trees  \n",
    "#clf.fit(X)  # fit the added trees"
   ]
  },
  {
   "cell_type": "code",
   "execution_count": null,
   "metadata": {},
   "outputs": [],
   "source": [
    "def filter_outliers_y(array_x, array_y, e_min = -1, e_max=1):\n",
    "    tmp_x = []\n",
    "    tmp_y = []\n",
    "    for i_e, e in enumerate(array_y):\n",
    "        if e >= e_min and e <= e_max:\n",
    "            tmp_y.append(e)\n",
    "            tmp_x.append(array_x[i_e])\n",
    "    return tmp_x, tmp_y\n",
    "\n",
    "df_1990_pca_x, df_1990_pca_y = filter_outliers_y(df_1990_pca[:,0],df_1990_pca[:,1],e_max = 0.4)"
   ]
  },
  {
   "cell_type": "code",
   "execution_count": null,
   "metadata": {},
   "outputs": [],
   "source": [
    "len(df_1990_pca_x)"
   ]
  },
  {
   "cell_type": "code",
   "execution_count": null,
   "metadata": {},
   "outputs": [],
   "source": [
    "import matplotlib.pyplot as plt\n",
    "plt.scatter(df_1990_pca_y , df_1990_pca_x)\n",
    "plt.show()"
   ]
  },
  {
   "cell_type": "code",
   "execution_count": null,
   "metadata": {},
   "outputs": [],
   "source": [
    "# Choose one of the years and visualize the results of the clustering. Give as much detail as possible.\n",
    "y_kmeans_1970 = kmeans_1970.predict(df_1970_pca)\n",
    "plt.scatter(df_1970_pca[:,0], df_1970_pca[:,1], c=y_kmeans_1970, s=50, cmap='viridis')\n",
    "plt.scatter(kmeans_1970.cluster_centers_[:,0], kmeans_1970.cluster_centers_[:,1], c='blue', s=200, alpha=0.9)\n",
    "plt.show()"
   ]
  },
  {
   "cell_type": "code",
   "execution_count": null,
   "metadata": {},
   "outputs": [],
   "source": [
    "# Choose one of the years and visualize the results of the clustering. Give as much detail as possible.\n",
    "y_kmeans_1990 = kmeans_1990.predict(df_1990_pca)\n",
    "plt.scatter(df_1990_pca[:,0], df_1990_pca[:,1], c=y_kmeans_1990, s=50, cmap='viridis')\n",
    "plt.scatter(kmeans_1990.cluster_centers_[:,0], kmeans_1990.cluster_centers_[:,1], c='blue', s=200, alpha=0.9)\n",
    "plt.show()"
   ]
  },
  {
   "cell_type": "code",
   "execution_count": null,
   "metadata": {},
   "outputs": [],
   "source": [
    "# Choose one of the years and visualize the results of the clustering. Give as much detail as possible.\n",
    "y_gnn_1970 = gnn_1970.predict(df_1970_pca)\n",
    "plt.scatter(df_1970_pca[:,0], df_1970_pca[:,1], c=y_gnn_1970, s=50, cmap='viridis')\n",
    "plt.scatter(gnn_1970.means_[:,0], gnn_1970.means_[:,1], c='blue', s=200, alpha=0.9)\n",
    "plt.show()"
   ]
  },
  {
   "cell_type": "code",
   "execution_count": null,
   "metadata": {},
   "outputs": [],
   "source": [
    "%run main_romain_claret_and_sylvain_robert-nicoud_lab5.py"
   ]
  },
  {
   "cell_type": "code",
   "execution_count": null,
   "metadata": {},
   "outputs": [],
   "source": []
  },
  {
   "cell_type": "code",
   "execution_count": null,
   "metadata": {},
   "outputs": [],
   "source": []
  }
 ],
 "metadata": {
  "kernelspec": {
   "display_name": "Python 3",
   "language": "python",
   "name": "python3"
  },
  "language_info": {
   "codemirror_mode": {
    "name": "ipython",
    "version": 3
   },
   "file_extension": ".py",
   "mimetype": "text/x-python",
   "name": "python",
   "nbconvert_exporter": "python",
   "pygments_lexer": "ipython3",
   "version": "3.6.9"
  }
 },
 "nbformat": 4,
 "nbformat_minor": 4
}
