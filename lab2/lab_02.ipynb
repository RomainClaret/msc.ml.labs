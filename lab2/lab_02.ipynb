{
 "cells": [
  {
   "cell_type": "code",
   "execution_count": 1,
   "metadata": {},
   "outputs": [
    {
     "name": "stderr",
     "output_type": "stream",
     "text": [
      "/usr/local/lib/python3.6/dist-packages/pandas/io/parsers.py:767: ParserWarning: Falling back to the 'python' engine because the 'c' engine does not support regex separators (separators > 1 char and different from '\\s+' are interpreted as regex); you can avoid this warning by specifying engine='python'.\n",
      "  return read_csv(**locals())\n",
      "/usr/local/lib/python3.6/dist-packages/pandas/io/parsers.py:767: ParserWarning: Falling back to the 'python' engine because the 'c' engine does not support regex separators (separators > 1 char and different from '\\s+' are interpreted as regex); you can avoid this warning by specifying engine='python'.\n",
      "  return read_csv(**locals())\n"
     ]
    }
   ],
   "source": [
    "#%run main.py\n",
    "# in the specifications (adult.names): Unknown values are replaced with the character '?'\n",
    "\n",
    "import pandas as pd\n",
    "\n",
    "def prepare_datasets():\n",
    "    header = ['age','workclass','fnlwgt','education','education-num',\n",
    "              'marital-status','occupation','relationship','race','sex',\n",
    "              'capital-gain','capital-loss','hours-per-week','native-country','income']\n",
    "    train = pd.read_table(\"adult.data\", sep=r',\\s', na_values='?', header=None, names=header).dropna()\n",
    "    evaluate = pd.read_table(\"adult.test\", sep=r',\\s', na_values='?', skiprows=[0], header=None, names=header).dropna()\n",
    "    return train, evaluate\n",
    "\n",
    "df_train, df_evaluate = prepare_datasets()"
   ]
  },
  {
   "cell_type": "code",
   "execution_count": 2,
   "metadata": {},
   "outputs": [
    {
     "data": {
      "text/plain": [
       "(30162, 15)"
      ]
     },
     "execution_count": 2,
     "metadata": {},
     "output_type": "execute_result"
    }
   ],
   "source": [
    "df_train.shape"
   ]
  },
  {
   "cell_type": "code",
   "execution_count": 3,
   "metadata": {},
   "outputs": [
    {
     "name": "stdout",
     "output_type": "stream",
     "text": [
      "<class 'pandas.core.frame.DataFrame'>\n",
      "Int64Index: 30162 entries, 0 to 32560\n",
      "Data columns (total 15 columns):\n",
      " #   Column          Non-Null Count  Dtype \n",
      "---  ------          --------------  ----- \n",
      " 0   age             30162 non-null  int64 \n",
      " 1   workclass       30162 non-null  object\n",
      " 2   fnlwgt          30162 non-null  int64 \n",
      " 3   education       30162 non-null  object\n",
      " 4   education-num   30162 non-null  int64 \n",
      " 5   marital-status  30162 non-null  object\n",
      " 6   occupation      30162 non-null  object\n",
      " 7   relationship    30162 non-null  object\n",
      " 8   race            30162 non-null  object\n",
      " 9   sex             30162 non-null  object\n",
      " 10  capital-gain    30162 non-null  int64 \n",
      " 11  capital-loss    30162 non-null  int64 \n",
      " 12  hours-per-week  30162 non-null  int64 \n",
      " 13  native-country  30162 non-null  object\n",
      " 14  income          30162 non-null  object\n",
      "dtypes: int64(6), object(9)\n",
      "memory usage: 3.7+ MB\n"
     ]
    }
   ],
   "source": [
    "df_train.info()"
   ]
  },
  {
   "cell_type": "code",
   "execution_count": 4,
   "metadata": {},
   "outputs": [],
   "source": [
    "#df_train.select_dtypes(exclude=['object'])#.insert(#+df_train[\"income\"]\n",
    "#df_train.info()"
   ]
  },
  {
   "cell_type": "code",
   "execution_count": 5,
   "metadata": {},
   "outputs": [],
   "source": [
    "# only keep non-categorical values but keeping the income catagory\n",
    "# careful with the income category not the same in train and test sets\n",
    "df_train = df_train.select_dtypes(exclude=['object']).join(df_train.income.replace(\"<=50K\",0).replace(\">50K\",1))\n",
    "df_evaluate = df_evaluate.select_dtypes(exclude=['object']).join(df_evaluate.income.replace(\"<=50K.\",0).replace(\">50K.\",1))"
   ]
  },
  {
   "cell_type": "code",
   "execution_count": 6,
   "metadata": {},
   "outputs": [],
   "source": [
    "from sklearn.model_selection import train_test_split\n",
    "\n",
    "X_train, X_test, y_train, y_test = train_test_split(df_train[list(df_train.columns)[:-1]],df_train[list(df_train.columns)[-1]],test_size=0.2,random_state=1)\n",
    "\n",
    "X_evaluate = df_evaluate[list(df_evaluate.columns)[:-1]]\n",
    "y_evaluate = df_evaluate[list(df_evaluate.columns)[-1]]"
   ]
  },
  {
   "cell_type": "code",
   "execution_count": 7,
   "metadata": {},
   "outputs": [
    {
     "data": {
      "image/png": "[encoded data removed]",
      "text/plain": [
       "<Figure size 432x288 with 1 Axes>"
      ]
     },
     "metadata": {
      "needs_background": "light"
     },
     "output_type": "display_data"
    }
   ],
   "source": [
    "# run a decision tree classifier\n",
    "\n",
    "from sklearn.tree import DecisionTreeClassifier\n",
    "from sklearn.metrics import accuracy_score\n",
    "import matplotlib.pyplot as plt\n",
    "\n",
    "parameter_dtree_min = 1\n",
    "parameter_dtree_max = 15\n",
    "preds_dtree_train=[]\n",
    "preds_dtree_test=[]\n",
    "for depth in range(parameter_dtree_min,parameter_dtree_max):\n",
    "    cl_dtree = DecisionTreeClassifier(criterion='gini', random_state=1,max_depth=depth)\n",
    "    dtree_model = cl_dtree.fit(X_train,y_train)\n",
    "    y_hat_dtree_train = dtree_model.predict(X_train)\n",
    "    y_hat_dtree_test = dtree_model.predict(X_test)\n",
    "    preds_dtree_train.append(accuracy_score(y_train,y_hat_dtree_train))\n",
    "    preds_dtree_test.append(accuracy_score(y_test,y_hat_dtree_test))\n",
    "    #print(depth,\"Train accuracy_score\",preds_train[-1])\n",
    "    #print(depth,\"Test accuracy_score\",preds_test[-1],\"\\n\")\n",
    "    \n",
    "plt.scatter(range(parameter_dtree_min,parameter_dtree_max),preds_dtree_train,c=\"b\",label=\"train score\")\n",
    "plt.scatter(range(parameter_dtree_min,parameter_dtree_max),preds_dtree_test,c=\"r\",label=\"test score\")\n",
    "plt.legend(loc=\"upper left\")\n",
    "plt.title('DecisionTreeClassifier: accuracy_score vs depth')\n",
    "plt.xlabel('depth')\n",
    "plt.ylabel('accuracy_score')\n",
    "plt.savefig('DecisionTreeClassifier.png')\n",
    "plt.show()"
   ]
  },
  {
   "cell_type": "code",
   "execution_count": 8,
   "metadata": {},
   "outputs": [
    {
     "name": "stdout",
     "output_type": "stream",
     "text": [
      "depth=9 Train accuracy_score 0.8387417630237474\n",
      "depth=9 Test accuracy_score 0.8262887452345433\n",
      "depth=9 Evaluation accuracy_score 0.8281540504648074 \n",
      "\n"
     ]
    }
   ],
   "source": [
    "#present depth with best score for evaluation dataset\n",
    "max_dtree_index = preds_dtree_test.index(max(preds_dtree_test))\n",
    "best_depth = list(range(parameter_dtree_min,parameter_dtree_max))[max_dtree_index]\n",
    "cl_dtree = DecisionTreeClassifier(criterion='gini', random_state=1,max_depth=best_depth)\n",
    "dtree_model = cl_dtree.fit(X_train,y_train)\n",
    "y_hat_dtree_train = dtree_model.predict(X_train)\n",
    "y_hat_dtree_test = dtree_model.predict(X_test)\n",
    "y_hat_dtree_evaluate = dtree_model.predict(X_evaluate)\n",
    "print(\"depth=\"+str(best_depth),\"Train accuracy_score\",accuracy_score(y_train,y_hat_dtree_train))\n",
    "print(\"depth=\"+str(best_depth),\"Test accuracy_score\",accuracy_score(y_test,y_hat_dtree_test))\n",
    "print(\"depth=\"+str(best_depth),\"Evaluation accuracy_score\",accuracy_score(y_evaluate,y_hat_dtree_evaluate),\"\\n\")"
   ]
  },
  {
   "cell_type": "code",
   "execution_count": null,
   "metadata": {},
   "outputs": [],
   "source": []
  },
  {
   "cell_type": "code",
   "execution_count": 9,
   "metadata": {},
   "outputs": [
    {
     "data": {
      "image/png": "[encoded data removed]",
      "text/plain": [
       "<Figure size 432x288 with 1 Axes>"
      ]
     },
     "metadata": {
      "needs_background": "light"
     },
     "output_type": "display_data"
    }
   ],
   "source": [
    "from sklearn.neighbors import KNeighborsClassifier\n",
    "import matplotlib.pyplot as plt\n",
    "\n",
    "parameter_knn_min = 2\n",
    "parameter_knn_max = 30\n",
    "preds_knn_train=[]\n",
    "preds_knn_test=[]\n",
    "for k in range(parameter_knn_min,parameter_knn_max):\n",
    "    cl_knn = KNeighborsClassifier(n_neighbors = k)\n",
    "    knn_model = cl_knn.fit(X_train, y_train)\n",
    "    y_hat_dtree_train = knn_model.predict(X_train)\n",
    "    y_hat_dtree_test = knn_model.predict(X_test)\n",
    "    preds_knn_train.append(accuracy_score(y_train,y_hat_dtree_train))\n",
    "    preds_knn_test.append(accuracy_score(y_test,y_hat_dtree_test))\n",
    "    #print(k,\"Train accuracy_score\",preds_train[-1])\n",
    "    #print(k,\"Test accuracy_score\",preds_test[-1],\"\\n\")\n",
    "\n",
    "plt.scatter(range(parameter_knn_min,parameter_knn_max),preds_knn_train,c=\"b\",label=\"train score\")\n",
    "plt.scatter(range(parameter_knn_min,parameter_knn_max),preds_knn_test,c=\"r\",label=\"test score\")\n",
    "plt.legend(loc=\"upper left\")\n",
    "plt.title('KNeighborsClassifier: accuracy_score vs k neighbors')\n",
    "plt.xlabel('k neighbors')\n",
    "plt.ylabel('accuracy_score')\n",
    "plt.savefig('KNeighborsClassifier.png')\n",
    "plt.show()"
   ]
  },
  {
   "cell_type": "code",
   "execution_count": 10,
   "metadata": {},
   "outputs": [
    {
     "name": "stdout",
     "output_type": "stream",
     "text": [
      "k=25 Train accuracy_score 0.7970491939160347\n",
      "k=25 Test accuracy_score 0.7870048068954086\n",
      "k=25 Evaluation accuracy_score 0.7928286852589641 \n",
      "\n"
     ]
    }
   ],
   "source": [
    "#present k with best score for evaluation dataset\n",
    "max_knn_index = preds_knn_test.index(max(preds_knn_test))\n",
    "best_k = list(range(parameter_knn_min,parameter_knn_max))[max_knn_index]\n",
    "cl_knn = KNeighborsClassifier(n_neighbors = best_k)\n",
    "knn_model = cl_knn.fit(X_train,y_train)\n",
    "y_hat_dtree_train = knn_model.predict(X_train)\n",
    "y_hat_dtree_test = knn_model.predict(X_test)\n",
    "y_hat_dtree_evaluate = knn_model.predict(X_evaluate)\n",
    "print(\"k=\"+str(best_k),\"Train accuracy_score\",accuracy_score(y_train,y_hat_dtree_train))\n",
    "print(\"k=\"+str(best_k),\"Test accuracy_score\",accuracy_score(y_test,y_hat_dtree_test))\n",
    "print(\"k=\"+str(best_k),\"Evaluation accuracy_score\",accuracy_score(y_evaluate,y_hat_dtree_evaluate),\"\\n\")"
   ]
  },
  {
   "cell_type": "code",
   "execution_count": null,
   "metadata": {},
   "outputs": [],
   "source": []
  },
  {
   "cell_type": "code",
   "execution_count": null,
   "metadata": {},
   "outputs": [],
   "source": []
  },
  {
   "cell_type": "code",
   "execution_count": 3,
   "metadata": {},
   "outputs": [
    {
     "name": "stderr",
     "output_type": "stream",
     "text": [
      "/usr/local/lib/python3.6/dist-packages/pandas/io/parsers.py:767: ParserWarning: Falling back to the 'python' engine because the 'c' engine does not support regex separators (separators > 1 char and different from '\\s+' are interpreted as regex); you can avoid this warning by specifying engine='python'.\n",
      "  return read_csv(**locals())\n",
      "/usr/local/lib/python3.6/dist-packages/pandas/io/parsers.py:767: ParserWarning: Falling back to the 'python' engine because the 'c' engine does not support regex separators (separators > 1 char and different from '\\s+' are interpreted as regex); you can avoid this warning by specifying engine='python'.\n",
      "  return read_csv(**locals())\n"
     ]
    },
    {
     "name": "stdout",
     "output_type": "stream",
     "text": [
      "*************************************************\n",
      "Searching best Depth for Decision Tree Classifier\n",
      "************************************************* \n",
      "\n",
      "***************************************************\n",
      "Searching best K for K-Nearest Neighbors Classifier\n",
      "*************************************************** \n",
      "\n",
      "*********************************************\n",
      "Evaluate Decision Tree Classifier on new data\n",
      "********************************************* \n",
      "\n",
      "depth=8 Train accuracy_score 0.8356749140038957\n",
      "depth=8 Test accuracy_score 0.832587435769932\n",
      "depth=8 Evaluation accuracy_score 0.8287516600265604 \n",
      "\n",
      "***********************************\n",
      "Evaluate KNN Classifier on new data\n",
      "*********************************** \n",
      "\n",
      "k=23 Train accuracy_score 0.7969248621990136\n",
      "k=23 Test accuracy_score 0.7876678269517653\n",
      "k=23 Evaluation accuracy_score 0.7931606905710491 \n",
      "\n"
     ]
    }
   ],
   "source": [
    "%run main.py"
   ]
  },
  {
   "cell_type": "code",
   "execution_count": null,
   "metadata": {},
   "outputs": [],
   "source": []
  }
 ],
 "metadata": {
  "kernelspec": {
   "display_name": "Python 3",
   "language": "python",
   "name": "python3"
  },
  "language_info": {
   "codemirror_mode": {
    "name": "ipython",
    "version": 3
   },
   "file_extension": ".py",
   "mimetype": "text/x-python",
   "name": "python",
   "nbconvert_exporter": "python",
   "pygments_lexer": "ipython3",
   "version": "3.6.9"
  }
 },
 "nbformat": 4,
 "nbformat_minor": 4
}
