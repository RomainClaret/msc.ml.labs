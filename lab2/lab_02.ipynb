{
 "cells": [
  {
   "cell_type": "markdown",
   "metadata": {},
   "source": [
    "# Assignment lab 02\n",
    "- 22.03.19\n",
    "\n",
    "## Master Class: Machine Learning (5MI2018)\n",
    "- Faculty of Economic Science\n",
    "- University of Neuchatel (Switzerland)\n",
    "- Lab 1, see ML21_Exercise_1.pdf for more information\n",
    "\n",
    "## Authors: \n",
    "- Romain Claret @RomainClaret\n",
    "- Sylvain Robert-Nicoud @Nic0uds"
   ]
  },
  {
   "cell_type": "code",
   "execution_count": 1,
   "metadata": {},
   "outputs": [],
   "source": [
    "# get the features names and the values of the categories from adult.names (features and values linked by the index)\n",
    "\n",
    "data_dict = {}\n",
    "with open('adult.names') as f:\n",
    "    for l in f:\n",
    "        if l[0] == '|' or ':' not in l: continue\n",
    "        c = l.split(':')\n",
    "        if c[1].startswith(' continuous'): data_dict[c[0]] = \"\"\n",
    "        else: data_dict[c[0]] = c[1].replace(\"\\n\",\"\").replace(\".\",\"\").replace(\" \",\"\").split(\",\")"
   ]
  },
  {
   "cell_type": "code",
   "execution_count": 2,
   "metadata": {},
   "outputs": [
    {
     "name": "stderr",
     "output_type": "stream",
     "text": [
      "/usr/local/lib/python3.6/dist-packages/pandas/io/parsers.py:767: ParserWarning: Falling back to the 'python' engine because the 'c' engine does not support regex separators (separators > 1 char and different from '\\s+' are interpreted as regex); you can avoid this warning by specifying engine='python'.\n",
      "  return read_csv(**locals())\n",
      "/usr/local/lib/python3.6/dist-packages/pandas/io/parsers.py:767: ParserWarning: Falling back to the 'python' engine because the 'c' engine does not support regex separators (separators > 1 char and different from '\\s+' are interpreted as regex); you can avoid this warning by specifying engine='python'.\n",
      "  return read_csv(**locals())\n"
     ]
    }
   ],
   "source": [
    "# in the specifications (adult.names): Unknown values are replaced with the character '?'\n",
    "\n",
    "import pandas as pd\n",
    "\n",
    "header = list(data_dict.keys())+['income']\n",
    "df_train = pd.read_table(\"adult.data\", sep=r',\\s', na_values='?', header=None, names=header).dropna()\n",
    "df_evaluate = pd.read_table(\"adult.test\", sep=r',\\s', na_values='?', skiprows=[0], header=None, names=header).dropna()"
   ]
  },
  {
   "cell_type": "code",
   "execution_count": 3,
   "metadata": {},
   "outputs": [
    {
     "name": "stdout",
     "output_type": "stream",
     "text": [
      "<class 'pandas.core.frame.DataFrame'>\n",
      "Int64Index: 30162 entries, 0 to 32560\n",
      "Data columns (total 15 columns):\n",
      " #   Column          Non-Null Count  Dtype \n",
      "---  ------          --------------  ----- \n",
      " 0   age             30162 non-null  int64 \n",
      " 1   workclass       30162 non-null  object\n",
      " 2   fnlwgt          30162 non-null  int64 \n",
      " 3   education       30162 non-null  object\n",
      " 4   education-num   30162 non-null  int64 \n",
      " 5   marital-status  30162 non-null  object\n",
      " 6   occupation      30162 non-null  object\n",
      " 7   relationship    30162 non-null  object\n",
      " 8   race            30162 non-null  object\n",
      " 9   sex             30162 non-null  object\n",
      " 10  capital-gain    30162 non-null  int64 \n",
      " 11  capital-loss    30162 non-null  int64 \n",
      " 12  hours-per-week  30162 non-null  int64 \n",
      " 13  native-country  30162 non-null  object\n",
      " 14  income          30162 non-null  object\n",
      "dtypes: int64(6), object(9)\n",
      "memory usage: 3.7+ MB\n"
     ]
    }
   ],
   "source": [
    "df_train.info()"
   ]
  },
  {
   "cell_type": "code",
   "execution_count": 4,
   "metadata": {},
   "outputs": [
    {
     "name": "stdout",
     "output_type": "stream",
     "text": [
      "age [39 50 38 53 28 37 49 52 31 42 30 23 32 34 25 43 40 54 35 59 56 19 20 45\n",
      " 22 48 21 24 57 44 41 29 47 46 36 79 27 18 33 76 55 61 70 64 71 66 51 58\n",
      " 26 17 60 90 75 65 77 62 63 67 74 72 69 68 73 81 78 88 80 84 83 85 82 86]\n",
      "workclass ['State-gov' 'Self-emp-not-inc' 'Private' 'Federal-gov' 'Local-gov'\n",
      " 'Self-emp-inc' 'Without-pay']\n",
      "fnlwgt [ 77516  83311 215646 ...  84661 257302 201490]\n",
      "education ['Bachelors' 'HS-grad' '11th' 'Masters' '9th' 'Some-college' 'Assoc-acdm'\n",
      " '7th-8th' 'Doctorate' 'Assoc-voc' 'Prof-school' '5th-6th' '10th'\n",
      " 'Preschool' '12th' '1st-4th']\n",
      "education-num [13  9  7 14  5 10 12  4 16 11 15  3  6  1  8  2]\n",
      "marital-status ['Never-married' 'Married-civ-spouse' 'Divorced' 'Married-spouse-absent'\n",
      " 'Separated' 'Married-AF-spouse' 'Widowed']\n",
      "occupation ['Adm-clerical' 'Exec-managerial' 'Handlers-cleaners' 'Prof-specialty'\n",
      " 'Other-service' 'Sales' 'Transport-moving' 'Farming-fishing'\n",
      " 'Machine-op-inspct' 'Tech-support' 'Craft-repair' 'Protective-serv'\n",
      " 'Armed-Forces' 'Priv-house-serv']\n",
      "relationship ['Not-in-family' 'Husband' 'Wife' 'Own-child' 'Unmarried' 'Other-relative']\n",
      "race ['White' 'Black' 'Asian-Pac-Islander' 'Amer-Indian-Eskimo' 'Other']\n",
      "sex ['Male' 'Female']\n",
      "capital-gain [ 2174     0 14084  5178  5013  2407 14344 15024  7688  4064  4386  7298\n",
      "  1409  3674  1055  2050  2176   594 20051  6849  4101  8614  3411  2597\n",
      " 25236  4650  2463  3103 10605  2964  3325  2580  3471  4865 99999  6514\n",
      "  1471  2329  2105  2885 10520  2202  2961 27828  6767  2228  1506 13550\n",
      "  2635  5556  4787  3781  3137  3818   914   401  2829  2977  4934  2062\n",
      "  2354  3464  5455 15020  1424  3273 22040  4416 10566  4931  7430 34095\n",
      "  6497  3908   114  2346  2907  1151  9386  2414  2290  3418 15831 41310\n",
      "  4508  2538  3456  1848  3887  7896  5721  9562  6418  1455  2036  3942\n",
      "  1831 11678  2936  2993  7443  6360  4687  1797  6723  2009  3432  6097\n",
      "  1639  2653 18481 25124  7978   991  1173  2387  5060  1086]\n",
      "capital-loss [   0 2042 1408 1902 1887 1719 1762 1564 2179 1816 1980 1977 1876 1340\n",
      " 2206 1741 1485 2339 2415 1380 1721 2051 2377 1669 2352 1672  653 2392\n",
      " 1504 1590 1651 1628 1848 2001 1740 2002 1579 2258 1602 2547 2205 1726\n",
      " 2444 1138 2238  625  213 1539  880 1668 1092 1594 2231 1844  810 2824\n",
      " 2559 2057 1573 1974  974 2174 2149 1735 1258 2603 2282  323 2246 1617\n",
      " 1648 1825 3770 1755 3683 2129 4356 2267 2080 2457  419  155 3900 2201\n",
      " 1944 2467 2754 2472 3004 1411]\n",
      "hours-per-week [40 13 16 45 50 80 30 35 60 20 52 44 15 25 43 38 55 48 58 32 70 22 56 41\n",
      " 28 36 24 46  2 42 12 65  1 34 75 98 33 54 10  6 64 19 18 72  8  9 47 37\n",
      " 21 26 14  5  7 99 53 39 62 59 57 78 90 66 11 49 84 17 68  3 27 85 31 51\n",
      " 77 63 23  4 87 88 73 89 97 94 29 96 67 82 86 91 81 76 92 61 74 95]\n",
      "native-country ['United-States' 'Cuba' 'Jamaica' 'India' 'Mexico' 'Puerto-Rico'\n",
      " 'Honduras' 'England' 'Canada' 'Germany' 'Iran' 'Philippines' 'Poland'\n",
      " 'Columbia' 'Cambodia' 'Thailand' 'Ecuador' 'Laos' 'Taiwan' 'Haiti'\n",
      " 'Portugal' 'Dominican-Republic' 'El-Salvador' 'France' 'Guatemala'\n",
      " 'Italy' 'China' 'South' 'Japan' 'Yugoslavia' 'Peru'\n",
      " 'Outlying-US(Guam-USVI-etc)' 'Scotland' 'Trinadad&Tobago' 'Greece'\n",
      " 'Nicaragua' 'Vietnam' 'Hong' 'Ireland' 'Hungary' 'Holand-Netherlands']\n",
      "income ['<=50K' '>50K']\n"
     ]
    }
   ],
   "source": [
    "for c in df_train:\n",
    "    print(c, df_train[c].unique())"
   ]
  },
  {
   "cell_type": "code",
   "execution_count": 5,
   "metadata": {},
   "outputs": [],
   "source": [
    "# Standardizing of numeric values\n",
    "# Doesn't have a lot of meaning in the case of decision trees as it's not using distances (like KNN)\n",
    "# But it's just a pedagological flavor\n",
    "# https://stats.stackexchange.com/questions/10289/whats-the-difference-between-normalization-and-standardization\n",
    "\n",
    "#for c in df_train.select_dtypes(exclude=['object']):\n",
    "#    df_train[\"stand_\"+c] = df_train[c] - (df_train[c].mean() / df_train[c].std())\n",
    "#    \n",
    "#for c in df_evaluate.select_dtypes(exclude=['object']):\n",
    "#    df_evaluate[\"stand_\"+c] = df_evaluate[c] - (df_evaluate[c].mean() / df_evaluate[c].std())\n",
    "#\n",
    "#df_train.info(verbose=True)"
   ]
  },
  {
   "cell_type": "code",
   "execution_count": 6,
   "metadata": {},
   "outputs": [],
   "source": [
    "# droping the education because it's redundant with education-num\n",
    "# droping the occupation because it's not generic enough, we have much more categories that those captured in the training sample\n",
    "# droping the relationship because it's not generic enough, we have much more categories that those captured in the training sample\n",
    "\n",
    "drop_list = [\"education\", \"occupation\", \"relationship\"]\n",
    "df_train = df_train.drop(columns=drop_list)\n",
    "df_evaluate = df_evaluate.drop(columns=drop_list)"
   ]
  },
  {
   "cell_type": "code",
   "execution_count": 7,
   "metadata": {},
   "outputs": [
    {
     "name": "stdout",
     "output_type": "stream",
     "text": [
      "<class 'pandas.core.frame.DataFrame'>\n",
      "Int64Index: 30162 entries, 0 to 32560\n",
      "Data columns (total 12 columns):\n",
      " #   Column          Non-Null Count  Dtype \n",
      "---  ------          --------------  ----- \n",
      " 0   age             30162 non-null  int64 \n",
      " 1   workclass       30162 non-null  object\n",
      " 2   fnlwgt          30162 non-null  int64 \n",
      " 3   education-num   30162 non-null  int64 \n",
      " 4   marital-status  30162 non-null  object\n",
      " 5   race            30162 non-null  object\n",
      " 6   sex             30162 non-null  object\n",
      " 7   capital-gain    30162 non-null  int64 \n",
      " 8   capital-loss    30162 non-null  int64 \n",
      " 9   hours-per-week  30162 non-null  int64 \n",
      " 10  native-country  30162 non-null  object\n",
      " 11  income          30162 non-null  object\n",
      "dtypes: int64(6), object(6)\n",
      "memory usage: 3.0+ MB\n"
     ]
    }
   ],
   "source": [
    "df_train.info()"
   ]
  },
  {
   "cell_type": "code",
   "execution_count": 8,
   "metadata": {},
   "outputs": [],
   "source": [
    "# reducing categories with multiple options into lower dimensions classification (into binary preferably) when possible\n",
    "# - marital-status could be reduced as Married or Not-Married\n",
    "# marital-status ['Never-married' 'Married-civ-spouse' 'Divorced' 'Married-spouse-absent' 'Separated' 'Married-AF-spouse' 'Widowed']\n",
    "# - workclass could be recuded to 3 dimensions: Government, Private, and Self-Employment\n",
    "# Note that we take into consideration all the options for the category from the specifications\n",
    "# ['State-gov' 'Self-emp-not-inc' 'Private' 'Federal-gov' 'Local-gov' 'Self-emp-inc' 'Without-pay']\n",
    "\n",
    "dict_replace = {\n",
    "    'marital-status' : {\n",
    "        'Never-married': 'Not-Married',\n",
    "        'Married-civ-spouse': 'Married',\n",
    "        'Divorced': 'Not-Married',\n",
    "        'Married-spouse-absent': 'Married',\n",
    "        'Separated': 'Married',\n",
    "        'Married-AF-spouse': 'Married',\n",
    "        'Widowed': 'Not-Married'\n",
    "        },\n",
    "    'workclass': {\n",
    "        'State-gov': 'Government',\n",
    "        'Self-emp-not-inc': 'Self-Employment',\n",
    "        'Federal-gov': 'Government',\n",
    "        'Local-gov': 'Government',\n",
    "        'Self-emp-inc': 'Self-Employment'\n",
    "        }\n",
    "}\n",
    "\n",
    "df_train.replace(dict_replace, inplace=True)\n",
    "df_evaluate.replace(dict_replace, inplace=True)"
   ]
  },
  {
   "cell_type": "code",
   "execution_count": 9,
   "metadata": {},
   "outputs": [],
   "source": [
    "# uniformizing the categories between the training and evaluation datasets\n",
    "# indeed, there is a . at the end of the value in the evaluation dataset for the income category and not in the training dataset\n",
    "df_evaluate[\"income\"].replace({\"<=50K.\": \"<=50K\", \">50K.\": \">50K\"}, inplace=True)"
   ]
  },
  {
   "cell_type": "code",
   "execution_count": 10,
   "metadata": {},
   "outputs": [
    {
     "name": "stdout",
     "output_type": "stream",
     "text": [
      "<class 'pandas.core.frame.DataFrame'>\n",
      "Int64Index: 15060 entries, 0 to 16280\n",
      "Data columns (total 12 columns):\n",
      " #   Column          Non-Null Count  Dtype \n",
      "---  ------          --------------  ----- \n",
      " 0   age             15060 non-null  int64 \n",
      " 1   workclass       15060 non-null  object\n",
      " 2   fnlwgt          15060 non-null  int64 \n",
      " 3   education-num   15060 non-null  int64 \n",
      " 4   marital-status  15060 non-null  object\n",
      " 5   race            15060 non-null  object\n",
      " 6   sex             15060 non-null  object\n",
      " 7   capital-gain    15060 non-null  int64 \n",
      " 8   capital-loss    15060 non-null  int64 \n",
      " 9   hours-per-week  15060 non-null  int64 \n",
      " 10  native-country  15060 non-null  object\n",
      " 11  income          15060 non-null  object\n",
      "dtypes: int64(6), object(6)\n",
      "memory usage: 1.5+ MB\n"
     ]
    }
   ],
   "source": [
    "df_evaluate.info()"
   ]
  },
  {
   "cell_type": "code",
   "execution_count": 11,
   "metadata": {},
   "outputs": [
    {
     "name": "stdout",
     "output_type": "stream",
     "text": [
      "<class 'pandas.core.frame.DataFrame'>\n",
      "Int64Index: 30162 entries, 0 to 32560\n",
      "Data columns (total 12 columns):\n",
      " #   Column          Non-Null Count  Dtype \n",
      "---  ------          --------------  ----- \n",
      " 0   age             30162 non-null  int64 \n",
      " 1   workclass       30162 non-null  object\n",
      " 2   fnlwgt          30162 non-null  int64 \n",
      " 3   education-num   30162 non-null  int64 \n",
      " 4   marital-status  30162 non-null  object\n",
      " 5   race            30162 non-null  object\n",
      " 6   sex             30162 non-null  object\n",
      " 7   capital-gain    30162 non-null  int64 \n",
      " 8   capital-loss    30162 non-null  int64 \n",
      " 9   hours-per-week  30162 non-null  int64 \n",
      " 10  native-country  30162 non-null  object\n",
      " 11  income          30162 non-null  object\n",
      "dtypes: int64(6), object(6)\n",
      "memory usage: 3.0+ MB\n"
     ]
    }
   ],
   "source": [
    "df_train.info()"
   ]
  },
  {
   "cell_type": "code",
   "execution_count": 12,
   "metadata": {},
   "outputs": [],
   "source": [
    "from sklearn.preprocessing import LabelEncoder\n",
    "# for binary categories we will be using a label encoder\n",
    "# - marital-status, sex, income\n",
    "\n",
    "for l in [\"marital-status\", \"sex\", \"income\"]:\n",
    "    l_enc = LabelEncoder()\n",
    "    encoder_train = l_enc.fit(df_train[l])\n",
    "    encoder_evaluate = l_enc.fit(df_evaluate[l])\n",
    "    df_train[\"encoded_\"+l] = encoder_train.transform(df_train[l])\n",
    "    df_evaluate[\"encoded_\"+l] = encoder_evaluate.transform(df_evaluate[l])\n",
    "    \n",
    "#df_train.reset_index(inplace=True,drop=True)\n",
    "#df_evaluate.reset_index(inplace=True,drop=True)"
   ]
  },
  {
   "cell_type": "code",
   "execution_count": 13,
   "metadata": {},
   "outputs": [
    {
     "name": "stdout",
     "output_type": "stream",
     "text": [
      "age [25 38 28 44 34 63 24 55 65 36 26 48 43 20 37 45 22 23 54 32 46 56 17 29\n",
      " 39 52 18 21 42 33 30 47 41 19 69 50 31 59 49 58 40 27 57 61 51 73 53 80\n",
      " 62 35 72 64 68 66 60 67 71 70 90 77 81 74 78 82 75 85 76 89 83 79 88 87\n",
      " 84]\n",
      "workclass ['Private' 'Government' 'Self-Employment' 'Without-pay']\n",
      "fnlwgt [226802  89814 336951 ... 350977 349230  83891]\n",
      "education-num [ 7  9 12 10  6 15  4 13 14  3 11  5 16  8  2  1]\n",
      "marital-status ['Not-Married' 'Married']\n",
      "race ['Black' 'White' 'Other' 'Amer-Indian-Eskimo' 'Asian-Pac-Islander']\n",
      "sex ['Male' 'Female']\n",
      "capital-gain [    0  7688  3103  6418  7298  3908 14084  5178 15024  2597  2907  4650\n",
      "  6497  5013 27828  4934  4064  3674  2174 10605 99999  1055   114  2580\n",
      "  3411  4508  4386  8614 13550  6849  2463  3137  2885  2964  1471 10566\n",
      "  2354  1424  1455  3325  4416 25236  4787  2829  4865  1264  1506   594\n",
      " 10520  3464 20051  4101  1797  2407  3471  2653  1086  1848 14344  1151\n",
      "  2993  2290 15020  9386  2202  3818  2176  5455  3418 11678  7978  7262\n",
      "  6514 41310  3456  7430  2062 34095  1831  6723  5060 15831  2977  2346\n",
      "  3273  2329  9562  2105  2635  2414  4931  1731  6097   914  7896  5556\n",
      "  3781  3942  2538  3887  1409 25124  7443  5721   401  1173  4687  6767\n",
      "   991  2036]\n",
      "capital-loss [   0 1721 1876 2415 1887  625 1977 2057 1429 1590 1485 2051 2377 1672\n",
      " 1628 1902 1741 2444 1408 2001 2042 1740 1825 1848 1719 3004 2179 1573\n",
      " 2205 1258 2339 1726 2258 1340 1504 2559 1668 1974 1980 1564 2547 2002\n",
      " 1669 1617  323 1602 3175 2472 1579 2129 1735 2282 1870 1911 1092 1762\n",
      " 2457 2231 2238  653 1138 2246 2603 2392 1510 1944 1380 1421 3770 1594\n",
      "  213 2824 2174 1844 2149 1411 2467 2163 1651]\n",
      "hours-per-week [40 50 30 32 10 39 48 25 20 47 35 43 90 54 60 38 45 36 18 24 44 56 28 16\n",
      " 41 22 55 14 33 37 12 70 15 75 52 84 42 80  8 68 99 65 17 72 53 96 21 46\n",
      "  3  1 49 67 76 23  2 58 26 34  4  7 51 78 63  5 31 92 77 27 29 85  6 13\n",
      " 19 98 62 66 57 86 11 59  9 64 73 61 88 79 89 74 69]\n",
      "native-country ['United-States' 'Peru' 'Guatemala' 'Mexico' 'Dominican-Republic'\n",
      " 'Ireland' 'Germany' 'Philippines' 'Thailand' 'Haiti' 'El-Salvador'\n",
      " 'Puerto-Rico' 'Vietnam' 'South' 'Columbia' 'Japan' 'India' 'Cambodia'\n",
      " 'Poland' 'Laos' 'England' 'Cuba' 'Taiwan' 'Italy' 'Canada' 'Portugal'\n",
      " 'China' 'Nicaragua' 'Honduras' 'Iran' 'Scotland' 'Jamaica' 'Ecuador'\n",
      " 'Yugoslavia' 'Hungary' 'Hong' 'Greece' 'Trinadad&Tobago'\n",
      " 'Outlying-US(Guam-USVI-etc)' 'France']\n",
      "income ['<=50K' '>50K']\n",
      "encoded_marital-status [1 0]\n",
      "encoded_sex [1 0]\n",
      "encoded_income [0 1]\n"
     ]
    }
   ],
   "source": [
    "for c in df_evaluate:\n",
    "    print(c, df_evaluate[c].unique())"
   ]
  },
  {
   "cell_type": "code",
   "execution_count": 14,
   "metadata": {},
   "outputs": [
    {
     "name": "stdout",
     "output_type": "stream",
     "text": [
      "<class 'pandas.core.frame.DataFrame'>\n",
      "Int64Index: 30162 entries, 0 to 32560\n",
      "Data columns (total 15 columns):\n",
      " #   Column                  Non-Null Count  Dtype \n",
      "---  ------                  --------------  ----- \n",
      " 0   age                     30162 non-null  int64 \n",
      " 1   workclass               30162 non-null  object\n",
      " 2   fnlwgt                  30162 non-null  int64 \n",
      " 3   education-num           30162 non-null  int64 \n",
      " 4   marital-status          30162 non-null  object\n",
      " 5   race                    30162 non-null  object\n",
      " 6   sex                     30162 non-null  object\n",
      " 7   capital-gain            30162 non-null  int64 \n",
      " 8   capital-loss            30162 non-null  int64 \n",
      " 9   hours-per-week          30162 non-null  int64 \n",
      " 10  native-country          30162 non-null  object\n",
      " 11  income                  30162 non-null  object\n",
      " 12  encoded_marital-status  30162 non-null  int64 \n",
      " 13  encoded_sex             30162 non-null  int64 \n",
      " 14  encoded_income          30162 non-null  int64 \n",
      "dtypes: int64(9), object(6)\n",
      "memory usage: 3.7+ MB\n"
     ]
    }
   ],
   "source": [
    "df_train.info()"
   ]
  },
  {
   "cell_type": "code",
   "execution_count": 15,
   "metadata": {},
   "outputs": [],
   "source": [
    "# For non-binary categories, first we check the specifications of the dataset to validate all the options per category (we have data_dict)\n",
    "# Indeed, the values in the categories are not always all present in a dataset\n",
    "# race: White, Asian-Pac-Islander, Amer-Indian-Eskimo, Other, Black.\n",
    "# native-country: United-States, Cambodia, England, Puerto-Rico, Canada, Germany, Outlying-US(Guam-USVI-etc), India, Japan, Greece, South, China, Cuba, Iran, Honduras, Philippines, Italy, Poland, Jamaica, Vietnam, Mexico, Portugal, Ireland, France, Dominican-Republic, Laos, Ecuador, Taiwan, Haiti, Columbia, Hungary, Guatemala, Nicaragua, Scotland, Thailand, Yugoslavia, El-Salvador, Trinadad&Tobago, Peru, Hong, Holand-Netherlands.\n",
    "# and our custom category: workclass: Government, Private, and Self-Employment\n",
    "# adding temporary fake data for the one hot encoder\n",
    "\n",
    "fake_row = df_train[:1].copy()\n",
    "df_fake = pd.DataFrame(data=fake_row, columns=df_train.columns)\n",
    "\n",
    "cats_nonbinary = [\"race\", \"native-country\"]\n",
    "\n",
    "for c in cats_nonbinary:\n",
    "    for v in data_dict[c]:\n",
    "        fake_row[c] = v\n",
    "        df_fake = df_fake.append(fake_row, ignore_index=True)\n",
    "        \n",
    "cat_workclass = [\"Government\", \"Private\", \"Self-Employment\"]\n",
    "for cw in cat_workclass:\n",
    "    fake_row[\"workclass\"] = cw\n",
    "    df_fake = df_fake.append(fake_row, ignore_index=True)\n",
    "    \n",
    "df_train = df_train.append(df_fake).reset_index(drop=True)\n",
    "df_evaluate = df_evaluate.append(df_fake).reset_index(drop=True)"
   ]
  },
  {
   "cell_type": "code",
   "execution_count": 16,
   "metadata": {},
   "outputs": [
    {
     "name": "stdout",
     "output_type": "stream",
     "text": [
      "<class 'pandas.core.frame.DataFrame'>\n",
      "RangeIndex: 50 entries, 0 to 49\n",
      "Data columns (total 15 columns):\n",
      " #   Column                  Non-Null Count  Dtype \n",
      "---  ------                  --------------  ----- \n",
      " 0   age                     50 non-null     int64 \n",
      " 1   workclass               50 non-null     object\n",
      " 2   fnlwgt                  50 non-null     int64 \n",
      " 3   education-num           50 non-null     int64 \n",
      " 4   marital-status          50 non-null     object\n",
      " 5   race                    50 non-null     object\n",
      " 6   sex                     50 non-null     object\n",
      " 7   capital-gain            50 non-null     int64 \n",
      " 8   capital-loss            50 non-null     int64 \n",
      " 9   hours-per-week          50 non-null     int64 \n",
      " 10  native-country          50 non-null     object\n",
      " 11  income                  50 non-null     object\n",
      " 12  encoded_marital-status  50 non-null     int64 \n",
      " 13  encoded_sex             50 non-null     int64 \n",
      " 14  encoded_income          50 non-null     int64 \n",
      "dtypes: int64(9), object(6)\n",
      "memory usage: 6.0+ KB\n"
     ]
    }
   ],
   "source": [
    "df_fake.info()"
   ]
  },
  {
   "cell_type": "code",
   "execution_count": 17,
   "metadata": {},
   "outputs": [
    {
     "name": "stdout",
     "output_type": "stream",
     "text": [
      "<class 'pandas.core.frame.DataFrame'>\n",
      "RangeIndex: 30212 entries, 0 to 30211\n",
      "Data columns (total 15 columns):\n",
      " #   Column                  Non-Null Count  Dtype \n",
      "---  ------                  --------------  ----- \n",
      " 0   age                     30212 non-null  int64 \n",
      " 1   workclass               30212 non-null  object\n",
      " 2   fnlwgt                  30212 non-null  int64 \n",
      " 3   education-num           30212 non-null  int64 \n",
      " 4   marital-status          30212 non-null  object\n",
      " 5   race                    30212 non-null  object\n",
      " 6   sex                     30212 non-null  object\n",
      " 7   capital-gain            30212 non-null  int64 \n",
      " 8   capital-loss            30212 non-null  int64 \n",
      " 9   hours-per-week          30212 non-null  int64 \n",
      " 10  native-country          30212 non-null  object\n",
      " 11  income                  30212 non-null  object\n",
      " 12  encoded_marital-status  30212 non-null  int64 \n",
      " 13  encoded_sex             30212 non-null  int64 \n",
      " 14  encoded_income          30212 non-null  int64 \n",
      "dtypes: int64(9), object(6)\n",
      "memory usage: 3.5+ MB\n"
     ]
    }
   ],
   "source": [
    "df_train.info()"
   ]
  },
  {
   "cell_type": "code",
   "execution_count": 18,
   "metadata": {},
   "outputs": [
    {
     "name": "stdout",
     "output_type": "stream",
     "text": [
      "<class 'pandas.core.frame.DataFrame'>\n",
      "RangeIndex: 15110 entries, 0 to 15109\n",
      "Data columns (total 15 columns):\n",
      " #   Column                  Non-Null Count  Dtype \n",
      "---  ------                  --------------  ----- \n",
      " 0   age                     15110 non-null  int64 \n",
      " 1   workclass               15110 non-null  object\n",
      " 2   fnlwgt                  15110 non-null  int64 \n",
      " 3   education-num           15110 non-null  int64 \n",
      " 4   marital-status          15110 non-null  object\n",
      " 5   race                    15110 non-null  object\n",
      " 6   sex                     15110 non-null  object\n",
      " 7   capital-gain            15110 non-null  int64 \n",
      " 8   capital-loss            15110 non-null  int64 \n",
      " 9   hours-per-week          15110 non-null  int64 \n",
      " 10  native-country          15110 non-null  object\n",
      " 11  income                  15110 non-null  object\n",
      " 12  encoded_marital-status  15110 non-null  int64 \n",
      " 13  encoded_sex             15110 non-null  int64 \n",
      " 14  encoded_income          15110 non-null  int64 \n",
      "dtypes: int64(9), object(6)\n",
      "memory usage: 1.7+ MB\n"
     ]
    }
   ],
   "source": [
    "df_evaluate.info()"
   ]
  },
  {
   "cell_type": "code",
   "execution_count": 19,
   "metadata": {},
   "outputs": [],
   "source": [
    "# for non-binary categories we will be using a onehot encoder as decision trees are sensitive to leaves values\n",
    "# note that get_dummies from pandas is exactly doing this without the complexity of using OneHotEncoder manually from sklearn\n",
    "# - workclass, race, native-country\n",
    "\n",
    "for l in [\"workclass\", \"race\", \"native-country\"]:\n",
    "    df_train=pd.concat([df_train,pd.get_dummies(df_train[l], prefix=\"encoded_\"+l)],axis=1)\n",
    "    df_evaluate=pd.concat([df_evaluate,pd.get_dummies(df_evaluate[l], prefix=\"encoded_\"+l)],axis=1)\n",
    "\n",
    "#remove the fake rows\n",
    "df_train = df_train[:-len(df_fake)]\n",
    "df_evaluate = df_evaluate[:-len(df_fake)]"
   ]
  },
  {
   "cell_type": "code",
   "execution_count": 20,
   "metadata": {},
   "outputs": [],
   "source": [
    "# get meaningful columns\n",
    "continuous_features = [k for k, v in data_dict.items() if v == \"\"]\n",
    "encoded_features = [c for c in df_train if c.startswith('encoded')]\n",
    "columns = continuous_features+encoded_features\n",
    "columns.remove(\"encoded_income\")"
   ]
  },
  {
   "cell_type": "code",
   "execution_count": 21,
   "metadata": {},
   "outputs": [
    {
     "name": "stdout",
     "output_type": "stream",
     "text": [
      "<class 'pandas.core.frame.DataFrame'>\n",
      "RangeIndex: 30162 entries, 0 to 30161\n",
      "Data columns (total 65 columns):\n",
      " #   Column                                             Non-Null Count  Dtype \n",
      "---  ------                                             --------------  ----- \n",
      " 0   age                                                30162 non-null  int64 \n",
      " 1   workclass                                          30162 non-null  object\n",
      " 2   fnlwgt                                             30162 non-null  int64 \n",
      " 3   education-num                                      30162 non-null  int64 \n",
      " 4   marital-status                                     30162 non-null  object\n",
      " 5   race                                               30162 non-null  object\n",
      " 6   sex                                                30162 non-null  object\n",
      " 7   capital-gain                                       30162 non-null  int64 \n",
      " 8   capital-loss                                       30162 non-null  int64 \n",
      " 9   hours-per-week                                     30162 non-null  int64 \n",
      " 10  native-country                                     30162 non-null  object\n",
      " 11  income                                             30162 non-null  object\n",
      " 12  encoded_marital-status                             30162 non-null  int64 \n",
      " 13  encoded_sex                                        30162 non-null  int64 \n",
      " 14  encoded_income                                     30162 non-null  int64 \n",
      " 15  encoded_workclass_Government                       30162 non-null  uint8 \n",
      " 16  encoded_workclass_Private                          30162 non-null  uint8 \n",
      " 17  encoded_workclass_Self-Employment                  30162 non-null  uint8 \n",
      " 18  encoded_workclass_Without-pay                      30162 non-null  uint8 \n",
      " 19  encoded_race_Amer-Indian-Eskimo                    30162 non-null  uint8 \n",
      " 20  encoded_race_Asian-Pac-Islander                    30162 non-null  uint8 \n",
      " 21  encoded_race_Black                                 30162 non-null  uint8 \n",
      " 22  encoded_race_Other                                 30162 non-null  uint8 \n",
      " 23  encoded_race_White                                 30162 non-null  uint8 \n",
      " 24  encoded_native-country_Cambodia                    30162 non-null  uint8 \n",
      " 25  encoded_native-country_Canada                      30162 non-null  uint8 \n",
      " 26  encoded_native-country_China                       30162 non-null  uint8 \n",
      " 27  encoded_native-country_Columbia                    30162 non-null  uint8 \n",
      " 28  encoded_native-country_Cuba                        30162 non-null  uint8 \n",
      " 29  encoded_native-country_Dominican-Republic          30162 non-null  uint8 \n",
      " 30  encoded_native-country_Ecuador                     30162 non-null  uint8 \n",
      " 31  encoded_native-country_El-Salvador                 30162 non-null  uint8 \n",
      " 32  encoded_native-country_England                     30162 non-null  uint8 \n",
      " 33  encoded_native-country_France                      30162 non-null  uint8 \n",
      " 34  encoded_native-country_Germany                     30162 non-null  uint8 \n",
      " 35  encoded_native-country_Greece                      30162 non-null  uint8 \n",
      " 36  encoded_native-country_Guatemala                   30162 non-null  uint8 \n",
      " 37  encoded_native-country_Haiti                       30162 non-null  uint8 \n",
      " 38  encoded_native-country_Holand-Netherlands          30162 non-null  uint8 \n",
      " 39  encoded_native-country_Honduras                    30162 non-null  uint8 \n",
      " 40  encoded_native-country_Hong                        30162 non-null  uint8 \n",
      " 41  encoded_native-country_Hungary                     30162 non-null  uint8 \n",
      " 42  encoded_native-country_India                       30162 non-null  uint8 \n",
      " 43  encoded_native-country_Iran                        30162 non-null  uint8 \n",
      " 44  encoded_native-country_Ireland                     30162 non-null  uint8 \n",
      " 45  encoded_native-country_Italy                       30162 non-null  uint8 \n",
      " 46  encoded_native-country_Jamaica                     30162 non-null  uint8 \n",
      " 47  encoded_native-country_Japan                       30162 non-null  uint8 \n",
      " 48  encoded_native-country_Laos                        30162 non-null  uint8 \n",
      " 49  encoded_native-country_Mexico                      30162 non-null  uint8 \n",
      " 50  encoded_native-country_Nicaragua                   30162 non-null  uint8 \n",
      " 51  encoded_native-country_Outlying-US(Guam-USVI-etc)  30162 non-null  uint8 \n",
      " 52  encoded_native-country_Peru                        30162 non-null  uint8 \n",
      " 53  encoded_native-country_Philippines                 30162 non-null  uint8 \n",
      " 54  encoded_native-country_Poland                      30162 non-null  uint8 \n",
      " 55  encoded_native-country_Portugal                    30162 non-null  uint8 \n",
      " 56  encoded_native-country_Puerto-Rico                 30162 non-null  uint8 \n",
      " 57  encoded_native-country_Scotland                    30162 non-null  uint8 \n",
      " 58  encoded_native-country_South                       30162 non-null  uint8 \n",
      " 59  encoded_native-country_Taiwan                      30162 non-null  uint8 \n",
      " 60  encoded_native-country_Thailand                    30162 non-null  uint8 \n",
      " 61  encoded_native-country_Trinadad&Tobago             30162 non-null  uint8 \n",
      " 62  encoded_native-country_United-States               30162 non-null  uint8 \n",
      " 63  encoded_native-country_Vietnam                     30162 non-null  uint8 \n",
      " 64  encoded_native-country_Yugoslavia                  30162 non-null  uint8 \n",
      "dtypes: int64(9), object(6), uint8(50)\n",
      "memory usage: 4.9+ MB\n"
     ]
    }
   ],
   "source": [
    "df_train.info()"
   ]
  },
  {
   "cell_type": "code",
   "execution_count": 22,
   "metadata": {},
   "outputs": [],
   "source": [
    "## Converting objects columns into values\n",
    "#for c in continuous_features+[\"encoded_income\"]:\n",
    "#    df_train[c] = df_train[c].astype('int64')\n",
    "#    df_evaluate[c] = df_evaluate[c].astype('int64')\n",
    "#\n",
    "#for c in [c for c in df_train.select_dtypes(['object']) if c.startswith('encoded')]:\n",
    "#    df_train[c] = df_train[c].astype('uint8')\n",
    "#    df_evaluate[c] = df_evaluate[c].astype('uint8')\n",
    "#\n",
    "#df_train.info()"
   ]
  },
  {
   "cell_type": "code",
   "execution_count": 23,
   "metadata": {},
   "outputs": [],
   "source": [
    "from sklearn.model_selection import train_test_split\n",
    "\n",
    "# make training and testings sets\n",
    "X_train, X_test, y_train, y_test = train_test_split(df_train[columns],df_train[\"encoded_income\"],test_size=0.2,random_state=1)\n",
    "\n",
    "# make evaluation sets\n",
    "X_evaluate = df_evaluate[columns]\n",
    "y_evaluate = df_evaluate[\"encoded_income\"]"
   ]
  },
  {
   "cell_type": "code",
   "execution_count": 24,
   "metadata": {},
   "outputs": [
    {
     "data": {
      "text/plain": [
       "(15060, 65)"
      ]
     },
     "execution_count": 24,
     "metadata": {},
     "output_type": "execute_result"
    }
   ],
   "source": [
    "df_evaluate.shape"
   ]
  },
  {
   "cell_type": "code",
   "execution_count": 25,
   "metadata": {},
   "outputs": [
    {
     "data": {
      "image/png": "[encoded data removed]",
      "text/plain": [
       "<Figure size 432x288 with 1 Axes>"
      ]
     },
     "metadata": {
      "needs_background": "light"
     },
     "output_type": "display_data"
    }
   ],
   "source": [
    "# run a decision tree classifier\n",
    "\n",
    "from sklearn.tree import DecisionTreeClassifier\n",
    "from sklearn.metrics import accuracy_score\n",
    "import matplotlib.pyplot as plt\n",
    "\n",
    "parameter_dtree_min = 1\n",
    "parameter_dtree_max = 15\n",
    "preds_dtree_train=[]\n",
    "preds_dtree_test=[]\n",
    "for depth in range(parameter_dtree_min,parameter_dtree_max):\n",
    "    cl_dtree = DecisionTreeClassifier(criterion='gini', random_state=1,max_depth=depth)\n",
    "    dtree_model = cl_dtree.fit(X_train,y_train)\n",
    "    y_hat_dtree_train = dtree_model.predict(X_train)\n",
    "    y_hat_dtree_test = dtree_model.predict(X_test)\n",
    "    preds_dtree_train.append(accuracy_score(y_train,y_hat_dtree_train))\n",
    "    preds_dtree_test.append(accuracy_score(y_test,y_hat_dtree_test))\n",
    "    #print(depth,\"Train accuracy_score\",preds_train[-1])\n",
    "    #print(depth,\"Test accuracy_score\",preds_test[-1],\"\\n\")\n",
    "    \n",
    "plt.scatter(range(parameter_dtree_min,parameter_dtree_max),preds_dtree_train,c=\"b\",label=\"train score\")\n",
    "plt.scatter(range(parameter_dtree_min,parameter_dtree_max),preds_dtree_test,c=\"r\",label=\"test score\")\n",
    "plt.legend(loc=\"upper left\")\n",
    "plt.title('DecisionTreeClassifier: accuracy_score vs depth')\n",
    "plt.xlabel('depth')\n",
    "plt.ylabel('accuracy_score')\n",
    "plt.savefig('DecisionTreeClassifier.png')\n",
    "plt.show()"
   ]
  },
  {
   "cell_type": "code",
   "execution_count": 26,
   "metadata": {},
   "outputs": [
    {
     "name": "stdout",
     "output_type": "stream",
     "text": [
      "depth=8 Train accuracy_score 0.8550292179535\n",
      "depth=8 Test accuracy_score 0.8465108569534229\n",
      "depth=8 Evaluation accuracy_score 0.8469455511288181 \n",
      "\n"
     ]
    }
   ],
   "source": [
    "#present depth with best score for evaluation dataset\n",
    "max_dtree_index = preds_dtree_test.index(max(preds_dtree_test))\n",
    "best_depth = list(range(parameter_dtree_min,parameter_dtree_max))[max_dtree_index]\n",
    "cl_dtree = DecisionTreeClassifier(criterion='gini', random_state=1,max_depth=best_depth)\n",
    "dtree_model = cl_dtree.fit(X_train,y_train)\n",
    "y_hat_dtree_train = dtree_model.predict(X_train)\n",
    "y_hat_dtree_test = dtree_model.predict(X_test)\n",
    "y_hat_dtree_evaluate = dtree_model.predict(X_evaluate)\n",
    "print(\"depth=\"+str(best_depth),\"Train accuracy_score\",accuracy_score(y_train,y_hat_dtree_train))\n",
    "print(\"depth=\"+str(best_depth),\"Test accuracy_score\",accuracy_score(y_test,y_hat_dtree_test))\n",
    "print(\"depth=\"+str(best_depth),\"Evaluation accuracy_score\",accuracy_score(y_evaluate,y_hat_dtree_evaluate),\"\\n\")"
   ]
  },
  {
   "cell_type": "code",
   "execution_count": 27,
   "metadata": {},
   "outputs": [],
   "source": [
    "# lab 01 results:\n",
    "# depth=8 Train accuracy_score 0.8356749140038957\n",
    "# depth=8 Test accuracy_score 0.832587435769932\n",
    "# depth=8 Evaluation accuracy_score 0.8287516600265604 "
   ]
  },
  {
   "cell_type": "code",
   "execution_count": null,
   "metadata": {},
   "outputs": [],
   "source": []
  },
  {
   "cell_type": "code",
   "execution_count": 28,
   "metadata": {},
   "outputs": [
    {
     "name": "stderr",
     "output_type": "stream",
     "text": [
      "/usr/local/lib/python3.6/dist-packages/pandas/io/parsers.py:767: ParserWarning: Falling back to the 'python' engine because the 'c' engine does not support regex separators (separators > 1 char and different from '\\s+' are interpreted as regex); you can avoid this warning by specifying engine='python'.\n",
      "  return read_csv(**locals())\n",
      "/usr/local/lib/python3.6/dist-packages/pandas/io/parsers.py:767: ParserWarning: Falling back to the 'python' engine because the 'c' engine does not support regex separators (separators > 1 char and different from '\\s+' are interpreted as regex); you can avoid this warning by specifying engine='python'.\n",
      "  return read_csv(**locals())\n"
     ]
    },
    {
     "name": "stdout",
     "output_type": "stream",
     "text": [
      "*************************************************\n",
      "Searching best Depth for Decision Tree Classifier\n",
      "************************************************* \n",
      "\n",
      "*********************************************\n",
      "Evaluate Decision Tree Classifier on new data\n",
      "********************************************* \n",
      "\n",
      "depth=8 Train accuracy_score 0.8550292179535\n",
      "depth=8 Test accuracy_score 0.8465108569534229\n",
      "depth=8 Evaluation accuracy_score 0.8469455511288181 \n",
      "\n"
     ]
    }
   ],
   "source": [
    "%run main.py"
   ]
  },
  {
   "cell_type": "code",
   "execution_count": null,
   "metadata": {},
   "outputs": [],
   "source": []
  }
 ],
 "metadata": {
  "kernelspec": {
   "display_name": "Python 3",
   "language": "python",
   "name": "python3"
  },
  "language_info": {
   "codemirror_mode": {
    "name": "ipython",
    "version": 3
   },
   "file_extension": ".py",
   "mimetype": "text/x-python",
   "name": "python",
   "nbconvert_exporter": "python",
   "pygments_lexer": "ipython3",
   "version": "3.6.9"
  }
 },
 "nbformat": 4,
 "nbformat_minor": 4
}
