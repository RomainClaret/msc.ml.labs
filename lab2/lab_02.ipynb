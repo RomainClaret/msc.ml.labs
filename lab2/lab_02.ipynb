{
 "cells": [
  {
   "cell_type": "markdown",
   "metadata": {},
   "source": [
    "# Assignment lab 02\n",
    "- 22.03.19\n",
    "\n",
    "## Master Class: Machine Learning (5MI2018)\n",
    "- Faculty of Economic Science\n",
    "- University of Neuchatel (Switzerland)\n",
    "- Lab 1, see ML21_Exercise_1.pdf for more information\n",
    "\n",
    "## Authors: \n",
    "- Romain Claret @RomainClaret\n",
    "- Sylvain Robert-Nicoud @Nic0uds"
   ]
  },
  {
   "cell_type": "code",
   "execution_count": null,
   "metadata": {},
   "outputs": [],
   "source": []
  },
  {
   "cell_type": "code",
   "execution_count": 353,
   "metadata": {},
   "outputs": [
    {
     "name": "stderr",
     "output_type": "stream",
     "text": [
      "/usr/local/lib/python3.6/dist-packages/pandas/io/parsers.py:767: ParserWarning: Falling back to the 'python' engine because the 'c' engine does not support regex separators (separators > 1 char and different from '\\s+' are interpreted as regex); you can avoid this warning by specifying engine='python'.\n",
      "  return read_csv(**locals())\n",
      "/usr/local/lib/python3.6/dist-packages/pandas/io/parsers.py:767: ParserWarning: Falling back to the 'python' engine because the 'c' engine does not support regex separators (separators > 1 char and different from '\\s+' are interpreted as regex); you can avoid this warning by specifying engine='python'.\n",
      "  return read_csv(**locals())\n"
     ]
    }
   ],
   "source": [
    "#%run main.py\n",
    "# in the specifications (adult.names): Unknown values are replaced with the character '?'\n",
    "\n",
    "import pandas as pd\n",
    "\n",
    "def prepare_datasets():\n",
    "    header = [\n",
    "        'age', 'workclass', 'fnlwgt', 'education', 'education-num',\n",
    "        'marital-status', 'occupation', 'relationship', 'race', 'sex',\n",
    "        'capital-gain', 'capital-loss', 'hours-per-week', 'native-country', 'income']\n",
    "    train = pd.read_table(\"adult.data\", sep=r',\\s', na_values='?', header=None, names=header).dropna()\n",
    "    evaluate = pd.read_table(\"adult.test\", sep=r',\\s', na_values='?', skiprows=[0], header=None, names=header).dropna()\n",
    "    return train, evaluate\n",
    "\n",
    "df_train, df_evaluate = prepare_datasets()"
   ]
  },
  {
   "cell_type": "code",
   "execution_count": 354,
   "metadata": {},
   "outputs": [
    {
     "data": {
      "text/plain": [
       "(30162, 15)"
      ]
     },
     "execution_count": 354,
     "metadata": {},
     "output_type": "execute_result"
    }
   ],
   "source": [
    "df_train.shape"
   ]
  },
  {
   "cell_type": "code",
   "execution_count": 355,
   "metadata": {},
   "outputs": [
    {
     "name": "stdout",
     "output_type": "stream",
     "text": [
      "<class 'pandas.core.frame.DataFrame'>\n",
      "Int64Index: 30162 entries, 0 to 32560\n",
      "Data columns (total 15 columns):\n",
      " #   Column          Non-Null Count  Dtype \n",
      "---  ------          --------------  ----- \n",
      " 0   age             30162 non-null  int64 \n",
      " 1   workclass       30162 non-null  object\n",
      " 2   fnlwgt          30162 non-null  int64 \n",
      " 3   education       30162 non-null  object\n",
      " 4   education-num   30162 non-null  int64 \n",
      " 5   marital-status  30162 non-null  object\n",
      " 6   occupation      30162 non-null  object\n",
      " 7   relationship    30162 non-null  object\n",
      " 8   race            30162 non-null  object\n",
      " 9   sex             30162 non-null  object\n",
      " 10  capital-gain    30162 non-null  int64 \n",
      " 11  capital-loss    30162 non-null  int64 \n",
      " 12  hours-per-week  30162 non-null  int64 \n",
      " 13  native-country  30162 non-null  object\n",
      " 14  income          30162 non-null  object\n",
      "dtypes: int64(6), object(9)\n",
      "memory usage: 3.7+ MB\n"
     ]
    }
   ],
   "source": [
    "df_train.info()"
   ]
  },
  {
   "cell_type": "code",
   "execution_count": 356,
   "metadata": {},
   "outputs": [
    {
     "name": "stdout",
     "output_type": "stream",
     "text": [
      "age [39 50 38 53 28 37 49 52 31 42 30 23 32 34 25 43 40 54 35 59 56 19 20 45\n",
      " 22 48 21 24 57 44 41 29 47 46 36 79 27 18 33 76 55 61 70 64 71 66 51 58\n",
      " 26 17 60 90 75 65 77 62 63 67 74 72 69 68 73 81 78 88 80 84 83 85 82 86]\n",
      "workclass ['State-gov' 'Self-emp-not-inc' 'Private' 'Federal-gov' 'Local-gov'\n",
      " 'Self-emp-inc' 'Without-pay']\n",
      "fnlwgt [ 77516  83311 215646 ...  84661 257302 201490]\n",
      "education ['Bachelors' 'HS-grad' '11th' 'Masters' '9th' 'Some-college' 'Assoc-acdm'\n",
      " '7th-8th' 'Doctorate' 'Assoc-voc' 'Prof-school' '5th-6th' '10th'\n",
      " 'Preschool' '12th' '1st-4th']\n",
      "education-num [13  9  7 14  5 10 12  4 16 11 15  3  6  1  8  2]\n",
      "marital-status ['Never-married' 'Married-civ-spouse' 'Divorced' 'Married-spouse-absent'\n",
      " 'Separated' 'Married-AF-spouse' 'Widowed']\n",
      "occupation ['Adm-clerical' 'Exec-managerial' 'Handlers-cleaners' 'Prof-specialty'\n",
      " 'Other-service' 'Sales' 'Transport-moving' 'Farming-fishing'\n",
      " 'Machine-op-inspct' 'Tech-support' 'Craft-repair' 'Protective-serv'\n",
      " 'Armed-Forces' 'Priv-house-serv']\n",
      "relationship ['Not-in-family' 'Husband' 'Wife' 'Own-child' 'Unmarried' 'Other-relative']\n",
      "race ['White' 'Black' 'Asian-Pac-Islander' 'Amer-Indian-Eskimo' 'Other']\n",
      "sex ['Male' 'Female']\n",
      "capital-gain [ 2174     0 14084  5178  5013  2407 14344 15024  7688  4064  4386  7298\n",
      "  1409  3674  1055  2050  2176   594 20051  6849  4101  8614  3411  2597\n",
      " 25236  4650  2463  3103 10605  2964  3325  2580  3471  4865 99999  6514\n",
      "  1471  2329  2105  2885 10520  2202  2961 27828  6767  2228  1506 13550\n",
      "  2635  5556  4787  3781  3137  3818   914   401  2829  2977  4934  2062\n",
      "  2354  3464  5455 15020  1424  3273 22040  4416 10566  4931  7430 34095\n",
      "  6497  3908   114  2346  2907  1151  9386  2414  2290  3418 15831 41310\n",
      "  4508  2538  3456  1848  3887  7896  5721  9562  6418  1455  2036  3942\n",
      "  1831 11678  2936  2993  7443  6360  4687  1797  6723  2009  3432  6097\n",
      "  1639  2653 18481 25124  7978   991  1173  2387  5060  1086]\n",
      "capital-loss [   0 2042 1408 1902 1887 1719 1762 1564 2179 1816 1980 1977 1876 1340\n",
      " 2206 1741 1485 2339 2415 1380 1721 2051 2377 1669 2352 1672  653 2392\n",
      " 1504 1590 1651 1628 1848 2001 1740 2002 1579 2258 1602 2547 2205 1726\n",
      " 2444 1138 2238  625  213 1539  880 1668 1092 1594 2231 1844  810 2824\n",
      " 2559 2057 1573 1974  974 2174 2149 1735 1258 2603 2282  323 2246 1617\n",
      " 1648 1825 3770 1755 3683 2129 4356 2267 2080 2457  419  155 3900 2201\n",
      " 1944 2467 2754 2472 3004 1411]\n",
      "hours-per-week [40 13 16 45 50 80 30 35 60 20 52 44 15 25 43 38 55 48 58 32 70 22 56 41\n",
      " 28 36 24 46  2 42 12 65  1 34 75 98 33 54 10  6 64 19 18 72  8  9 47 37\n",
      " 21 26 14  5  7 99 53 39 62 59 57 78 90 66 11 49 84 17 68  3 27 85 31 51\n",
      " 77 63 23  4 87 88 73 89 97 94 29 96 67 82 86 91 81 76 92 61 74 95]\n",
      "native-country ['United-States' 'Cuba' 'Jamaica' 'India' 'Mexico' 'Puerto-Rico'\n",
      " 'Honduras' 'England' 'Canada' 'Germany' 'Iran' 'Philippines' 'Poland'\n",
      " 'Columbia' 'Cambodia' 'Thailand' 'Ecuador' 'Laos' 'Taiwan' 'Haiti'\n",
      " 'Portugal' 'Dominican-Republic' 'El-Salvador' 'France' 'Guatemala'\n",
      " 'Italy' 'China' 'South' 'Japan' 'Yugoslavia' 'Peru'\n",
      " 'Outlying-US(Guam-USVI-etc)' 'Scotland' 'Trinadad&Tobago' 'Greece'\n",
      " 'Nicaragua' 'Vietnam' 'Hong' 'Ireland' 'Hungary' 'Holand-Netherlands']\n",
      "income ['<=50K' '>50K']\n"
     ]
    }
   ],
   "source": [
    "for c in df_train:\n",
    "    print(c, df_train[c].unique())"
   ]
  },
  {
   "cell_type": "code",
   "execution_count": 357,
   "metadata": {},
   "outputs": [
    {
     "data": {
      "text/plain": [
       "0             Never-married\n",
       "1        Married-civ-spouse\n",
       "2                  Divorced\n",
       "3        Married-civ-spouse\n",
       "4        Married-civ-spouse\n",
       "                ...        \n",
       "32556    Married-civ-spouse\n",
       "32557    Married-civ-spouse\n",
       "32558               Widowed\n",
       "32559         Never-married\n",
       "32560    Married-civ-spouse\n",
       "Name: marital-status, Length: 30162, dtype: object"
      ]
     },
     "execution_count": 357,
     "metadata": {},
     "output_type": "execute_result"
    }
   ],
   "source": [
    "df_train['marital-status']"
   ]
  },
  {
   "cell_type": "code",
   "execution_count": 358,
   "metadata": {},
   "outputs": [
    {
     "name": "stdout",
     "output_type": "stream",
     "text": [
      "<class 'pandas.core.frame.DataFrame'>\n",
      "Int64Index: 30162 entries, 0 to 32560\n",
      "Data columns (total 15 columns):\n",
      " #   Column          Non-Null Count  Dtype \n",
      "---  ------          --------------  ----- \n",
      " 0   age             30162 non-null  int64 \n",
      " 1   workclass       30162 non-null  object\n",
      " 2   fnlwgt          30162 non-null  int64 \n",
      " 3   education       30162 non-null  object\n",
      " 4   education-num   30162 non-null  int64 \n",
      " 5   marital-status  30162 non-null  object\n",
      " 6   occupation      30162 non-null  object\n",
      " 7   relationship    30162 non-null  object\n",
      " 8   race            30162 non-null  object\n",
      " 9   sex             30162 non-null  object\n",
      " 10  capital-gain    30162 non-null  int64 \n",
      " 11  capital-loss    30162 non-null  int64 \n",
      " 12  hours-per-week  30162 non-null  int64 \n",
      " 13  native-country  30162 non-null  object\n",
      " 14  income          30162 non-null  object\n",
      "dtypes: int64(6), object(9)\n",
      "memory usage: 3.7+ MB\n"
     ]
    }
   ],
   "source": [
    "df_train.info()"
   ]
  },
  {
   "cell_type": "code",
   "execution_count": 359,
   "metadata": {},
   "outputs": [],
   "source": [
    "# Standardizing of numeric values\n",
    "# Doesn't have a lot of meaning in the case of decision trees as it's not using distances\n",
    "# But it's just a pedagological flavor\n",
    "# https://stats.stackexchange.com/questions/10289/whats-the-difference-between-normalization-and-standardization\n",
    "\n",
    "for c in df_train.select_dtypes(exclude=['object']):\n",
    "    df_train[\"stand_\"+c] = df_train[c] - (df_train[c].mean() / df_train[c].std())\n",
    "    \n",
    "for c in df_evaluate.select_dtypes(exclude=['object']):\n",
    "    df_evaluate[\"stand_\"+c] = df_evaluate[c] - (df_evaluate[c].mean() / df_evaluate[c].std())"
   ]
  },
  {
   "cell_type": "code",
   "execution_count": 360,
   "metadata": {},
   "outputs": [
    {
     "name": "stdout",
     "output_type": "stream",
     "text": [
      "<class 'pandas.core.frame.DataFrame'>\n",
      "Int64Index: 30162 entries, 0 to 32560\n",
      "Data columns (total 21 columns):\n",
      " #   Column                Non-Null Count  Dtype  \n",
      "---  ------                --------------  -----  \n",
      " 0   age                   30162 non-null  int64  \n",
      " 1   workclass             30162 non-null  object \n",
      " 2   fnlwgt                30162 non-null  int64  \n",
      " 3   education             30162 non-null  object \n",
      " 4   education-num         30162 non-null  int64  \n",
      " 5   marital-status        30162 non-null  object \n",
      " 6   occupation            30162 non-null  object \n",
      " 7   relationship          30162 non-null  object \n",
      " 8   race                  30162 non-null  object \n",
      " 9   sex                   30162 non-null  object \n",
      " 10  capital-gain          30162 non-null  int64  \n",
      " 11  capital-loss          30162 non-null  int64  \n",
      " 12  hours-per-week        30162 non-null  int64  \n",
      " 13  native-country        30162 non-null  object \n",
      " 14  income                30162 non-null  object \n",
      " 15  stand_age             30162 non-null  float64\n",
      " 16  stand_fnlwgt          30162 non-null  float64\n",
      " 17  stand_education-num   30162 non-null  float64\n",
      " 18  stand_capital-gain    30162 non-null  float64\n",
      " 19  stand_capital-loss    30162 non-null  float64\n",
      " 20  stand_hours-per-week  30162 non-null  float64\n",
      "dtypes: float64(6), int64(6), object(9)\n",
      "memory usage: 5.1+ MB\n"
     ]
    }
   ],
   "source": [
    "df_train.info(verbose=True)"
   ]
  },
  {
   "cell_type": "code",
   "execution_count": 361,
   "metadata": {},
   "outputs": [],
   "source": [
    "# droping the education because it's redundant with education-num\n",
    "# droping the occupation because it's not generic enough, we have much more categories that those captured in the training sample\n",
    "# droping the relationship because it's not generic enough, we have much more categories that those captured in the training sample\n",
    "\n",
    "df_train = df_train.drop(columns=[\"education\", \"occupation\", \"relationship\"])\n",
    "df_evaluate = df_evaluate.drop(columns=[\"education\", \"occupation\", \"relationship\"])"
   ]
  },
  {
   "cell_type": "code",
   "execution_count": 362,
   "metadata": {},
   "outputs": [
    {
     "name": "stdout",
     "output_type": "stream",
     "text": [
      "<class 'pandas.core.frame.DataFrame'>\n",
      "Int64Index: 30162 entries, 0 to 32560\n",
      "Data columns (total 18 columns):\n",
      " #   Column                Non-Null Count  Dtype  \n",
      "---  ------                --------------  -----  \n",
      " 0   age                   30162 non-null  int64  \n",
      " 1   workclass             30162 non-null  object \n",
      " 2   fnlwgt                30162 non-null  int64  \n",
      " 3   education-num         30162 non-null  int64  \n",
      " 4   marital-status        30162 non-null  object \n",
      " 5   race                  30162 non-null  object \n",
      " 6   sex                   30162 non-null  object \n",
      " 7   capital-gain          30162 non-null  int64  \n",
      " 8   capital-loss          30162 non-null  int64  \n",
      " 9   hours-per-week        30162 non-null  int64  \n",
      " 10  native-country        30162 non-null  object \n",
      " 11  income                30162 non-null  object \n",
      " 12  stand_age             30162 non-null  float64\n",
      " 13  stand_fnlwgt          30162 non-null  float64\n",
      " 14  stand_education-num   30162 non-null  float64\n",
      " 15  stand_capital-gain    30162 non-null  float64\n",
      " 16  stand_capital-loss    30162 non-null  float64\n",
      " 17  stand_hours-per-week  30162 non-null  float64\n",
      "dtypes: float64(6), int64(6), object(6)\n",
      "memory usage: 4.4+ MB\n"
     ]
    }
   ],
   "source": [
    "df_train.info()"
   ]
  },
  {
   "cell_type": "code",
   "execution_count": 363,
   "metadata": {},
   "outputs": [],
   "source": [
    "# reducing categories with multiple options into lower dimensions classification (into binary preferably) when possible\n",
    "# - marital-status could be reduced as Married or Not-Married\n",
    "# marital-status ['Never-married' 'Married-civ-spouse' 'Divorced' 'Married-spouse-absent' 'Separated' 'Married-AF-spouse' 'Widowed']\n",
    "# - workclass could be recuded to 3 dimensions: Government, Private, and Self-Employment\n",
    "# ['State-gov' 'Self-emp-not-inc' 'Private' 'Federal-gov' 'Local-gov' 'Self-emp-inc' 'Without-pay']\n",
    "\n",
    "dict_replace = {\n",
    "    'marital-status' : {\n",
    "        'Never-married': 'Not-Married',\n",
    "        'Married-civ-spouse': 'Married',\n",
    "        'Divorced': 'Not-Married',\n",
    "        'Married-spouse-absent': 'Married',\n",
    "        'Separated': 'Married',\n",
    "        'Married-AF-spouse': 'Married',\n",
    "        'Widowed': 'Not-Married'\n",
    "        },\n",
    "    'workclass': {\n",
    "        'State-gov': 'Government',\n",
    "        'Self-emp-not-inc': 'Self-Employment',\n",
    "        'Federal-gov': 'Government',\n",
    "        'Local-gov': 'Government',\n",
    "        'Self-emp-inc': 'Self-Employment'\n",
    "        }\n",
    "}\n",
    "\n",
    "df_train.replace(dict_replace, inplace=True)\n",
    "df_evaluate.replace(dict_replace, inplace=True)"
   ]
  },
  {
   "cell_type": "code",
   "execution_count": 364,
   "metadata": {},
   "outputs": [],
   "source": [
    "# standartizing the categories between the training and evaluation datasets\n",
    "# indeed, there is a . at the end of the value in the evaluation dataset for the income category and not in the training dataset\n",
    "df_evaluate[\"income\"].replace({\"<=50K.\": \"<=50K\", \">50K.\": \">50K\"}, inplace=True)"
   ]
  },
  {
   "cell_type": "code",
   "execution_count": 365,
   "metadata": {},
   "outputs": [
    {
     "name": "stdout",
     "output_type": "stream",
     "text": [
      "<class 'pandas.core.frame.DataFrame'>\n",
      "Int64Index: 15060 entries, 0 to 16280\n",
      "Data columns (total 18 columns):\n",
      " #   Column                Non-Null Count  Dtype  \n",
      "---  ------                --------------  -----  \n",
      " 0   age                   15060 non-null  int64  \n",
      " 1   workclass             15060 non-null  object \n",
      " 2   fnlwgt                15060 non-null  int64  \n",
      " 3   education-num         15060 non-null  int64  \n",
      " 4   marital-status        15060 non-null  object \n",
      " 5   race                  15060 non-null  object \n",
      " 6   sex                   15060 non-null  object \n",
      " 7   capital-gain          15060 non-null  int64  \n",
      " 8   capital-loss          15060 non-null  int64  \n",
      " 9   hours-per-week        15060 non-null  int64  \n",
      " 10  native-country        15060 non-null  object \n",
      " 11  income                15060 non-null  object \n",
      " 12  stand_age             15060 non-null  float64\n",
      " 13  stand_fnlwgt          15060 non-null  float64\n",
      " 14  stand_education-num   15060 non-null  float64\n",
      " 15  stand_capital-gain    15060 non-null  float64\n",
      " 16  stand_capital-loss    15060 non-null  float64\n",
      " 17  stand_hours-per-week  15060 non-null  float64\n",
      "dtypes: float64(6), int64(6), object(6)\n",
      "memory usage: 2.2+ MB\n"
     ]
    }
   ],
   "source": [
    "df_evaluate.info()"
   ]
  },
  {
   "cell_type": "code",
   "execution_count": 366,
   "metadata": {},
   "outputs": [],
   "source": [
    "## Converting objects into categories in the dataframe\n",
    "#for c in df_train.select_dtypes(\"object\"):\n",
    "#    df_train[c] = pd.Categorical(df_train[c])\n",
    "#for c in df_evaluate.select_dtypes(\"object\"):\n",
    "#    df_evaluate[c] = pd.Categorical(df_evaluate[c])"
   ]
  },
  {
   "cell_type": "code",
   "execution_count": 367,
   "metadata": {},
   "outputs": [
    {
     "name": "stdout",
     "output_type": "stream",
     "text": [
      "age [25 38 28 44 34 63 24 55 65 36 26 48 43 20 37 45 22 23 54 32 46 56 17 29\n",
      " 39 52 18 21 42 33 30 47 41 19 69 50 31 59 49 58 40 27 57 61 51 73 53 80\n",
      " 62 35 72 64 68 66 60 67 71 70 90 77 81 74 78 82 75 85 76 89 83 79 88 87\n",
      " 84]\n",
      "workclass ['Private' 'Government' 'Self-Employment' 'Without-pay']\n",
      "fnlwgt [226802  89814 336951 ... 350977 349230  83891]\n",
      "education-num [ 7  9 12 10  6 15  4 13 14  3 11  5 16  8  2  1]\n",
      "marital-status ['Not-Married' 'Married']\n",
      "race ['Black' 'White' 'Other' 'Amer-Indian-Eskimo' 'Asian-Pac-Islander']\n",
      "sex ['Male' 'Female']\n",
      "capital-gain [    0  7688  3103  6418  7298  3908 14084  5178 15024  2597  2907  4650\n",
      "  6497  5013 27828  4934  4064  3674  2174 10605 99999  1055   114  2580\n",
      "  3411  4508  4386  8614 13550  6849  2463  3137  2885  2964  1471 10566\n",
      "  2354  1424  1455  3325  4416 25236  4787  2829  4865  1264  1506   594\n",
      " 10520  3464 20051  4101  1797  2407  3471  2653  1086  1848 14344  1151\n",
      "  2993  2290 15020  9386  2202  3818  2176  5455  3418 11678  7978  7262\n",
      "  6514 41310  3456  7430  2062 34095  1831  6723  5060 15831  2977  2346\n",
      "  3273  2329  9562  2105  2635  2414  4931  1731  6097   914  7896  5556\n",
      "  3781  3942  2538  3887  1409 25124  7443  5721   401  1173  4687  6767\n",
      "   991  2036]\n",
      "capital-loss [   0 1721 1876 2415 1887  625 1977 2057 1429 1590 1485 2051 2377 1672\n",
      " 1628 1902 1741 2444 1408 2001 2042 1740 1825 1848 1719 3004 2179 1573\n",
      " 2205 1258 2339 1726 2258 1340 1504 2559 1668 1974 1980 1564 2547 2002\n",
      " 1669 1617  323 1602 3175 2472 1579 2129 1735 2282 1870 1911 1092 1762\n",
      " 2457 2231 2238  653 1138 2246 2603 2392 1510 1944 1380 1421 3770 1594\n",
      "  213 2824 2174 1844 2149 1411 2467 2163 1651]\n",
      "hours-per-week [40 50 30 32 10 39 48 25 20 47 35 43 90 54 60 38 45 36 18 24 44 56 28 16\n",
      " 41 22 55 14 33 37 12 70 15 75 52 84 42 80  8 68 99 65 17 72 53 96 21 46\n",
      "  3  1 49 67 76 23  2 58 26 34  4  7 51 78 63  5 31 92 77 27 29 85  6 13\n",
      " 19 98 62 66 57 86 11 59  9 64 73 61 88 79 89 74 69]\n",
      "native-country ['United-States' 'Peru' 'Guatemala' 'Mexico' 'Dominican-Republic'\n",
      " 'Ireland' 'Germany' 'Philippines' 'Thailand' 'Haiti' 'El-Salvador'\n",
      " 'Puerto-Rico' 'Vietnam' 'South' 'Columbia' 'Japan' 'India' 'Cambodia'\n",
      " 'Poland' 'Laos' 'England' 'Cuba' 'Taiwan' 'Italy' 'Canada' 'Portugal'\n",
      " 'China' 'Nicaragua' 'Honduras' 'Iran' 'Scotland' 'Jamaica' 'Ecuador'\n",
      " 'Yugoslavia' 'Hungary' 'Hong' 'Greece' 'Trinadad&Tobago'\n",
      " 'Outlying-US(Guam-USVI-etc)' 'France']\n",
      "income ['<=50K' '>50K']\n",
      "stand_age [22.10266298 35.10266298 25.10266298 41.10266298 31.10266298 60.10266298\n",
      " 21.10266298 52.10266298 62.10266298 33.10266298 23.10266298 45.10266298\n",
      " 40.10266298 17.10266298 34.10266298 42.10266298 19.10266298 20.10266298\n",
      " 51.10266298 29.10266298 43.10266298 53.10266298 14.10266298 26.10266298\n",
      " 36.10266298 49.10266298 15.10266298 18.10266298 39.10266298 30.10266298\n",
      " 27.10266298 44.10266298 38.10266298 16.10266298 66.10266298 47.10266298\n",
      " 28.10266298 56.10266298 46.10266298 55.10266298 37.10266298 24.10266298\n",
      " 54.10266298 58.10266298 48.10266298 70.10266298 50.10266298 77.10266298\n",
      " 59.10266298 32.10266298 69.10266298 61.10266298 65.10266298 63.10266298\n",
      " 57.10266298 64.10266298 68.10266298 67.10266298 87.10266298 74.10266298\n",
      " 78.10266298 71.10266298 75.10266298 79.10266298 72.10266298 82.10266298\n",
      " 73.10266298 86.10266298 80.10266298 76.10266298 85.10266298 84.10266298\n",
      " 81.10266298]\n",
      "stand_fnlwgt [226800.20464557  89812.20464557 336949.20464557 ... 350975.20464557\n",
      " 349228.20464557  83889.20464557]\n",
      "stand_education-num [ 3.04774243  5.04774243  8.04774243  6.04774243  2.04774243 11.04774243\n",
      "  0.04774243  9.04774243 10.04774243 -0.95225757  7.04774243  1.04774243\n",
      " 12.04774243  4.04774243 -1.95225757 -2.95225757]\n",
      "stand_capital-gain [-1.45433616e-01  7.68785457e+03  3.10285457e+03  6.41785457e+03\n",
      "  7.29785457e+03  3.90785457e+03  1.40838546e+04  5.17785457e+03\n",
      "  1.50238546e+04  2.59685457e+03  2.90685457e+03  4.64985457e+03\n",
      "  6.49685457e+03  5.01285457e+03  2.78278546e+04  4.93385457e+03\n",
      "  4.06385457e+03  3.67385457e+03  2.17385457e+03  1.06048546e+04\n",
      "  9.99988546e+04  1.05485457e+03  1.13854566e+02  2.57985457e+03\n",
      "  3.41085457e+03  4.50785457e+03  4.38585457e+03  8.61385457e+03\n",
      "  1.35498546e+04  6.84885457e+03  2.46285457e+03  3.13685457e+03\n",
      "  2.88485457e+03  2.96385457e+03  1.47085457e+03  1.05658546e+04\n",
      "  2.35385457e+03  1.42385457e+03  1.45485457e+03  3.32485457e+03\n",
      "  4.41585457e+03  2.52358546e+04  4.78685457e+03  2.82885457e+03\n",
      "  4.86485457e+03  1.26385457e+03  1.50585457e+03  5.93854566e+02\n",
      "  1.05198546e+04  3.46385457e+03  2.00508546e+04  4.10085457e+03\n",
      "  1.79685457e+03  2.40685457e+03  3.47085457e+03  2.65285457e+03\n",
      "  1.08585457e+03  1.84785457e+03  1.43438546e+04  1.15085457e+03\n",
      "  2.99285457e+03  2.28985457e+03  1.50198546e+04  9.38585457e+03\n",
      "  2.20185457e+03  3.81785457e+03  2.17585457e+03  5.45485457e+03\n",
      "  3.41785457e+03  1.16778546e+04  7.97785457e+03  7.26185457e+03\n",
      "  6.51385457e+03  4.13098546e+04  3.45585457e+03  7.42985457e+03\n",
      "  2.06185457e+03  3.40948546e+04  1.83085457e+03  6.72285457e+03\n",
      "  5.05985457e+03  1.58308546e+04  2.97685457e+03  2.34585457e+03\n",
      "  3.27285457e+03  2.32885457e+03  9.56185457e+03  2.10485457e+03\n",
      "  2.63485457e+03  2.41385457e+03  4.93085457e+03  1.73085457e+03\n",
      "  6.09685457e+03  9.13854566e+02  7.89585457e+03  5.55585457e+03\n",
      "  3.78085457e+03  3.94185457e+03  2.53785457e+03  3.88685457e+03\n",
      "  1.40885457e+03  2.51238546e+04  7.44285457e+03  5.72085457e+03\n",
      "  4.00854566e+02  1.17285457e+03  4.68685457e+03  6.76685457e+03\n",
      "  9.90854566e+02  2.03585457e+03]\n",
      "stand_capital-loss [-2.19162124e-01  1.72078084e+03  1.87578084e+03  2.41478084e+03\n",
      "  1.88678084e+03  6.24780838e+02  1.97678084e+03  2.05678084e+03\n",
      "  1.42878084e+03  1.58978084e+03  1.48478084e+03  2.05078084e+03\n",
      "  2.37678084e+03  1.67178084e+03  1.62778084e+03  1.90178084e+03\n",
      "  1.74078084e+03  2.44378084e+03  1.40778084e+03  2.00078084e+03\n",
      "  2.04178084e+03  1.73978084e+03  1.82478084e+03  1.84778084e+03\n",
      "  1.71878084e+03  3.00378084e+03  2.17878084e+03  1.57278084e+03\n",
      "  2.20478084e+03  1.25778084e+03  2.33878084e+03  1.72578084e+03\n",
      "  2.25778084e+03  1.33978084e+03  1.50378084e+03  2.55878084e+03\n",
      "  1.66778084e+03  1.97378084e+03  1.97978084e+03  1.56378084e+03\n",
      "  2.54678084e+03  2.00178084e+03  1.66878084e+03  1.61678084e+03\n",
      "  3.22780838e+02  1.60178084e+03  3.17478084e+03  2.47178084e+03\n",
      "  1.57878084e+03  2.12878084e+03  1.73478084e+03  2.28178084e+03\n",
      "  1.86978084e+03  1.91078084e+03  1.09178084e+03  1.76178084e+03\n",
      "  2.45678084e+03  2.23078084e+03  2.23778084e+03  6.52780838e+02\n",
      "  1.13778084e+03  2.24578084e+03  2.60278084e+03  2.39178084e+03\n",
      "  1.50978084e+03  1.94378084e+03  1.37978084e+03  1.42078084e+03\n",
      "  3.76978084e+03  1.59378084e+03  2.12780838e+02  2.82378084e+03\n",
      "  2.17378084e+03  1.84378084e+03  2.14878084e+03  1.41078084e+03\n",
      "  2.46678084e+03  2.16278084e+03  1.65078084e+03]\n",
      "stand_hours-per-week [36.60514249 46.60514249 26.60514249 28.60514249  6.60514249 35.60514249\n",
      " 44.60514249 21.60514249 16.60514249 43.60514249 31.60514249 39.60514249\n",
      " 86.60514249 50.60514249 56.60514249 34.60514249 41.60514249 32.60514249\n",
      " 14.60514249 20.60514249 40.60514249 52.60514249 24.60514249 12.60514249\n",
      " 37.60514249 18.60514249 51.60514249 10.60514249 29.60514249 33.60514249\n",
      "  8.60514249 66.60514249 11.60514249 71.60514249 48.60514249 80.60514249\n",
      " 38.60514249 76.60514249  4.60514249 64.60514249 95.60514249 61.60514249\n",
      " 13.60514249 68.60514249 49.60514249 92.60514249 17.60514249 42.60514249\n",
      " -0.39485751 -2.39485751 45.60514249 63.60514249 72.60514249 19.60514249\n",
      " -1.39485751 54.60514249 22.60514249 30.60514249  0.60514249  3.60514249\n",
      " 47.60514249 74.60514249 59.60514249  1.60514249 27.60514249 88.60514249\n",
      " 73.60514249 23.60514249 25.60514249 81.60514249  2.60514249  9.60514249\n",
      " 15.60514249 94.60514249 58.60514249 62.60514249 53.60514249 82.60514249\n",
      "  7.60514249 55.60514249  5.60514249 60.60514249 69.60514249 57.60514249\n",
      " 84.60514249 75.60514249 85.60514249 70.60514249 65.60514249]\n"
     ]
    }
   ],
   "source": [
    "for c in df_evaluate:\n",
    "    print(c, df_evaluate[c].unique())"
   ]
  },
  {
   "cell_type": "code",
   "execution_count": 414,
   "metadata": {},
   "outputs": [],
   "source": [
    "from sklearn.preprocessing import LabelEncoder\n",
    "\n",
    "# for binary categories we will be using a label encoder\n",
    "# - marital-status, sex, income\n",
    "# for non-binary categories we will be using a onehot encoder as decision trees are sensitive to leaves values\n",
    "# note that get_dummies from pandas is exactly doing this without the complexity of using OneHotEncoder manually from sklearn\n",
    "# - workclass, race, native-country\n",
    "\n",
    "for l in [\"marital-status\", \"sex\", \"income\"]:\n",
    "    l_enc = LabelEncoder()\n",
    "    encoder_train = l_enc.fit(df_train[l])\n",
    "    encoder_evaluate = l_enc.fit(df_evaluate[l])\n",
    "    df_train[\"encoded_\"+l] = encoder_train.transform(df_train[l])\n",
    "    df_evaluate[\"encoded_\"+l] = encoder_evaluate.transform(df_evaluate[l])\n",
    "\n",
    "for l in [\"workclass\", \"race\", \"native-country\"]:\n",
    "    df_train=pd.concat([df_train,pd.get_dummies(df_train[l], prefix=\"encoded_\"+l)],axis=1)\n",
    "    df_evaluate=pd.concat([df_evaluate,pd.get_dummies(df_evaluate[l], prefix=\"encoded_\"+l)],axis=1)\n",
    "    \n",
    "#df_train.reset_index(inplace=True,drop=True)\n",
    "#df_evaluate.reset_index(inplace=True,drop=True)"
   ]
  },
  {
   "cell_type": "code",
   "execution_count": 415,
   "metadata": {},
   "outputs": [
    {
     "name": "stdout",
     "output_type": "stream",
     "text": [
      "<class 'pandas.core.frame.DataFrame'>\n",
      "RangeIndex: 15060 entries, 0 to 15059\n",
      "Columns: 119 entries, age to encoded_native-country_Yugoslavia\n",
      "dtypes: float64(6), int64(9), object(6), uint8(98)\n",
      "memory usage: 3.8+ MB\n"
     ]
    }
   ],
   "source": [
    "df_evaluate.info()"
   ]
  },
  {
   "cell_type": "code",
   "execution_count": 416,
   "metadata": {},
   "outputs": [],
   "source": [
    "#df_train.select_dtypes(exclude=[\"object\",\"\"])\n",
    "columns = [c for c in df_train if c.startswith('encoded') or c.startswith('stand_')]\n",
    "columns.remove(\"encoded_income\")"
   ]
  },
  {
   "cell_type": "code",
   "execution_count": 417,
   "metadata": {},
   "outputs": [
    {
     "data": {
      "text/plain": [
       "['stand_age',\n",
       " 'stand_fnlwgt',\n",
       " 'stand_education-num',\n",
       " 'stand_capital-gain',\n",
       " 'stand_capital-loss',\n",
       " 'stand_hours-per-week',\n",
       " 'encoded_marital-status',\n",
       " 'encoded_sex',\n",
       " 'encoded_workclass_Government',\n",
       " 'encoded_workclass_Private',\n",
       " 'encoded_workclass_Self-Employment',\n",
       " 'encoded_workclass_Without-pay',\n",
       " 'encoded_race_Amer-Indian-Eskimo',\n",
       " 'encoded_race_Asian-Pac-Islander',\n",
       " 'encoded_race_Black',\n",
       " 'encoded_race_Other',\n",
       " 'encoded_race_White',\n",
       " 'encoded_native-country_Cambodia',\n",
       " 'encoded_native-country_Canada',\n",
       " 'encoded_native-country_China',\n",
       " 'encoded_native-country_Columbia',\n",
       " 'encoded_native-country_Cuba',\n",
       " 'encoded_native-country_Dominican-Republic',\n",
       " 'encoded_native-country_Ecuador',\n",
       " 'encoded_native-country_El-Salvador',\n",
       " 'encoded_native-country_England',\n",
       " 'encoded_native-country_France',\n",
       " 'encoded_native-country_Germany',\n",
       " 'encoded_native-country_Greece',\n",
       " 'encoded_native-country_Guatemala',\n",
       " 'encoded_native-country_Haiti',\n",
       " 'encoded_native-country_Holand-Netherlands',\n",
       " 'encoded_native-country_Honduras',\n",
       " 'encoded_native-country_Hong',\n",
       " 'encoded_native-country_Hungary',\n",
       " 'encoded_native-country_India',\n",
       " 'encoded_native-country_Iran',\n",
       " 'encoded_native-country_Ireland',\n",
       " 'encoded_native-country_Italy',\n",
       " 'encoded_native-country_Jamaica',\n",
       " 'encoded_native-country_Japan',\n",
       " 'encoded_native-country_Laos',\n",
       " 'encoded_native-country_Mexico',\n",
       " 'encoded_native-country_Nicaragua',\n",
       " 'encoded_native-country_Outlying-US(Guam-USVI-etc)',\n",
       " 'encoded_native-country_Peru',\n",
       " 'encoded_native-country_Philippines',\n",
       " 'encoded_native-country_Poland',\n",
       " 'encoded_native-country_Portugal',\n",
       " 'encoded_native-country_Puerto-Rico',\n",
       " 'encoded_native-country_Scotland',\n",
       " 'encoded_native-country_South',\n",
       " 'encoded_native-country_Taiwan',\n",
       " 'encoded_native-country_Thailand',\n",
       " 'encoded_native-country_Trinadad&Tobago',\n",
       " 'encoded_native-country_United-States',\n",
       " 'encoded_native-country_Vietnam',\n",
       " 'encoded_native-country_Yugoslavia',\n",
       " 'encoded_workclass_Government',\n",
       " 'encoded_workclass_Private',\n",
       " 'encoded_workclass_Self-Employment',\n",
       " 'encoded_workclass_Without-pay',\n",
       " 'encoded_race_Amer-Indian-Eskimo',\n",
       " 'encoded_race_Asian-Pac-Islander',\n",
       " 'encoded_race_Black',\n",
       " 'encoded_race_Other',\n",
       " 'encoded_race_White',\n",
       " 'encoded_native-country_Cambodia',\n",
       " 'encoded_native-country_Canada',\n",
       " 'encoded_native-country_China',\n",
       " 'encoded_native-country_Columbia',\n",
       " 'encoded_native-country_Cuba',\n",
       " 'encoded_native-country_Dominican-Republic',\n",
       " 'encoded_native-country_Ecuador',\n",
       " 'encoded_native-country_El-Salvador',\n",
       " 'encoded_native-country_England',\n",
       " 'encoded_native-country_France',\n",
       " 'encoded_native-country_Germany',\n",
       " 'encoded_native-country_Greece',\n",
       " 'encoded_native-country_Guatemala',\n",
       " 'encoded_native-country_Haiti',\n",
       " 'encoded_native-country_Holand-Netherlands',\n",
       " 'encoded_native-country_Honduras',\n",
       " 'encoded_native-country_Hong',\n",
       " 'encoded_native-country_Hungary',\n",
       " 'encoded_native-country_India',\n",
       " 'encoded_native-country_Iran',\n",
       " 'encoded_native-country_Ireland',\n",
       " 'encoded_native-country_Italy',\n",
       " 'encoded_native-country_Jamaica',\n",
       " 'encoded_native-country_Japan',\n",
       " 'encoded_native-country_Laos',\n",
       " 'encoded_native-country_Mexico',\n",
       " 'encoded_native-country_Nicaragua',\n",
       " 'encoded_native-country_Outlying-US(Guam-USVI-etc)',\n",
       " 'encoded_native-country_Peru',\n",
       " 'encoded_native-country_Philippines',\n",
       " 'encoded_native-country_Poland',\n",
       " 'encoded_native-country_Portugal',\n",
       " 'encoded_native-country_Puerto-Rico',\n",
       " 'encoded_native-country_Scotland',\n",
       " 'encoded_native-country_South',\n",
       " 'encoded_native-country_Taiwan',\n",
       " 'encoded_native-country_Thailand',\n",
       " 'encoded_native-country_Trinadad&Tobago',\n",
       " 'encoded_native-country_United-States',\n",
       " 'encoded_native-country_Vietnam',\n",
       " 'encoded_native-country_Yugoslavia']"
      ]
     },
     "execution_count": 417,
     "metadata": {},
     "output_type": "execute_result"
    }
   ],
   "source": [
    "columns"
   ]
  },
  {
   "cell_type": "code",
   "execution_count": 418,
   "metadata": {},
   "outputs": [
    {
     "ename": "KeyError",
     "evalue": "\"['encoded_native-country_Holand-Netherlands'] not in index\"",
     "output_type": "error",
     "traceback": [
      "\u001b[0;31m---------------------------------------------------------------------------\u001b[0m",
      "\u001b[0;31mKeyError\u001b[0m                                  Traceback (most recent call last)",
      "\u001b[0;32m<ipython-input-418-22cff054e1ba>\u001b[0m in \u001b[0;36m<module>\u001b[0;34m\u001b[0m\n\u001b[1;32m      3\u001b[0m \u001b[0mX_train\u001b[0m\u001b[0;34m,\u001b[0m \u001b[0mX_test\u001b[0m\u001b[0;34m,\u001b[0m \u001b[0my_train\u001b[0m\u001b[0;34m,\u001b[0m \u001b[0my_test\u001b[0m \u001b[0;34m=\u001b[0m \u001b[0mtrain_test_split\u001b[0m\u001b[0;34m(\u001b[0m\u001b[0mdf_train\u001b[0m\u001b[0;34m[\u001b[0m\u001b[0mcolumns\u001b[0m\u001b[0;34m]\u001b[0m\u001b[0;34m,\u001b[0m\u001b[0mdf_train\u001b[0m\u001b[0;34m[\u001b[0m\u001b[0;34m\"encoded_income\"\u001b[0m\u001b[0;34m]\u001b[0m\u001b[0;34m,\u001b[0m\u001b[0mtest_size\u001b[0m\u001b[0;34m=\u001b[0m\u001b[0;36m0.2\u001b[0m\u001b[0;34m,\u001b[0m\u001b[0mrandom_state\u001b[0m\u001b[0;34m=\u001b[0m\u001b[0;36m1\u001b[0m\u001b[0;34m)\u001b[0m\u001b[0;34m\u001b[0m\u001b[0;34m\u001b[0m\u001b[0m\n\u001b[1;32m      4\u001b[0m \u001b[0;34m\u001b[0m\u001b[0m\n\u001b[0;32m----> 5\u001b[0;31m \u001b[0mX_evaluate\u001b[0m \u001b[0;34m=\u001b[0m \u001b[0mdf_evaluate\u001b[0m\u001b[0;34m[\u001b[0m\u001b[0mcolumns\u001b[0m\u001b[0;34m]\u001b[0m\u001b[0;34m\u001b[0m\u001b[0;34m\u001b[0m\u001b[0m\n\u001b[0m\u001b[1;32m      6\u001b[0m \u001b[0my_evaluate\u001b[0m \u001b[0;34m=\u001b[0m \u001b[0mdf_evaluate\u001b[0m\u001b[0;34m[\u001b[0m\u001b[0;34m\"encoded_income\"\u001b[0m\u001b[0;34m]\u001b[0m\u001b[0;34m\u001b[0m\u001b[0;34m\u001b[0m\u001b[0m\n",
      "\u001b[0;32m/usr/local/lib/python3.6/dist-packages/pandas/core/frame.py\u001b[0m in \u001b[0;36m__getitem__\u001b[0;34m(self, key)\u001b[0m\n\u001b[1;32m   2910\u001b[0m             \u001b[0;32mif\u001b[0m \u001b[0mis_iterator\u001b[0m\u001b[0;34m(\u001b[0m\u001b[0mkey\u001b[0m\u001b[0;34m)\u001b[0m\u001b[0;34m:\u001b[0m\u001b[0;34m\u001b[0m\u001b[0;34m\u001b[0m\u001b[0m\n\u001b[1;32m   2911\u001b[0m                 \u001b[0mkey\u001b[0m \u001b[0;34m=\u001b[0m \u001b[0mlist\u001b[0m\u001b[0;34m(\u001b[0m\u001b[0mkey\u001b[0m\u001b[0;34m)\u001b[0m\u001b[0;34m\u001b[0m\u001b[0;34m\u001b[0m\u001b[0m\n\u001b[0;32m-> 2912\u001b[0;31m             \u001b[0mindexer\u001b[0m \u001b[0;34m=\u001b[0m \u001b[0mself\u001b[0m\u001b[0;34m.\u001b[0m\u001b[0mloc\u001b[0m\u001b[0;34m.\u001b[0m\u001b[0m_get_listlike_indexer\u001b[0m\u001b[0;34m(\u001b[0m\u001b[0mkey\u001b[0m\u001b[0;34m,\u001b[0m \u001b[0maxis\u001b[0m\u001b[0;34m=\u001b[0m\u001b[0;36m1\u001b[0m\u001b[0;34m,\u001b[0m \u001b[0mraise_missing\u001b[0m\u001b[0;34m=\u001b[0m\u001b[0;32mTrue\u001b[0m\u001b[0;34m)\u001b[0m\u001b[0;34m[\u001b[0m\u001b[0;36m1\u001b[0m\u001b[0;34m]\u001b[0m\u001b[0;34m\u001b[0m\u001b[0;34m\u001b[0m\u001b[0m\n\u001b[0m\u001b[1;32m   2913\u001b[0m \u001b[0;34m\u001b[0m\u001b[0m\n\u001b[1;32m   2914\u001b[0m         \u001b[0;31m# take() does not accept boolean indexers\u001b[0m\u001b[0;34m\u001b[0m\u001b[0;34m\u001b[0m\u001b[0;34m\u001b[0m\u001b[0m\n",
      "\u001b[0;32m/usr/local/lib/python3.6/dist-packages/pandas/core/indexing.py\u001b[0m in \u001b[0;36m_get_listlike_indexer\u001b[0;34m(self, key, axis, raise_missing)\u001b[0m\n\u001b[1;32m   1252\u001b[0m             \u001b[0mkeyarr\u001b[0m\u001b[0;34m,\u001b[0m \u001b[0mindexer\u001b[0m\u001b[0;34m,\u001b[0m \u001b[0mnew_indexer\u001b[0m \u001b[0;34m=\u001b[0m \u001b[0max\u001b[0m\u001b[0;34m.\u001b[0m\u001b[0m_reindex_non_unique\u001b[0m\u001b[0;34m(\u001b[0m\u001b[0mkeyarr\u001b[0m\u001b[0;34m)\u001b[0m\u001b[0;34m\u001b[0m\u001b[0;34m\u001b[0m\u001b[0m\n\u001b[1;32m   1253\u001b[0m \u001b[0;34m\u001b[0m\u001b[0m\n\u001b[0;32m-> 1254\u001b[0;31m         \u001b[0mself\u001b[0m\u001b[0;34m.\u001b[0m\u001b[0m_validate_read_indexer\u001b[0m\u001b[0;34m(\u001b[0m\u001b[0mkeyarr\u001b[0m\u001b[0;34m,\u001b[0m \u001b[0mindexer\u001b[0m\u001b[0;34m,\u001b[0m \u001b[0maxis\u001b[0m\u001b[0;34m,\u001b[0m \u001b[0mraise_missing\u001b[0m\u001b[0;34m=\u001b[0m\u001b[0mraise_missing\u001b[0m\u001b[0;34m)\u001b[0m\u001b[0;34m\u001b[0m\u001b[0;34m\u001b[0m\u001b[0m\n\u001b[0m\u001b[1;32m   1255\u001b[0m         \u001b[0;32mreturn\u001b[0m \u001b[0mkeyarr\u001b[0m\u001b[0;34m,\u001b[0m \u001b[0mindexer\u001b[0m\u001b[0;34m\u001b[0m\u001b[0;34m\u001b[0m\u001b[0m\n\u001b[1;32m   1256\u001b[0m \u001b[0;34m\u001b[0m\u001b[0m\n",
      "\u001b[0;32m/usr/local/lib/python3.6/dist-packages/pandas/core/indexing.py\u001b[0m in \u001b[0;36m_validate_read_indexer\u001b[0;34m(self, key, indexer, axis, raise_missing)\u001b[0m\n\u001b[1;32m   1302\u001b[0m             \u001b[0;32mif\u001b[0m \u001b[0mraise_missing\u001b[0m\u001b[0;34m:\u001b[0m\u001b[0;34m\u001b[0m\u001b[0;34m\u001b[0m\u001b[0m\n\u001b[1;32m   1303\u001b[0m                 \u001b[0mnot_found\u001b[0m \u001b[0;34m=\u001b[0m \u001b[0mlist\u001b[0m\u001b[0;34m(\u001b[0m\u001b[0mset\u001b[0m\u001b[0;34m(\u001b[0m\u001b[0mkey\u001b[0m\u001b[0;34m)\u001b[0m \u001b[0;34m-\u001b[0m \u001b[0mset\u001b[0m\u001b[0;34m(\u001b[0m\u001b[0max\u001b[0m\u001b[0;34m)\u001b[0m\u001b[0;34m)\u001b[0m\u001b[0;34m\u001b[0m\u001b[0;34m\u001b[0m\u001b[0m\n\u001b[0;32m-> 1304\u001b[0;31m                 \u001b[0;32mraise\u001b[0m \u001b[0mKeyError\u001b[0m\u001b[0;34m(\u001b[0m\u001b[0;34mf\"{not_found} not in index\"\u001b[0m\u001b[0;34m)\u001b[0m\u001b[0;34m\u001b[0m\u001b[0;34m\u001b[0m\u001b[0m\n\u001b[0m\u001b[1;32m   1305\u001b[0m \u001b[0;34m\u001b[0m\u001b[0m\n\u001b[1;32m   1306\u001b[0m             \u001b[0;31m# we skip the warning on Categorical\u001b[0m\u001b[0;34m\u001b[0m\u001b[0;34m\u001b[0m\u001b[0;34m\u001b[0m\u001b[0m\n",
      "\u001b[0;31mKeyError\u001b[0m: \"['encoded_native-country_Holand-Netherlands'] not in index\""
     ]
    }
   ],
   "source": [
    "from sklearn.model_selection import train_test_split\n",
    "\n",
    "X_train, X_test, y_train, y_test = train_test_split(df_train[columns],df_train[\"encoded_income\"],test_size=0.2,random_state=1)\n",
    "\n",
    "#X_evaluate = df_evaluate[columns]\n",
    "#y_evaluate = df_evaluate[\"encoded_income\"]"
   ]
  },
  {
   "cell_type": "code",
   "execution_count": 423,
   "metadata": {},
   "outputs": [
    {
     "data": {
      "text/plain": [
       "208"
      ]
     },
     "execution_count": 423,
     "metadata": {},
     "output_type": "execute_result"
    }
   ],
   "source": [
    "len(df_train.columns)"
   ]
  },
  {
   "cell_type": "code",
   "execution_count": 425,
   "metadata": {},
   "outputs": [
    {
     "data": {
      "text/plain": [
       "119"
      ]
     },
     "execution_count": 425,
     "metadata": {},
     "output_type": "execute_result"
    }
   ],
   "source": [
    "len(df_evaluate.columns)"
   ]
  },
  {
   "cell_type": "code",
   "execution_count": 7,
   "metadata": {},
   "outputs": [
    {
     "data": {
      "image/png": "[encoded data removed]",
      "text/plain": [
       "<Figure size 432x288 with 1 Axes>"
      ]
     },
     "metadata": {
      "needs_background": "light"
     },
     "output_type": "display_data"
    }
   ],
   "source": [
    "# run a decision tree classifier\n",
    "\n",
    "from sklearn.tree import DecisionTreeClassifier\n",
    "from sklearn.metrics import accuracy_score\n",
    "import matplotlib.pyplot as plt\n",
    "\n",
    "parameter_dtree_min = 1\n",
    "parameter_dtree_max = 15\n",
    "preds_dtree_train=[]\n",
    "preds_dtree_test=[]\n",
    "for depth in range(parameter_dtree_min,parameter_dtree_max):\n",
    "    cl_dtree = DecisionTreeClassifier(criterion='gini', random_state=1,max_depth=depth)\n",
    "    dtree_model = cl_dtree.fit(X_train,y_train)\n",
    "    y_hat_dtree_train = dtree_model.predict(X_train)\n",
    "    y_hat_dtree_test = dtree_model.predict(X_test)\n",
    "    preds_dtree_train.append(accuracy_score(y_train,y_hat_dtree_train))\n",
    "    preds_dtree_test.append(accuracy_score(y_test,y_hat_dtree_test))\n",
    "    #print(depth,\"Train accuracy_score\",preds_train[-1])\n",
    "    #print(depth,\"Test accuracy_score\",preds_test[-1],\"\\n\")\n",
    "    \n",
    "plt.scatter(range(parameter_dtree_min,parameter_dtree_max),preds_dtree_train,c=\"b\",label=\"train score\")\n",
    "plt.scatter(range(parameter_dtree_min,parameter_dtree_max),preds_dtree_test,c=\"r\",label=\"test score\")\n",
    "plt.legend(loc=\"upper left\")\n",
    "plt.title('DecisionTreeClassifier: accuracy_score vs depth')\n",
    "plt.xlabel('depth')\n",
    "plt.ylabel('accuracy_score')\n",
    "plt.savefig('DecisionTreeClassifier.png')\n",
    "plt.show()"
   ]
  },
  {
   "cell_type": "code",
   "execution_count": 8,
   "metadata": {},
   "outputs": [
    {
     "name": "stdout",
     "output_type": "stream",
     "text": [
      "depth=9 Train accuracy_score 0.8387417630237474\n",
      "depth=9 Test accuracy_score 0.8262887452345433\n",
      "depth=9 Evaluation accuracy_score 0.8281540504648074 \n",
      "\n"
     ]
    }
   ],
   "source": [
    "#present depth with best score for evaluation dataset\n",
    "max_dtree_index = preds_dtree_test.index(max(preds_dtree_test))\n",
    "best_depth = list(range(parameter_dtree_min,parameter_dtree_max))[max_dtree_index]\n",
    "cl_dtree = DecisionTreeClassifier(criterion='gini', random_state=1,max_depth=best_depth)\n",
    "dtree_model = cl_dtree.fit(X_train,y_train)\n",
    "y_hat_dtree_train = dtree_model.predict(X_train)\n",
    "y_hat_dtree_test = dtree_model.predict(X_test)\n",
    "y_hat_dtree_evaluate = dtree_model.predict(X_evaluate)\n",
    "print(\"depth=\"+str(best_depth),\"Train accuracy_score\",accuracy_score(y_train,y_hat_dtree_train))\n",
    "print(\"depth=\"+str(best_depth),\"Test accuracy_score\",accuracy_score(y_test,y_hat_dtree_test))\n",
    "print(\"depth=\"+str(best_depth),\"Evaluation accuracy_score\",accuracy_score(y_evaluate,y_hat_dtree_evaluate),\"\\n\")"
   ]
  },
  {
   "cell_type": "code",
   "execution_count": null,
   "metadata": {},
   "outputs": [],
   "source": []
  },
  {
   "cell_type": "code",
   "execution_count": null,
   "metadata": {},
   "outputs": [],
   "source": []
  },
  {
   "cell_type": "code",
   "execution_count": null,
   "metadata": {},
   "outputs": [],
   "source": []
  },
  {
   "cell_type": "code",
   "execution_count": 3,
   "metadata": {},
   "outputs": [
    {
     "name": "stderr",
     "output_type": "stream",
     "text": [
      "/usr/local/lib/python3.6/dist-packages/pandas/io/parsers.py:767: ParserWarning: Falling back to the 'python' engine because the 'c' engine does not support regex separators (separators > 1 char and different from '\\s+' are interpreted as regex); you can avoid this warning by specifying engine='python'.\n",
      "  return read_csv(**locals())\n",
      "/usr/local/lib/python3.6/dist-packages/pandas/io/parsers.py:767: ParserWarning: Falling back to the 'python' engine because the 'c' engine does not support regex separators (separators > 1 char and different from '\\s+' are interpreted as regex); you can avoid this warning by specifying engine='python'.\n",
      "  return read_csv(**locals())\n"
     ]
    },
    {
     "name": "stdout",
     "output_type": "stream",
     "text": [
      "*************************************************\n",
      "Searching best Depth for Decision Tree Classifier\n",
      "************************************************* \n",
      "\n",
      "***************************************************\n",
      "Searching best K for K-Nearest Neighbors Classifier\n",
      "*************************************************** \n",
      "\n",
      "*********************************************\n",
      "Evaluate Decision Tree Classifier on new data\n",
      "********************************************* \n",
      "\n",
      "depth=8 Train accuracy_score 0.8356749140038957\n",
      "depth=8 Test accuracy_score 0.832587435769932\n",
      "depth=8 Evaluation accuracy_score 0.8287516600265604 \n",
      "\n",
      "***********************************\n",
      "Evaluate KNN Classifier on new data\n",
      "*********************************** \n",
      "\n",
      "k=23 Train accuracy_score 0.7969248621990136\n",
      "k=23 Test accuracy_score 0.7876678269517653\n",
      "k=23 Evaluation accuracy_score 0.7931606905710491 \n",
      "\n"
     ]
    }
   ],
   "source": [
    "%run main.py"
   ]
  },
  {
   "cell_type": "code",
   "execution_count": null,
   "metadata": {},
   "outputs": [],
   "source": []
  }
 ],
 "metadata": {
  "kernelspec": {
   "display_name": "Python 3",
   "language": "python",
   "name": "python3"
  },
  "language_info": {
   "codemirror_mode": {
    "name": "ipython",
    "version": 3
   },
   "file_extension": ".py",
   "mimetype": "text/x-python",
   "name": "python",
   "nbconvert_exporter": "python",
   "pygments_lexer": "ipython3",
   "version": "3.6.9"
  }
 },
 "nbformat": 4,
 "nbformat_minor": 4
}
