{
 "cells": [
  {
   "cell_type": "code",
<<<<<<< HEAD
   "execution_count": 1,
   "metadata": {},
   "outputs": [
    {
     "name": "stderr",
     "output_type": "stream",
     "text": [
      "/usr/local/lib/python3.6/dist-packages/pandas/io/parsers.py:767: ParserWarning: Falling back to the 'python' engine because the 'c' engine does not support regex separators (separators > 1 char and different from '\\s+' are interpreted as regex); you can avoid this warning by specifying engine='python'.\n",
      "  return read_csv(**locals())\n",
      "/usr/local/lib/python3.6/dist-packages/pandas/io/parsers.py:767: ParserWarning: Falling back to the 'python' engine because the 'c' engine does not support regex separators (separators > 1 char and different from '\\s+' are interpreted as regex); you can avoid this warning by specifying engine='python'.\n",
      "  return read_csv(**locals())\n"
     ]
=======
   "execution_count": 74,
   "metadata": {},
   "outputs": [
    {
     "data": {
      "text/plain": [
       "(30162, 15)"
      ]
     },
     "execution_count": 74,
     "metadata": {},
     "output_type": "execute_result"
>>>>>>> 6d4f90128b1d13bd43866c3037cb66f6d1cf0a81
    }
   ],
   "source": [
    "#%run main.py\n",
    "# in the specifications (adult.names): Unknown values are replaced with the character '?'\n",
<<<<<<< HEAD
=======
    "# however in facts it's ' ?'\n",
    "#df_train.shape #(32561, 15)\n",
    "#df_train[14:15][\"native-country\"].values #array([' ?'], dtype=object)\n",
>>>>>>> 6d4f90128b1d13bd43866c3037cb66f6d1cf0a81
    "\n",
    "import pandas as pd\n",
    "\n",
    "def prepare_datasets():\n",
    "    header = ['age','workclass','fnlwgt','education','education-num',\n",
    "              'marital-status','occupation','relationship','race','sex',\n",
    "              'capital-gain','capital-loss','hours-per-week','native-country','income']\n",
<<<<<<< HEAD
    "    train = pd.read_table(\"adult.data\", sep=r',\\s', na_values='?', header=None, names=header).dropna()\n",
    "    evaluate = pd.read_table(\"adult.test\", sep=r',\\s', na_values='?', skiprows=[0], header=None, names=header).dropna()\n",
    "    return train, evaluate\n",
    "\n",
    "df_train, df_evaluate = prepare_datasets()"
=======
    "    train = pd.read_table(\"adult.data\", sep=\",\", na_values=' ?', header=None, names=header).dropna()\n",
    "    test = pd.read_table(\"adult.test\", sep=\",\", na_values=' ?', skiprows=[0], header=None, names=header).dropna()\n",
    "    return train, test\n",
    "\n",
    "df_train, df_test = prepare_datasets()\n",
    "df_train.shape"
>>>>>>> 6d4f90128b1d13bd43866c3037cb66f6d1cf0a81
   ]
  },
  {
   "cell_type": "code",
   "execution_count": 2,
   "metadata": {},
<<<<<<< HEAD
   "outputs": [],
   "source": [
    "#df_train.shape"
   ]
  },
  {
   "cell_type": "code",
   "execution_count": 3,
   "metadata": {},
   "outputs": [],
=======
   "outputs": [
    {
     "name": "stdout",
     "output_type": "stream",
     "text": [
      "<class 'pandas.core.frame.DataFrame'>\n",
      "Int64Index: 30162 entries, 0 to 32560\n",
      "Data columns (total 15 columns):\n",
      " #   Column          Non-Null Count  Dtype \n",
      "---  ------          --------------  ----- \n",
      " 0   age             30162 non-null  int64 \n",
      " 1   workclass       30162 non-null  object\n",
      " 2   fnlwgt          30162 non-null  int64 \n",
      " 3   education       30162 non-null  object\n",
      " 4   education-num   30162 non-null  int64 \n",
      " 5   marital-status  30162 non-null  object\n",
      " 6   occupation      30162 non-null  object\n",
      " 7   relationship    30162 non-null  object\n",
      " 8   race            30162 non-null  object\n",
      " 9   sex             30162 non-null  object\n",
      " 10  capital-gain    30162 non-null  int64 \n",
      " 11  capital-loss    30162 non-null  int64 \n",
      " 12  hours-per-week  30162 non-null  int64 \n",
      " 13  native-country  30162 non-null  object\n",
      " 14  income          30162 non-null  object\n",
      "dtypes: int64(6), object(9)\n",
      "memory usage: 3.7+ MB\n"
     ]
    }
   ],
>>>>>>> 6d4f90128b1d13bd43866c3037cb66f6d1cf0a81
   "source": [
    "#df_train.info()"
   ]
  },
  {
   "cell_type": "code",
<<<<<<< HEAD
   "execution_count": 4,
   "metadata": {},
   "outputs": [],
=======
   "execution_count": 3,
   "metadata": {},
   "outputs": [
    {
     "data": {
      "text/html": [
       "<div>\n",
       "<style scoped>\n",
       "    .dataframe tbody tr th:only-of-type {\n",
       "        vertical-align: middle;\n",
       "    }\n",
       "\n",
       "    .dataframe tbody tr th {\n",
       "        vertical-align: top;\n",
       "    }\n",
       "\n",
       "    .dataframe thead th {\n",
       "        text-align: right;\n",
       "    }\n",
       "</style>\n",
       "<table border=\"1\" class=\"dataframe\">\n",
       "  <thead>\n",
       "    <tr style=\"text-align: right;\">\n",
       "      <th></th>\n",
       "      <th>age</th>\n",
       "      <th>fnlwgt</th>\n",
       "      <th>education-num</th>\n",
       "      <th>capital-gain</th>\n",
       "      <th>capital-loss</th>\n",
       "      <th>hours-per-week</th>\n",
       "    </tr>\n",
       "  </thead>\n",
       "  <tbody>\n",
       "    <tr>\n",
       "      <th>0</th>\n",
       "      <td>39</td>\n",
       "      <td>77516</td>\n",
       "      <td>13</td>\n",
       "      <td>2174</td>\n",
       "      <td>0</td>\n",
       "      <td>40</td>\n",
       "    </tr>\n",
       "    <tr>\n",
       "      <th>1</th>\n",
       "      <td>50</td>\n",
       "      <td>83311</td>\n",
       "      <td>13</td>\n",
       "      <td>0</td>\n",
       "      <td>0</td>\n",
       "      <td>13</td>\n",
       "    </tr>\n",
       "    <tr>\n",
       "      <th>2</th>\n",
       "      <td>38</td>\n",
       "      <td>215646</td>\n",
       "      <td>9</td>\n",
       "      <td>0</td>\n",
       "      <td>0</td>\n",
       "      <td>40</td>\n",
       "    </tr>\n",
       "    <tr>\n",
       "      <th>3</th>\n",
       "      <td>53</td>\n",
       "      <td>234721</td>\n",
       "      <td>7</td>\n",
       "      <td>0</td>\n",
       "      <td>0</td>\n",
       "      <td>40</td>\n",
       "    </tr>\n",
       "    <tr>\n",
       "      <th>4</th>\n",
       "      <td>28</td>\n",
       "      <td>338409</td>\n",
       "      <td>13</td>\n",
       "      <td>0</td>\n",
       "      <td>0</td>\n",
       "      <td>40</td>\n",
       "    </tr>\n",
       "    <tr>\n",
       "      <th>...</th>\n",
       "      <td>...</td>\n",
       "      <td>...</td>\n",
       "      <td>...</td>\n",
       "      <td>...</td>\n",
       "      <td>...</td>\n",
       "      <td>...</td>\n",
       "    </tr>\n",
       "    <tr>\n",
       "      <th>32556</th>\n",
       "      <td>27</td>\n",
       "      <td>257302</td>\n",
       "      <td>12</td>\n",
       "      <td>0</td>\n",
       "      <td>0</td>\n",
       "      <td>38</td>\n",
       "    </tr>\n",
       "    <tr>\n",
       "      <th>32557</th>\n",
       "      <td>40</td>\n",
       "      <td>154374</td>\n",
       "      <td>9</td>\n",
       "      <td>0</td>\n",
       "      <td>0</td>\n",
       "      <td>40</td>\n",
       "    </tr>\n",
       "    <tr>\n",
       "      <th>32558</th>\n",
       "      <td>58</td>\n",
       "      <td>151910</td>\n",
       "      <td>9</td>\n",
       "      <td>0</td>\n",
       "      <td>0</td>\n",
       "      <td>40</td>\n",
       "    </tr>\n",
       "    <tr>\n",
       "      <th>32559</th>\n",
       "      <td>22</td>\n",
       "      <td>201490</td>\n",
       "      <td>9</td>\n",
       "      <td>0</td>\n",
       "      <td>0</td>\n",
       "      <td>20</td>\n",
       "    </tr>\n",
       "    <tr>\n",
       "      <th>32560</th>\n",
       "      <td>52</td>\n",
       "      <td>287927</td>\n",
       "      <td>9</td>\n",
       "      <td>15024</td>\n",
       "      <td>0</td>\n",
       "      <td>40</td>\n",
       "    </tr>\n",
       "  </tbody>\n",
       "</table>\n",
       "<p>30162 rows × 6 columns</p>\n",
       "</div>"
      ],
      "text/plain": [
       "       age  fnlwgt  education-num  capital-gain  capital-loss  hours-per-week\n",
       "0       39   77516             13          2174             0              40\n",
       "1       50   83311             13             0             0              13\n",
       "2       38  215646              9             0             0              40\n",
       "3       53  234721              7             0             0              40\n",
       "4       28  338409             13             0             0              40\n",
       "...    ...     ...            ...           ...           ...             ...\n",
       "32556   27  257302             12             0             0              38\n",
       "32557   40  154374              9             0             0              40\n",
       "32558   58  151910              9             0             0              40\n",
       "32559   22  201490              9             0             0              20\n",
       "32560   52  287927              9         15024             0              40\n",
       "\n",
       "[30162 rows x 6 columns]"
      ]
     },
     "execution_count": 3,
     "metadata": {},
     "output_type": "execute_result"
    }
   ],
>>>>>>> 6d4f90128b1d13bd43866c3037cb66f6d1cf0a81
   "source": [
    "#df_train.select_dtypes(exclude=['object'])#.insert(#+df_train[\"income\"]\n",
    "#df_train.info()"
   ]
  },
  {
   "cell_type": "code",
<<<<<<< HEAD
   "execution_count": 5,
=======
   "execution_count": 75,
>>>>>>> 6d4f90128b1d13bd43866c3037cb66f6d1cf0a81
   "metadata": {},
   "outputs": [],
   "source": [
    "# only keep non-categorical values but keeping the income catagory\n",
    "# careful with the income category not the same in train and test sets\n",
<<<<<<< HEAD
    "df_train = df_train.select_dtypes(exclude=['object']).join(df_train.income.replace(\"<=50K\",0).replace(\">50K\",1))\n",
    "df_evaluate = df_evaluate.select_dtypes(exclude=['object']).join(df_evaluate.income.replace(\"<=50K.\",0).replace(\">50K.\",1))"
=======
    "df_train = df_train.select_dtypes(exclude=['object']).join(df_train.income.replace(\" <=50K\",0).replace(\" >50K\",1))\n",
    "df_test = df_test.select_dtypes(exclude=['object']).join(df_test.income.replace(\" <=50K.\",0).replace(\" >50K.\",1))"
>>>>>>> 6d4f90128b1d13bd43866c3037cb66f6d1cf0a81
   ]
  },
  {
   "cell_type": "code",
<<<<<<< HEAD
   "execution_count": 6,
   "metadata": {},
   "outputs": [],
   "source": [
    "from sklearn.model_selection import train_test_split\n",
    "\n",
    "X_train, X_test, y_train, y_test = train_test_split(df_train[list(df_train.columns)[:-1]],df_train[list(df_train.columns)[-1]],test_size=0.2,random_state=1)\n",
    "\n",
    "X_evaluate = df_evaluate[list(df_evaluate.columns)[:-1]]\n",
    "y_evaluate = df_evaluate[list(df_evaluate.columns)[-1]]"
=======
   "execution_count": 80,
   "metadata": {},
   "outputs": [],
   "source": [
    "X_train = df_train[list(df_train.columns)[:-1]]\n",
    "y_train = df_train[list(df_train.columns)[-1]]\n",
    "\n",
    "X_test = df_test[list(df_test.columns)[:-1]]\n",
    "y_test = df_test[list(df_test.columns)[-1]]"
>>>>>>> 6d4f90128b1d13bd43866c3037cb66f6d1cf0a81
   ]
  },
  {
   "cell_type": "code",
<<<<<<< HEAD
   "execution_count": 7,
=======
   "execution_count": 132,
>>>>>>> 6d4f90128b1d13bd43866c3037cb66f6d1cf0a81
   "metadata": {},
   "outputs": [
    {
     "data": {
<<<<<<< HEAD
      "image/png": "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\n",
=======
      "image/png": "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\n",
>>>>>>> 6d4f90128b1d13bd43866c3037cb66f6d1cf0a81
      "text/plain": [
       "<Figure size 432x288 with 1 Axes>"
      ]
     },
     "metadata": {
      "needs_background": "light"
     },
     "output_type": "display_data"
    }
   ],
   "source": [
    "# run a decision tree classifier\n",
    "\n",
    "from sklearn.tree import DecisionTreeClassifier\n",
    "from sklearn.metrics import accuracy_score\n",
<<<<<<< HEAD
    "import matplotlib.pyplot as plt\n",
    "\n",
    "parameter_dtree_min = 1\n",
    "parameter_dtree_max = 15\n",
    "preds_dtree_train=[]\n",
    "preds_dtree_test=[]\n",
    "for depth in range(parameter_dtree_min,parameter_dtree_max):\n",
    "    cl_dtree = DecisionTreeClassifier(criterion='gini', random_state=1,max_depth=depth)\n",
    "    dtree_model = cl_dtree.fit(X_train,y_train)\n",
    "    y_hat_dtree_train = dtree_model.predict(X_train)\n",
    "    y_hat_dtree_test = dtree_model.predict(X_test)\n",
    "    preds_dtree_train.append(accuracy_score(y_train,y_hat_dtree_train))\n",
    "    preds_dtree_test.append(accuracy_score(y_test,y_hat_dtree_test))\n",
    "    #print(depth,\"Train accuracy_score\",preds_train[-1])\n",
    "    #print(depth,\"Test accuracy_score\",preds_test[-1],\"\\n\")\n",
    "    \n",
    "plt.scatter(range(parameter_dtree_min,parameter_dtree_max),preds_dtree_train,c=\"b\",label=\"train score\")\n",
    "plt.scatter(range(parameter_dtree_min,parameter_dtree_max),preds_dtree_test,c=\"r\",label=\"test score\")\n",
    "plt.legend(loc=\"upper left\")\n",
    "plt.title('DecisionTreeClassifier: accuracy_score vs depth')\n",
    "plt.xlabel('depth')\n",
    "plt.ylabel('accuracy_score')\n",
    "plt.savefig('DecisionTreeClassifier.png')\n",
=======
    "\n",
    "parameter_min = 1\n",
    "parameter_max = 15\n",
    "preds_train=[]\n",
    "preds_test=[]\n",
    "for depth in range(parameter_min,parameter_max):\n",
    "    cl_dtree = DecisionTreeClassifier(criterion='gini', random_state=1,max_depth=depth)\n",
    "    dtree_model = cl_dtree.fit(X_train,y_train)\n",
    "    y_hat_train = dtree_model.predict(X_train)\n",
    "    y_hat_test = dtree_model.predict(X_test)\n",
    "    preds_train.append(accuracy_score(y_train,y_hat_train))\n",
    "    preds_test.append(accuracy_score(y_test,y_hat_test))\n",
    "    #print(depth,\"Train accuracy_score\",preds_train[-1])\n",
    "    #print(depth,\"Test accuracy_score\",preds_test[-1],\"\\n\")\n",
    "    \n",
    "plt.scatter(range(parameter_min,parameter_max),preds_train,c=\"b\",label=\"train score\")\n",
    "plt.scatter(range(parameter_min,parameter_max),preds_test,c=\"r\",label=\"test score\")\n",
    "plt.legend(loc=\"upper left\")\n",
>>>>>>> 6d4f90128b1d13bd43866c3037cb66f6d1cf0a81
    "plt.show()"
   ]
  },
  {
   "cell_type": "code",
<<<<<<< HEAD
   "execution_count": 8,
=======
   "execution_count": 134,
>>>>>>> 6d4f90128b1d13bd43866c3037cb66f6d1cf0a81
   "metadata": {},
   "outputs": [
    {
     "name": "stdout",
     "output_type": "stream",
     "text": [
<<<<<<< HEAD
      "depth=9 Train accuracy_score 0.8387417630237474\n",
      "depth=9 Test accuracy_score 0.8262887452345433\n",
      "depth=9 Evaluation accuracy_score 0.8281540504648074 \n",
=======
      "for depth=8 Train accuracy_score 0.8354883628406604\n",
      "for depth=8 Test accuracy_score 0.8292828685258964 \n",
>>>>>>> 6d4f90128b1d13bd43866c3037cb66f6d1cf0a81
      "\n"
     ]
    }
   ],
   "source": [
<<<<<<< HEAD
    "#present depth with best score for evaluation dataset\n",
    "max_dtree_index = preds_dtree_test.index(max(preds_dtree_test))\n",
    "best_depth = list(range(parameter_dtree_min,parameter_dtree_max))[max_dtree_index]\n",
    "cl_dtree = DecisionTreeClassifier(criterion='gini', random_state=1,max_depth=best_depth)\n",
    "dtree_model = cl_dtree.fit(X_train,y_train)\n",
    "y_hat_dtree_train = dtree_model.predict(X_train)\n",
    "y_hat_dtree_test = dtree_model.predict(X_test)\n",
    "y_hat_dtree_evaluate = dtree_model.predict(X_evaluate)\n",
    "print(\"depth=\"+str(best_depth),\"Train accuracy_score\",accuracy_score(y_train,y_hat_dtree_train))\n",
    "print(\"depth=\"+str(best_depth),\"Test accuracy_score\",accuracy_score(y_test,y_hat_dtree_test))\n",
    "print(\"depth=\"+str(best_depth),\"Evaluation accuracy_score\",accuracy_score(y_evaluate,y_hat_dtree_evaluate),\"\\n\")"
=======
    "#present depth with best score\n",
    "max_index = preds_test.index(max(preds_test))\n",
    "best_depth = list(range(parameter_min,parameter_max))[max_index]\n",
    "cl_dtree = DecisionTreeClassifier(criterion='gini', random_state=1,max_depth=best_depth)\n",
    "dtree_model = cl_dtree.fit(X_train,y_train)\n",
    "y_hat_train = dtree_model.predict(X_train)\n",
    "y_hat_test = dtree_model.predict(X_test)\n",
    "print(\"for depth=\"+str(best_depth),\"Train accuracy_score\",accuracy_score(y_train,y_hat_train))\n",
    "print(\"for depth=\"+str(best_depth),\"Test accuracy_score\",accuracy_score(y_test,y_hat_test),\"\\n\")"
>>>>>>> 6d4f90128b1d13bd43866c3037cb66f6d1cf0a81
   ]
  },
  {
   "cell_type": "code",
   "execution_count": null,
   "metadata": {},
   "outputs": [],
   "source": []
  },
  {
   "cell_type": "code",
<<<<<<< HEAD
   "execution_count": 9,
=======
   "execution_count": 115,
>>>>>>> 6d4f90128b1d13bd43866c3037cb66f6d1cf0a81
   "metadata": {},
   "outputs": [
    {
     "data": {
<<<<<<< HEAD
      "image/png": "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\n",
=======
      "image/png": "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\n",
>>>>>>> 6d4f90128b1d13bd43866c3037cb66f6d1cf0a81
      "text/plain": [
       "<Figure size 432x288 with 1 Axes>"
      ]
     },
     "metadata": {
      "needs_background": "light"
     },
     "output_type": "display_data"
    }
   ],
   "source": [
    "from sklearn.neighbors import KNeighborsClassifier\n",
    "import matplotlib.pyplot as plt\n",
    "\n",
<<<<<<< HEAD
    "parameter_knn_min = 2\n",
    "parameter_knn_max = 30\n",
    "preds_knn_train=[]\n",
    "preds_knn_test=[]\n",
    "for k in range(parameter_knn_min,parameter_knn_max):\n",
    "    cl_knn = KNeighborsClassifier(n_neighbors = k)\n",
    "    knn_model = cl_knn.fit(X_train, y_train)\n",
    "    y_hat_dtree_train = knn_model.predict(X_train)\n",
    "    y_hat_dtree_test = knn_model.predict(X_test)\n",
    "    preds_knn_train.append(accuracy_score(y_train,y_hat_dtree_train))\n",
    "    preds_knn_test.append(accuracy_score(y_test,y_hat_dtree_test))\n",
    "    #print(k,\"Train accuracy_score\",preds_train[-1])\n",
    "    #print(k,\"Test accuracy_score\",preds_test[-1],\"\\n\")\n",
    "\n",
    "plt.scatter(range(parameter_knn_min,parameter_knn_max),preds_knn_train,c=\"b\",label=\"train score\")\n",
    "plt.scatter(range(parameter_knn_min,parameter_knn_max),preds_knn_test,c=\"r\",label=\"test score\")\n",
    "plt.legend(loc=\"upper left\")\n",
    "plt.title('KNeighborsClassifier: accuracy_score vs k neighbors')\n",
    "plt.xlabel('k neighbors')\n",
    "plt.ylabel('accuracy_score')\n",
    "plt.savefig('KNeighborsClassifier.png')\n",
=======
    "parameter_min = 1\n",
    "parameter_max = 30\n",
    "preds_train=[]\n",
    "preds_test=[]\n",
    "for neighbors in range(parameter_min,parameter_max):\n",
    "    cl_knn = KNeighborsClassifier(n_neighbors = neighbors)\n",
    "    knn_model = cl_knn.fit(X_train, y_train)\n",
    "    y_hat_train = knn_model.predict(X_train)\n",
    "    y_hat_test = knn_model.predict(X_test)\n",
    "    preds_train.append(accuracy_score(y_train,y_hat_train))\n",
    "    preds_test.append(accuracy_score(y_test,y_hat_test))\n",
    "    #print(neighbors,\"Train accuracy_score\",preds_train[-1])\n",
    "    #print(neighbors,\"Test accuracy_score\",preds_test[-1],\"\\n\")\n",
    "\n",
    "plt.scatter(range(parameter_min,parameter_max),preds_train,c=\"b\",label=\"train score\")\n",
    "plt.scatter(range(parameter_min,parameter_max),preds_test,c=\"r\",label=\"test score\")\n",
    "plt.legend(loc=\"upper left\")\n",
>>>>>>> 6d4f90128b1d13bd43866c3037cb66f6d1cf0a81
    "plt.show()"
   ]
  },
  {
   "cell_type": "code",
<<<<<<< HEAD
   "execution_count": 10,
=======
   "execution_count": 130,
>>>>>>> 6d4f90128b1d13bd43866c3037cb66f6d1cf0a81
   "metadata": {},
   "outputs": [
    {
     "name": "stdout",
     "output_type": "stream",
     "text": [
<<<<<<< HEAD
      "k=25 Train accuracy_score 0.7970491939160347\n",
      "k=25 Test accuracy_score 0.7870048068954086\n",
      "k=25 Evaluation accuracy_score 0.7928286852589641 \n",
=======
      "for k=29 Train accuracy_score 0.7967309860088854\n",
      "for k=29 Test accuracy_score 0.796281540504648 \n",
>>>>>>> 6d4f90128b1d13bd43866c3037cb66f6d1cf0a81
      "\n"
     ]
    }
   ],
   "source": [
<<<<<<< HEAD
    "#present k with best score for evaluation dataset\n",
    "max_knn_index = preds_knn_test.index(max(preds_knn_test))\n",
    "best_k = list(range(parameter_knn_min,parameter_knn_max))[max_knn_index]\n",
    "cl_knn = KNeighborsClassifier(n_neighbors = best_k)\n",
    "knn_model = cl_knn.fit(X_train,y_train)\n",
    "y_hat_dtree_train = knn_model.predict(X_train)\n",
    "y_hat_dtree_test = knn_model.predict(X_test)\n",
    "y_hat_dtree_evaluate = knn_model.predict(X_evaluate)\n",
    "print(\"k=\"+str(best_k),\"Train accuracy_score\",accuracy_score(y_train,y_hat_dtree_train))\n",
    "print(\"k=\"+str(best_k),\"Test accuracy_score\",accuracy_score(y_test,y_hat_dtree_test))\n",
    "print(\"k=\"+str(best_k),\"Evaluation accuracy_score\",accuracy_score(y_evaluate,y_hat_dtree_evaluate),\"\\n\")"
=======
    "#present k with best score\n",
    "max_index = preds_test.index(max(preds_test))\n",
    "best_k = list(range(parameter_min,parameter_max))[max_index]\n",
    "cl_knn = KNeighborsClassifier(n_neighbors = best_k)\n",
    "knn_model = cl_knn.fit(X_train, y_train)\n",
    "y_hat_train = knn_model.predict(X_train)\n",
    "y_hat_test = knn_model.predict(X_test)\n",
    "print(\"for k=\"+str(neighbors),\"Train accuracy_score\",accuracy_score(y_train,y_hat_train))\n",
    "print(\"for k=\"+str(neighbors),\"Test accuracy_score\",accuracy_score(y_test,y_hat_test),\"\\n\")"
>>>>>>> 6d4f90128b1d13bd43866c3037cb66f6d1cf0a81
   ]
  },
  {
   "cell_type": "code",
   "execution_count": null,
   "metadata": {},
   "outputs": [],
   "source": []
  },
  {
   "cell_type": "code",
   "execution_count": null,
   "metadata": {},
   "outputs": [],
   "source": []
  },
  {
   "cell_type": "code",
<<<<<<< HEAD
   "execution_count": 11,
   "metadata": {},
   "outputs": [
    {
     "name": "stderr",
     "output_type": "stream",
     "text": [
      "/usr/local/lib/python3.6/dist-packages/pandas/io/parsers.py:767: ParserWarning: Falling back to the 'python' engine because the 'c' engine does not support regex separators (separators > 1 char and different from '\\s+' are interpreted as regex); you can avoid this warning by specifying engine='python'.\n",
      "  return read_csv(**locals())\n",
      "/usr/local/lib/python3.6/dist-packages/pandas/io/parsers.py:767: ParserWarning: Falling back to the 'python' engine because the 'c' engine does not support regex separators (separators > 1 char and different from '\\s+' are interpreted as regex); you can avoid this warning by specifying engine='python'.\n",
      "  return read_csv(**locals())\n"
     ]
    },
    {
     "name": "stdout",
     "output_type": "stream",
     "text": [
      "************************\n",
      "Decision Tree Classifier\n",
      "************************ \n",
      "\n",
      "depth=8 Train accuracy_score 0.8356749140038957\n",
      "depth=8 Test accuracy_score 0.832587435769932\n",
      "depth=8 Evaluation accuracy_score 0.8287516600265604 \n",
      "\n",
      "******************************\n",
      "K-Nearest Neighbors Classifier\n",
      "****************************** \n",
      "\n",
      "k=23 Train accuracy_score 0.7969248621990136\n",
      "k=23 Test accuracy_score 0.7876678269517653\n",
      "k=23 Evaluation accuracy_score 0.7931606905710491 \n",
      "\n"
=======
   "execution_count": null,
   "metadata": {},
   "outputs": [],
   "source": []
  },
  {
   "cell_type": "code",
   "execution_count": 118,
   "metadata": {},
   "outputs": [
    {
     "name": "stdout",
     "output_type": "stream",
     "text": [
      "Decision Tree Classifier\n"
     ]
    },
    {
     "data": {
      "image/png": "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\n",
      "text/plain": [
       "<Figure size 432x288 with 1 Axes>"
      ]
     },
     "metadata": {
      "needs_background": "light"
     },
     "output_type": "display_data"
    },
    {
     "name": "stdout",
     "output_type": "stream",
     "text": [
      "K-Nearest Neighbors Classifier\n"
>>>>>>> 6d4f90128b1d13bd43866c3037cb66f6d1cf0a81
     ]
    },
    {
     "data": {
<<<<<<< HEAD
      "text/plain": [
       "<Figure size 432x288 with 0 Axes>"
      ]
     },
     "metadata": {},
=======
      "image/png": "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\n",
      "text/plain": [
       "<Figure size 432x288 with 1 Axes>"
      ]
     },
     "metadata": {
      "needs_background": "light"
     },
>>>>>>> 6d4f90128b1d13bd43866c3037cb66f6d1cf0a81
     "output_type": "display_data"
    }
   ],
   "source": [
    "%run main.py"
   ]
  },
  {
   "cell_type": "code",
   "execution_count": null,
   "metadata": {},
   "outputs": [],
   "source": []
  }
 ],
 "metadata": {
  "kernelspec": {
   "display_name": "Python 3",
   "language": "python",
   "name": "python3"
  },
  "language_info": {
   "codemirror_mode": {
    "name": "ipython",
    "version": 3
   },
   "file_extension": ".py",
   "mimetype": "text/x-python",
   "name": "python",
   "nbconvert_exporter": "python",
   "pygments_lexer": "ipython3",
   "version": "3.6.9"
  }
 },
 "nbformat": 4,
 "nbformat_minor": 4
}
